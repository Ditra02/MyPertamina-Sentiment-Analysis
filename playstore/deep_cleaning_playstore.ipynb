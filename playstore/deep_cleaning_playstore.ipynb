{
  "nbformat": 4,
  "nbformat_minor": 0,
  "metadata": {
    "colab": {
      "provenance": [],
      "collapsed_sections": [
        "615fDstpIB-7",
        "ViFVe1OLyoli",
        "IUZ-70elyckn",
        "XWA7tu1_SQMN",
        "g2NkMZa5Sbdi",
        "KVXuxslZSiDC",
        "xr7vXALE86tQ",
        "3nlRDrKe9HFq",
        "VV3IReklDlcP",
        "TXEHgUUVD1NN"
      ]
    },
    "kernelspec": {
      "name": "python3",
      "display_name": "Python 3"
    },
    "language_info": {
      "name": "python"
    }
  },
  "cells": [
    {
      "cell_type": "markdown",
      "source": [
        "# Dependencies"
      ],
      "metadata": {
        "id": "615fDstpIB-7"
      }
    },
    {
      "cell_type": "code",
      "source": [
        "import pandas as pd\n",
        "import numpy as np\n",
        "import re"
      ],
      "metadata": {
        "id": "rf64gmBiIEdN"
      },
      "execution_count": null,
      "outputs": []
    },
    {
      "cell_type": "code",
      "source": [
        "!pip install nlp-id"
      ],
      "metadata": {
        "colab": {
          "base_uri": "https://localhost:8080/"
        },
        "id": "7FOEzi8KT7Mu",
        "outputId": "17dfd147-fae3-4566-b46a-9b48c52536ff"
      },
      "execution_count": null,
      "outputs": [
        {
          "output_type": "stream",
          "name": "stdout",
          "text": [
            "Requirement already satisfied: nlp-id in /usr/local/lib/python3.10/dist-packages (0.1.15.0)\n",
            "Requirement already satisfied: scikit-learn==1.2.2 in /usr/local/lib/python3.10/dist-packages (from nlp-id) (1.2.2)\n",
            "Requirement already satisfied: nltk==3.8.1 in /usr/local/lib/python3.10/dist-packages (from nlp-id) (3.8.1)\n",
            "Requirement already satisfied: wget==3.2 in /usr/local/lib/python3.10/dist-packages (from nlp-id) (3.2)\n",
            "Requirement already satisfied: pytest==7.3.1 in /usr/local/lib/python3.10/dist-packages (from nlp-id) (7.3.1)\n",
            "Requirement already satisfied: click in /usr/local/lib/python3.10/dist-packages (from nltk==3.8.1->nlp-id) (8.1.7)\n",
            "Requirement already satisfied: joblib in /usr/local/lib/python3.10/dist-packages (from nltk==3.8.1->nlp-id) (1.3.2)\n",
            "Requirement already satisfied: regex>=2021.8.3 in /usr/local/lib/python3.10/dist-packages (from nltk==3.8.1->nlp-id) (2023.12.25)\n",
            "Requirement already satisfied: tqdm in /usr/local/lib/python3.10/dist-packages (from nltk==3.8.1->nlp-id) (4.66.2)\n",
            "Requirement already satisfied: iniconfig in /usr/local/lib/python3.10/dist-packages (from pytest==7.3.1->nlp-id) (2.0.0)\n",
            "Requirement already satisfied: packaging in /usr/local/lib/python3.10/dist-packages (from pytest==7.3.1->nlp-id) (24.0)\n",
            "Requirement already satisfied: pluggy<2.0,>=0.12 in /usr/local/lib/python3.10/dist-packages (from pytest==7.3.1->nlp-id) (1.4.0)\n",
            "Requirement already satisfied: exceptiongroup>=1.0.0rc8 in /usr/local/lib/python3.10/dist-packages (from pytest==7.3.1->nlp-id) (1.2.0)\n",
            "Requirement already satisfied: tomli>=1.0.0 in /usr/local/lib/python3.10/dist-packages (from pytest==7.3.1->nlp-id) (2.0.1)\n",
            "Requirement already satisfied: numpy>=1.17.3 in /usr/local/lib/python3.10/dist-packages (from scikit-learn==1.2.2->nlp-id) (1.25.2)\n",
            "Requirement already satisfied: scipy>=1.3.2 in /usr/local/lib/python3.10/dist-packages (from scikit-learn==1.2.2->nlp-id) (1.11.4)\n",
            "Requirement already satisfied: threadpoolctl>=2.0.0 in /usr/local/lib/python3.10/dist-packages (from scikit-learn==1.2.2->nlp-id) (3.4.0)\n"
          ]
        }
      ]
    },
    {
      "cell_type": "markdown",
      "source": [
        "# Deep Cleaning"
      ],
      "metadata": {
        "id": "O6ySYJ58HkUz"
      }
    },
    {
      "cell_type": "markdown",
      "source": [
        "## Get dirty data"
      ],
      "metadata": {
        "id": "ViFVe1OLyoli"
      }
    },
    {
      "cell_type": "code",
      "source": [
        "%cd '/content/drive/MyDrive/Magang/DDB/sentimen mypertamina playstore'"
      ],
      "metadata": {
        "colab": {
          "base_uri": "https://localhost:8080/"
        },
        "id": "HGF-1r0yH7lw",
        "outputId": "0ff7e98b-27f5-4081-fe48-ba06a72b134f"
      },
      "execution_count": null,
      "outputs": [
        {
          "output_type": "stream",
          "name": "stdout",
          "text": [
            "/content/drive/MyDrive/Magang/DDB/sentimen mypertamina playstore\n"
          ]
        }
      ]
    },
    {
      "cell_type": "code",
      "source": [
        "# we can get the data by scraping at playstore_mypertamina\n",
        "df = pd.read_csv('filtered_data.csv')"
      ],
      "metadata": {
        "id": "wSg-NmU5II5l"
      },
      "execution_count": null,
      "outputs": []
    },
    {
      "cell_type": "code",
      "source": [
        "df.info()"
      ],
      "metadata": {
        "colab": {
          "base_uri": "https://localhost:8080/"
        },
        "id": "zSaW-8B2INEw",
        "outputId": "840bed5c-ddf1-4d18-c7c0-aae0be36f106"
      },
      "execution_count": null,
      "outputs": [
        {
          "output_type": "stream",
          "name": "stdout",
          "text": [
            "<class 'pandas.core.frame.DataFrame'>\n",
            "RangeIndex: 185 entries, 0 to 184\n",
            "Data columns (total 11 columns):\n",
            " #   Column                Non-Null Count  Dtype  \n",
            "---  ------                --------------  -----  \n",
            " 0   reviewId              185 non-null    object \n",
            " 1   userName              185 non-null    object \n",
            " 2   userImage             185 non-null    object \n",
            " 3   content               185 non-null    object \n",
            " 4   score                 185 non-null    int64  \n",
            " 5   thumbsUpCount         185 non-null    int64  \n",
            " 6   reviewCreatedVersion  185 non-null    object \n",
            " 7   at                    185 non-null    object \n",
            " 8   replyContent          0 non-null      float64\n",
            " 9   repliedAt             0 non-null      float64\n",
            " 10  appVersion            185 non-null    object \n",
            "dtypes: float64(2), int64(2), object(7)\n",
            "memory usage: 16.0+ KB\n"
          ]
        }
      ]
    },
    {
      "cell_type": "code",
      "source": [
        "df = df[['content']]\n",
        "df.head(5)"
      ],
      "metadata": {
        "colab": {
          "base_uri": "https://localhost:8080/"
        },
        "id": "est5PrwNINuu",
        "outputId": "96b66a86-0c8c-489e-8748-63ac4c6b39ae"
      },
      "execution_count": null,
      "outputs": [
        {
          "output_type": "execute_result",
          "data": {
            "text/plain": [
              "                                             content\n",
              "0  Aplikasi itu harusnya memudahkan, ini malah se...\n",
              "1  Aplikasinya dalam 2 bulan terakhir ini mengece...\n",
              "2  Aplikasi sampah. Sudah setahun lebih gak ada i...\n",
              "3  Aplikasi tidak berguna dan membingungkan, pend...\n",
              "4  SUGGESTION: Pada halaman ketika mengisi biodat..."
            ],
            "text/html": [
              "\n",
              "  <div id=\"df-be9b4844-10e2-430d-917a-ed33514dc407\" class=\"colab-df-container\">\n",
              "    <div>\n",
              "<style scoped>\n",
              "    .dataframe tbody tr th:only-of-type {\n",
              "        vertical-align: middle;\n",
              "    }\n",
              "\n",
              "    .dataframe tbody tr th {\n",
              "        vertical-align: top;\n",
              "    }\n",
              "\n",
              "    .dataframe thead th {\n",
              "        text-align: right;\n",
              "    }\n",
              "</style>\n",
              "<table border=\"1\" class=\"dataframe\">\n",
              "  <thead>\n",
              "    <tr style=\"text-align: right;\">\n",
              "      <th></th>\n",
              "      <th>content</th>\n",
              "    </tr>\n",
              "  </thead>\n",
              "  <tbody>\n",
              "    <tr>\n",
              "      <th>0</th>\n",
              "      <td>Aplikasi itu harusnya memudahkan, ini malah se...</td>\n",
              "    </tr>\n",
              "    <tr>\n",
              "      <th>1</th>\n",
              "      <td>Aplikasinya dalam 2 bulan terakhir ini mengece...</td>\n",
              "    </tr>\n",
              "    <tr>\n",
              "      <th>2</th>\n",
              "      <td>Aplikasi sampah. Sudah setahun lebih gak ada i...</td>\n",
              "    </tr>\n",
              "    <tr>\n",
              "      <th>3</th>\n",
              "      <td>Aplikasi tidak berguna dan membingungkan, pend...</td>\n",
              "    </tr>\n",
              "    <tr>\n",
              "      <th>4</th>\n",
              "      <td>SUGGESTION: Pada halaman ketika mengisi biodat...</td>\n",
              "    </tr>\n",
              "  </tbody>\n",
              "</table>\n",
              "</div>\n",
              "    <div class=\"colab-df-buttons\">\n",
              "\n",
              "  <div class=\"colab-df-container\">\n",
              "    <button class=\"colab-df-convert\" onclick=\"convertToInteractive('df-be9b4844-10e2-430d-917a-ed33514dc407')\"\n",
              "            title=\"Convert this dataframe to an interactive table.\"\n",
              "            style=\"display:none;\">\n",
              "\n",
              "  <svg xmlns=\"http://www.w3.org/2000/svg\" height=\"24px\" viewBox=\"0 -960 960 960\">\n",
              "    <path d=\"M120-120v-720h720v720H120Zm60-500h600v-160H180v160Zm220 220h160v-160H400v160Zm0 220h160v-160H400v160ZM180-400h160v-160H180v160Zm440 0h160v-160H620v160ZM180-180h160v-160H180v160Zm440 0h160v-160H620v160Z\"/>\n",
              "  </svg>\n",
              "    </button>\n",
              "\n",
              "  <style>\n",
              "    .colab-df-container {\n",
              "      display:flex;\n",
              "      gap: 12px;\n",
              "    }\n",
              "\n",
              "    .colab-df-convert {\n",
              "      background-color: #E8F0FE;\n",
              "      border: none;\n",
              "      border-radius: 50%;\n",
              "      cursor: pointer;\n",
              "      display: none;\n",
              "      fill: #1967D2;\n",
              "      height: 32px;\n",
              "      padding: 0 0 0 0;\n",
              "      width: 32px;\n",
              "    }\n",
              "\n",
              "    .colab-df-convert:hover {\n",
              "      background-color: #E2EBFA;\n",
              "      box-shadow: 0px 1px 2px rgba(60, 64, 67, 0.3), 0px 1px 3px 1px rgba(60, 64, 67, 0.15);\n",
              "      fill: #174EA6;\n",
              "    }\n",
              "\n",
              "    .colab-df-buttons div {\n",
              "      margin-bottom: 4px;\n",
              "    }\n",
              "\n",
              "    [theme=dark] .colab-df-convert {\n",
              "      background-color: #3B4455;\n",
              "      fill: #D2E3FC;\n",
              "    }\n",
              "\n",
              "    [theme=dark] .colab-df-convert:hover {\n",
              "      background-color: #434B5C;\n",
              "      box-shadow: 0px 1px 3px 1px rgba(0, 0, 0, 0.15);\n",
              "      filter: drop-shadow(0px 1px 2px rgba(0, 0, 0, 0.3));\n",
              "      fill: #FFFFFF;\n",
              "    }\n",
              "  </style>\n",
              "\n",
              "    <script>\n",
              "      const buttonEl =\n",
              "        document.querySelector('#df-be9b4844-10e2-430d-917a-ed33514dc407 button.colab-df-convert');\n",
              "      buttonEl.style.display =\n",
              "        google.colab.kernel.accessAllowed ? 'block' : 'none';\n",
              "\n",
              "      async function convertToInteractive(key) {\n",
              "        const element = document.querySelector('#df-be9b4844-10e2-430d-917a-ed33514dc407');\n",
              "        const dataTable =\n",
              "          await google.colab.kernel.invokeFunction('convertToInteractive',\n",
              "                                                    [key], {});\n",
              "        if (!dataTable) return;\n",
              "\n",
              "        const docLinkHtml = 'Like what you see? Visit the ' +\n",
              "          '<a target=\"_blank\" href=https://colab.research.google.com/notebooks/data_table.ipynb>data table notebook</a>'\n",
              "          + ' to learn more about interactive tables.';\n",
              "        element.innerHTML = '';\n",
              "        dataTable['output_type'] = 'display_data';\n",
              "        await google.colab.output.renderOutput(dataTable, element);\n",
              "        const docLink = document.createElement('div');\n",
              "        docLink.innerHTML = docLinkHtml;\n",
              "        element.appendChild(docLink);\n",
              "      }\n",
              "    </script>\n",
              "  </div>\n",
              "\n",
              "\n",
              "<div id=\"df-fb0fcdce-8a41-4d05-b962-47bf08195639\">\n",
              "  <button class=\"colab-df-quickchart\" onclick=\"quickchart('df-fb0fcdce-8a41-4d05-b962-47bf08195639')\"\n",
              "            title=\"Suggest charts\"\n",
              "            style=\"display:none;\">\n",
              "\n",
              "<svg xmlns=\"http://www.w3.org/2000/svg\" height=\"24px\"viewBox=\"0 0 24 24\"\n",
              "     width=\"24px\">\n",
              "    <g>\n",
              "        <path d=\"M19 3H5c-1.1 0-2 .9-2 2v14c0 1.1.9 2 2 2h14c1.1 0 2-.9 2-2V5c0-1.1-.9-2-2-2zM9 17H7v-7h2v7zm4 0h-2V7h2v10zm4 0h-2v-4h2v4z\"/>\n",
              "    </g>\n",
              "</svg>\n",
              "  </button>\n",
              "\n",
              "<style>\n",
              "  .colab-df-quickchart {\n",
              "      --bg-color: #E8F0FE;\n",
              "      --fill-color: #1967D2;\n",
              "      --hover-bg-color: #E2EBFA;\n",
              "      --hover-fill-color: #174EA6;\n",
              "      --disabled-fill-color: #AAA;\n",
              "      --disabled-bg-color: #DDD;\n",
              "  }\n",
              "\n",
              "  [theme=dark] .colab-df-quickchart {\n",
              "      --bg-color: #3B4455;\n",
              "      --fill-color: #D2E3FC;\n",
              "      --hover-bg-color: #434B5C;\n",
              "      --hover-fill-color: #FFFFFF;\n",
              "      --disabled-bg-color: #3B4455;\n",
              "      --disabled-fill-color: #666;\n",
              "  }\n",
              "\n",
              "  .colab-df-quickchart {\n",
              "    background-color: var(--bg-color);\n",
              "    border: none;\n",
              "    border-radius: 50%;\n",
              "    cursor: pointer;\n",
              "    display: none;\n",
              "    fill: var(--fill-color);\n",
              "    height: 32px;\n",
              "    padding: 0;\n",
              "    width: 32px;\n",
              "  }\n",
              "\n",
              "  .colab-df-quickchart:hover {\n",
              "    background-color: var(--hover-bg-color);\n",
              "    box-shadow: 0 1px 2px rgba(60, 64, 67, 0.3), 0 1px 3px 1px rgba(60, 64, 67, 0.15);\n",
              "    fill: var(--button-hover-fill-color);\n",
              "  }\n",
              "\n",
              "  .colab-df-quickchart-complete:disabled,\n",
              "  .colab-df-quickchart-complete:disabled:hover {\n",
              "    background-color: var(--disabled-bg-color);\n",
              "    fill: var(--disabled-fill-color);\n",
              "    box-shadow: none;\n",
              "  }\n",
              "\n",
              "  .colab-df-spinner {\n",
              "    border: 2px solid var(--fill-color);\n",
              "    border-color: transparent;\n",
              "    border-bottom-color: var(--fill-color);\n",
              "    animation:\n",
              "      spin 1s steps(1) infinite;\n",
              "  }\n",
              "\n",
              "  @keyframes spin {\n",
              "    0% {\n",
              "      border-color: transparent;\n",
              "      border-bottom-color: var(--fill-color);\n",
              "      border-left-color: var(--fill-color);\n",
              "    }\n",
              "    20% {\n",
              "      border-color: transparent;\n",
              "      border-left-color: var(--fill-color);\n",
              "      border-top-color: var(--fill-color);\n",
              "    }\n",
              "    30% {\n",
              "      border-color: transparent;\n",
              "      border-left-color: var(--fill-color);\n",
              "      border-top-color: var(--fill-color);\n",
              "      border-right-color: var(--fill-color);\n",
              "    }\n",
              "    40% {\n",
              "      border-color: transparent;\n",
              "      border-right-color: var(--fill-color);\n",
              "      border-top-color: var(--fill-color);\n",
              "    }\n",
              "    60% {\n",
              "      border-color: transparent;\n",
              "      border-right-color: var(--fill-color);\n",
              "    }\n",
              "    80% {\n",
              "      border-color: transparent;\n",
              "      border-right-color: var(--fill-color);\n",
              "      border-bottom-color: var(--fill-color);\n",
              "    }\n",
              "    90% {\n",
              "      border-color: transparent;\n",
              "      border-bottom-color: var(--fill-color);\n",
              "    }\n",
              "  }\n",
              "</style>\n",
              "\n",
              "  <script>\n",
              "    async function quickchart(key) {\n",
              "      const quickchartButtonEl =\n",
              "        document.querySelector('#' + key + ' button');\n",
              "      quickchartButtonEl.disabled = true;  // To prevent multiple clicks.\n",
              "      quickchartButtonEl.classList.add('colab-df-spinner');\n",
              "      try {\n",
              "        const charts = await google.colab.kernel.invokeFunction(\n",
              "            'suggestCharts', [key], {});\n",
              "      } catch (error) {\n",
              "        console.error('Error during call to suggestCharts:', error);\n",
              "      }\n",
              "      quickchartButtonEl.classList.remove('colab-df-spinner');\n",
              "      quickchartButtonEl.classList.add('colab-df-quickchart-complete');\n",
              "    }\n",
              "    (() => {\n",
              "      let quickchartButtonEl =\n",
              "        document.querySelector('#df-fb0fcdce-8a41-4d05-b962-47bf08195639 button');\n",
              "      quickchartButtonEl.style.display =\n",
              "        google.colab.kernel.accessAllowed ? 'block' : 'none';\n",
              "    })();\n",
              "  </script>\n",
              "</div>\n",
              "    </div>\n",
              "  </div>\n"
            ],
            "application/vnd.google.colaboratory.intrinsic+json": {
              "type": "dataframe",
              "variable_name": "df",
              "summary": "{\n  \"name\": \"df\",\n  \"rows\": 185,\n  \"fields\": [\n    {\n      \"column\": \"content\",\n      \"properties\": {\n        \"dtype\": \"string\",\n        \"num_unique_values\": 185,\n        \"samples\": [\n          \"Ini bukannya memudahkan tapi menyulitkan, saya sudah daftar bolak balik tetep gagal gara gara foto kendaraan yang kurang jelas lah, nopol tidak kelihatan lah, foto sudah bagus dan sangat jelas sekali sampai pinjam hp teman yang kameranya lebih bagus tetap saja gagal foto tidak jelas mulu\",\n          \"Bukannya aplikasi memudahkan malah menyulitkan, selalu ada bug, klo blm clear knp sudah realese ini aplikasi , pengembang gak ada perubahan\",\n          \"Menunggu verifikasi dr 3 hari belum ada tanda2 mau di acc, ga bisa berbuat apa2 hanya bisa menunggu saja\"\n        ],\n        \"semantic_type\": \"\",\n        \"description\": \"\"\n      }\n    }\n  ]\n}"
            }
          },
          "metadata": {},
          "execution_count": 6
        }
      ]
    },
    {
      "cell_type": "markdown",
      "source": [
        "## Load necessary file for cleaning"
      ],
      "metadata": {
        "id": "IUZ-70elyckn"
      }
    },
    {
      "cell_type": "code",
      "source": [
        "%cd '/content/drive/MyDrive/Magang/DDB/sentimen mypertamina playstore'"
      ],
      "metadata": {
        "colab": {
          "base_uri": "https://localhost:8080/"
        },
        "id": "6CTXBsEbtLcJ",
        "outputId": "433a83fe-edbc-413c-ee94-93cfd5103ee4"
      },
      "execution_count": null,
      "outputs": [
        {
          "output_type": "stream",
          "name": "stdout",
          "text": [
            "/content/drive/MyDrive/Magang/DDB/sentimen mypertamina playstore\n"
          ]
        }
      ]
    },
    {
      "cell_type": "markdown",
      "source": [
        "### root words"
      ],
      "metadata": {
        "id": "XWA7tu1_SQMN"
      }
    },
    {
      "cell_type": "code",
      "source": [
        "file_path = 'combined_root_words.txt'\n",
        "\n",
        "with open(file_path, \"r\") as file:\n",
        "    root_words = file.readlines()\n",
        "\n",
        "root_words = [word.strip() for word in root_words]"
      ],
      "metadata": {
        "id": "LkQidd-YD7aR"
      },
      "execution_count": null,
      "outputs": []
    },
    {
      "cell_type": "code",
      "source": [
        "len(root_words)"
      ],
      "metadata": {
        "colab": {
          "base_uri": "https://localhost:8080/"
        },
        "id": "vANwe_oct6v7",
        "outputId": "fd1061eb-f404-487b-d721-995b4f1879fc"
      },
      "execution_count": null,
      "outputs": [
        {
          "output_type": "execute_result",
          "data": {
            "text/plain": [
              "28010"
            ]
          },
          "metadata": {},
          "execution_count": 9
        }
      ]
    },
    {
      "cell_type": "code",
      "source": [
        "root_words[:3]"
      ],
      "metadata": {
        "colab": {
          "base_uri": "https://localhost:8080/"
        },
        "id": "h8VtiofTvY35",
        "outputId": "17d2f405-9114-4f76-c437-abcd51b094a2"
      },
      "execution_count": null,
      "outputs": [
        {
          "output_type": "execute_result",
          "data": {
            "text/plain": [
              "['abad', 'abah', 'abangan']"
            ]
          },
          "metadata": {},
          "execution_count": 10
        }
      ]
    },
    {
      "cell_type": "markdown",
      "source": [
        "### slang words"
      ],
      "metadata": {
        "id": "g2NkMZa5Sbdi"
      }
    },
    {
      "cell_type": "code",
      "source": [
        "import ast\n",
        "\n",
        "# Specify the path to your text file\n",
        "file_path = 'combined_slang_words.txt'\n",
        "\n",
        "# Open the file and read its contents\n",
        "with open(file_path, \"r\") as file:\n",
        "    # Read the entire contents of the file as a string\n",
        "    file_contents = file.read()\n",
        "\n",
        "    # Safely parse the string representation of the dictionary\n",
        "    slang_words = ast.literal_eval(file_contents)"
      ],
      "metadata": {
        "id": "F__jeWeut8qm"
      },
      "execution_count": null,
      "outputs": []
    },
    {
      "cell_type": "code",
      "source": [
        "len(slang_words)"
      ],
      "metadata": {
        "colab": {
          "base_uri": "https://localhost:8080/"
        },
        "id": "KZQqlG3pupB5",
        "outputId": "568ae66b-fafd-4fca-cfdb-0c9b664cdd59"
      },
      "execution_count": null,
      "outputs": [
        {
          "output_type": "execute_result",
          "data": {
            "text/plain": [
              "1018"
            ]
          },
          "metadata": {},
          "execution_count": 12
        }
      ]
    },
    {
      "cell_type": "code",
      "source": [
        "slang_words"
      ],
      "metadata": {
        "colab": {
          "base_uri": "https://localhost:8080/"
        },
        "id": "vwB4nXZ3x9DD",
        "outputId": "7e4fcd30-9571-49ec-a18d-2c563347c58b"
      },
      "execution_count": null,
      "outputs": [
        {
          "output_type": "execute_result",
          "data": {
            "text/plain": [
              "{'@': 'di',\n",
              " 'abis': 'habis',\n",
              " 'ad': 'ada',\n",
              " 'adlh': 'adalah',\n",
              " 'afaik': 'as far as i know',\n",
              " 'ahaha': 'haha',\n",
              " 'aj': 'saja',\n",
              " 'ajep-ajep': 'dunia gemerlap',\n",
              " 'ak': 'saya',\n",
              " 'akika': 'aku',\n",
              " 'akkoh': 'aku',\n",
              " 'akuwh': 'aku',\n",
              " 'alay': 'norak',\n",
              " 'alow': 'halo',\n",
              " 'ambilin': 'ambilkan',\n",
              " 'ancur': 'hancur',\n",
              " 'anjrit': 'anjing',\n",
              " 'anter': 'antar',\n",
              " 'ap2': 'apa-apa',\n",
              " 'apasih': 'apa sih',\n",
              " 'apes': 'sial',\n",
              " 'aps': 'apa',\n",
              " 'aq': 'saya',\n",
              " 'aquwh': 'aku',\n",
              " 'asbun': 'asal bunyi',\n",
              " 'aseekk': 'asyik',\n",
              " 'asekk': 'asyik',\n",
              " 'asem': 'asam',\n",
              " 'aspal': 'asli tetapi palsu',\n",
              " 'astul': 'asal tulis',\n",
              " 'ato': 'atau',\n",
              " 'au ah': 'tidak mau tahu',\n",
              " 'awak': 'saya',\n",
              " 'ay': 'sayang',\n",
              " 'ayank': 'sayang',\n",
              " 'b4': 'sebelum',\n",
              " 'bakalan': 'akan',\n",
              " 'bandes': 'bantuan desa',\n",
              " 'bangedh': 'banget',\n",
              " 'banpol': 'bantuan polisi',\n",
              " 'banpur': 'bantuan tempur',\n",
              " 'basbang': 'basi',\n",
              " 'bcanda': 'bercanda',\n",
              " 'bdg': 'bandung',\n",
              " 'begajulan': 'nakal',\n",
              " 'beliin': 'belikan',\n",
              " 'bencong': 'banci',\n",
              " 'bentar': 'sebentar',\n",
              " 'ber3': 'bertiga',\n",
              " 'beresin': 'membereskan',\n",
              " 'bete': 'bosan',\n",
              " 'beud': 'banget',\n",
              " 'bg': 'abang',\n",
              " 'bgmn': 'bagaimana',\n",
              " 'bgt': 'banget',\n",
              " 'bijimane': 'bagaimana',\n",
              " 'bintal': 'bimbingan mental',\n",
              " 'bkl': 'akan',\n",
              " 'bknnya': 'bukannya',\n",
              " 'blegug': 'bodoh',\n",
              " 'blh': 'boleh',\n",
              " 'bln': 'bulan',\n",
              " 'blum': 'belum',\n",
              " 'bnci': 'benci',\n",
              " 'bnran': 'yang benar',\n",
              " 'bodor': 'lucu',\n",
              " 'bokap': 'ayah',\n",
              " 'boker': 'buang air besar',\n",
              " 'bokis': 'bohong',\n",
              " 'boljug': 'boleh juga',\n",
              " 'bonek': 'bocah nekat',\n",
              " 'boyeh': 'boleh',\n",
              " 'br': 'baru',\n",
              " 'brg': 'bareng',\n",
              " 'bro': 'saudara laki-laki',\n",
              " 'bru': 'baru',\n",
              " 'bs': 'bisa',\n",
              " 'bsen': 'bosan',\n",
              " 'bt': 'buat',\n",
              " 'btw': 'ngomong-ngomong',\n",
              " 'buaya': 'tidak setia',\n",
              " 'bubbu': 'tidur',\n",
              " 'bubu': 'tidur',\n",
              " 'bumil': 'ibu hamil',\n",
              " 'bw': 'bawa',\n",
              " 'bwt': 'buat',\n",
              " 'byk': 'banyak',\n",
              " 'byrin': 'bayarkan',\n",
              " 'cabal': 'sabar',\n",
              " 'cadas': 'keren',\n",
              " 'calo': 'makelar',\n",
              " 'can': 'belum',\n",
              " 'capcus': 'pergi',\n",
              " 'caper': 'cari perhatian',\n",
              " 'ce': 'cewek',\n",
              " 'cekal': 'cegah tangkal',\n",
              " 'cemen': 'penakut',\n",
              " 'cengengesan': 'tertawa',\n",
              " 'cepet': 'cepat',\n",
              " 'cew': 'cewek',\n",
              " 'chuyunk': 'sayang',\n",
              " 'cimeng': 'ganja',\n",
              " 'cipika cipiki': 'cium pipi kanan cium pipi kiri',\n",
              " 'ciyh': 'sih',\n",
              " 'ckepp': 'cakep',\n",
              " 'ckp': 'cakep',\n",
              " 'cmiiw': \"correct me if i'm wrong\",\n",
              " 'cmpur': 'campur',\n",
              " 'cong': 'banci',\n",
              " 'conlok': 'cinta lokasi',\n",
              " 'cowwyy': 'maaf',\n",
              " 'cp': 'siapa',\n",
              " 'cpe': 'capek',\n",
              " 'cppe': 'capek',\n",
              " 'cucok': 'cocok',\n",
              " 'cuex': 'cuek',\n",
              " 'cumi': 'Cuma miscall',\n",
              " 'cups': 'culun',\n",
              " 'curanmor': 'pencurian kendaraan bermotor',\n",
              " 'curcol': 'curahan hati colongan',\n",
              " 'cwek': 'cewek',\n",
              " 'cyin': 'cinta',\n",
              " 'd': 'di',\n",
              " 'dah': 'deh',\n",
              " 'dapet': 'dapat',\n",
              " 'de': 'adik',\n",
              " 'dek': 'adik',\n",
              " 'demen': 'suka',\n",
              " 'deyh': 'deh',\n",
              " 'dgn': 'dengan',\n",
              " 'diancurin': 'dihancurkan',\n",
              " 'dimaafin': 'dimaafkan',\n",
              " 'dimintak': 'diminta',\n",
              " 'disono': 'di sana',\n",
              " 'dket': 'dekat',\n",
              " 'dkk': 'dan kawan-kawan',\n",
              " 'dll': 'dan lain-lain',\n",
              " 'dlu': 'dulu',\n",
              " 'dngn': 'dengan',\n",
              " 'dodol': 'bodoh',\n",
              " 'doku': 'uang',\n",
              " 'dongs': 'dong',\n",
              " 'dpt': 'dapat',\n",
              " 'dri': 'dari',\n",
              " 'drmn': 'darimana',\n",
              " 'drtd': 'dari tadi',\n",
              " 'dst': 'dan seterusnya',\n",
              " 'dtg': 'datang',\n",
              " 'duh': 'aduh',\n",
              " 'duren': 'durian',\n",
              " 'ed': 'edisi',\n",
              " 'egp': 'emang gue pikirin',\n",
              " 'eke': 'aku',\n",
              " 'elu': 'kamu',\n",
              " 'emangnya': 'memangnya',\n",
              " 'emng': 'memang',\n",
              " 'endak': 'tidak',\n",
              " 'enggak': 'tidak',\n",
              " 'envy': 'iri',\n",
              " 'ex': 'mantan',\n",
              " 'fax': 'facsimile',\n",
              " 'fifo': 'first in first out',\n",
              " 'folbek': 'follow back',\n",
              " 'fyi': 'sebagai informasi',\n",
              " 'gaada': 'tidak ada uang',\n",
              " 'gag': 'tidak',\n",
              " 'gaje': 'tidak jelas',\n",
              " 'gak papa': 'tidak apa-apa',\n",
              " 'gan': 'juragan',\n",
              " 'gaptek': 'gagap teknologi',\n",
              " 'gatek': 'gagap teknologi',\n",
              " 'gawe': 'kerja',\n",
              " 'gbs': 'tidak bisa',\n",
              " 'gebetan': 'orang yang disuka',\n",
              " 'geje': 'tidak jelas',\n",
              " 'gepeng': 'gelandangan dan pengemis',\n",
              " 'ghiy': 'lagi',\n",
              " 'gile': 'gila',\n",
              " 'gimana': 'bagaimana',\n",
              " 'gino': 'gigi nongol',\n",
              " 'githu': 'gitu',\n",
              " 'gj': 'tidak jelas',\n",
              " 'gmana': 'bagaimana',\n",
              " 'gn': 'begini',\n",
              " 'goblok': 'bodoh',\n",
              " 'golput': 'golongan putih',\n",
              " 'gowes': 'mengayuh sepeda',\n",
              " 'gpny': 'tidak punya',\n",
              " 'gr': 'gede rasa',\n",
              " 'gretongan': 'gratisan',\n",
              " 'gtau': 'tidak tahu',\n",
              " 'gua': 'saya',\n",
              " 'guoblok': 'goblok',\n",
              " 'gw': 'saya',\n",
              " 'ha': 'tertawa',\n",
              " 'haha': 'tertawa',\n",
              " 'hallow': 'halo',\n",
              " 'hankam': 'pertahanan dan keamanan',\n",
              " 'hehe': 'he',\n",
              " 'helo': 'halo',\n",
              " 'hey': 'hai',\n",
              " 'hlm': 'halaman',\n",
              " 'hny': 'hanya',\n",
              " 'hoax': 'isu bohong',\n",
              " 'hr': 'hari',\n",
              " 'hrus': 'harus',\n",
              " 'hubdar': 'perhubungan darat',\n",
              " 'huff': 'mengeluh',\n",
              " 'hum': 'rumah',\n",
              " 'humz': 'rumah',\n",
              " 'ilang': 'hilang',\n",
              " 'ilfil': 'tidak suka',\n",
              " 'imho': 'in my humble opinion',\n",
              " 'imoetz': 'imut',\n",
              " 'item': 'hitam',\n",
              " 'itungan': 'hitungan',\n",
              " 'iye': 'iya',\n",
              " 'ja': 'saja',\n",
              " 'jadiin': 'jadi',\n",
              " 'jaim': 'jaga image',\n",
              " 'jayus': 'tidak lucu',\n",
              " 'jdi': 'jadi',\n",
              " 'jem': 'jam',\n",
              " 'jga': 'juga',\n",
              " 'jgnkan': 'jangankan',\n",
              " 'jir': 'anjing',\n",
              " 'jln': 'jalan',\n",
              " 'jomblo': 'tidak punya pacar',\n",
              " 'jubir': 'juru bicara',\n",
              " 'jutek': 'galak',\n",
              " 'k': 'ke',\n",
              " 'kab': 'kabupaten',\n",
              " 'kabor': 'kabur',\n",
              " 'kacrut': 'kacau',\n",
              " 'kadiv': 'kepala divisi',\n",
              " 'kagak': 'tidak',\n",
              " 'kalo': 'kalau',\n",
              " 'kampret': 'sialan',\n",
              " 'kamtibmas': 'keamanan dan ketertiban masyarakat',\n",
              " 'kamuwh': 'kamu',\n",
              " 'kanwil': 'kantor wilayah',\n",
              " 'karna': 'karena',\n",
              " 'kasubbag': 'kepala subbagian',\n",
              " 'katrok': 'kampungan',\n",
              " 'kayanya': 'kayaknya',\n",
              " 'kbr': 'kabar',\n",
              " 'kdu': 'harus',\n",
              " 'kec': 'kecamatan',\n",
              " 'kejurnas': 'kejuaraan nasional',\n",
              " 'kekeuh': 'keras kepala',\n",
              " 'kel': 'kelurahan',\n",
              " 'kemaren': 'kemarin',\n",
              " 'kepengen': 'mau',\n",
              " 'kepingin': 'mau',\n",
              " 'kepsek': 'kepala sekolah',\n",
              " 'kesbang': 'kesatuan bangsa',\n",
              " 'kesra': 'kesejahteraan rakyat',\n",
              " 'ketrima': 'diterima',\n",
              " 'kgiatan': 'kegiatan',\n",
              " 'kibul': 'bohong',\n",
              " 'kimpoi': 'kawin',\n",
              " 'kl': 'kalau',\n",
              " 'klianz': 'kalian',\n",
              " 'kloter': 'kelompok terbang',\n",
              " 'klw': 'kalau',\n",
              " 'km': 'kamu',\n",
              " 'kmps': 'kampus',\n",
              " 'kmrn': 'kemarin',\n",
              " 'knal': 'kenal',\n",
              " 'knp': 'kenapa',\n",
              " 'kodya': 'kota madya',\n",
              " 'komdis': 'komisi disiplin',\n",
              " 'komsov': 'komunis sovyet',\n",
              " 'kongkow': 'kumpul bareng teman-teman',\n",
              " 'kopdar': 'kopi darat',\n",
              " 'korup': 'korupsi',\n",
              " 'kpn': 'kapan',\n",
              " 'krenz': 'keren',\n",
              " 'krm': 'kirim',\n",
              " 'kt': 'kita',\n",
              " 'ktmu': 'ketemu',\n",
              " 'ktr': 'kantor',\n",
              " 'kuper': 'kurang pergaulan',\n",
              " 'kw': 'imitasi',\n",
              " 'kyk': 'seperti',\n",
              " 'la': 'lah',\n",
              " 'lam': 'salam',\n",
              " 'lamp': 'lampiran',\n",
              " 'lanud': 'landasan udara',\n",
              " 'latgab': 'latihan gabungan',\n",
              " 'lebay': 'berlebihan',\n",
              " 'leh': 'boleh',\n",
              " 'lelet': 'lambat',\n",
              " 'lemot': 'lambat',\n",
              " 'lgi': 'lagi',\n",
              " 'lgsg': 'langsung',\n",
              " 'liat': 'lihat',\n",
              " 'litbang': 'penelitian dan pengembangan',\n",
              " 'lmyn': 'lumayan',\n",
              " 'lo': 'kamu',\n",
              " 'loe': 'kamu',\n",
              " 'lola': 'lambat berfikir',\n",
              " 'louph': 'cinta',\n",
              " 'low': 'kalau',\n",
              " 'lp': 'lupa',\n",
              " 'luber': 'langsung, umum, bebas, dan rahasia',\n",
              " 'luchuw': 'lucu',\n",
              " 'lum': 'belum',\n",
              " 'luthu': 'lucu',\n",
              " 'lwn': 'lawan',\n",
              " 'maacih': 'terima kasih',\n",
              " 'mabal': 'bolos',\n",
              " 'macem': 'macam',\n",
              " 'macih': 'masih',\n",
              " 'maem': 'makan',\n",
              " 'magabut': 'makan gaji buta',\n",
              " 'maho': 'homo',\n",
              " 'mak jang': 'kaget',\n",
              " 'maksain': 'memaksa',\n",
              " 'malem': 'malam',\n",
              " 'mam': 'makan',\n",
              " 'maneh': 'kamu',\n",
              " 'maniez': 'manis',\n",
              " 'mao': 'mau',\n",
              " 'masukin': 'masukkan',\n",
              " 'melu': 'ikut',\n",
              " 'mepet': 'dekat sekali',\n",
              " 'mgu': 'minggu',\n",
              " 'migas': 'minyak dan gas bumi',\n",
              " 'mikol': 'minuman beralkohol',\n",
              " 'miras': 'minuman keras',\n",
              " 'mlah': 'malah',\n",
              " 'mngkn': 'mungkin',\n",
              " 'mo': 'mau',\n",
              " 'mokad': 'mati',\n",
              " 'moso': 'masa',\n",
              " 'mpe': 'sampai',\n",
              " 'msk': 'masuk',\n",
              " 'mslh': 'masalah',\n",
              " 'mt': 'makan teman',\n",
              " 'mubes': 'musyawarah besar',\n",
              " 'mulu': 'melulu',\n",
              " 'mumpung': 'selagi',\n",
              " 'munas': 'musyawarah nasional',\n",
              " 'muntaber': 'muntah dan berak',\n",
              " 'musti': 'mesti',\n",
              " 'muupz': 'maaf',\n",
              " 'mw': 'now watching',\n",
              " 'n': 'dan',\n",
              " 'nanam': 'menanam',\n",
              " 'nanya': 'bertanya',\n",
              " 'napa': 'kenapa',\n",
              " 'napi': 'narapidana',\n",
              " 'napza': 'narkotika, alkohol, psikotropika, dan zat adiktif ',\n",
              " 'narkoba': 'narkotika, psikotropika, dan obat terlarang',\n",
              " 'nasgor': 'nasi goreng',\n",
              " 'nda': 'tidak',\n",
              " 'ndiri': 'sendiri',\n",
              " 'ne': 'ini',\n",
              " 'nekolin': 'neokolonialisme',\n",
              " 'nembak': 'menyatakan cinta',\n",
              " 'ngabuburit': 'menunggu berbuka puasa',\n",
              " 'ngaku': 'mengaku',\n",
              " 'ngambil': 'mengambil',\n",
              " 'nganggur': 'tidak punya pekerjaan',\n",
              " 'ngapah': 'kenapa',\n",
              " 'ngaret': 'terlambat',\n",
              " 'ngasih': 'memberikan',\n",
              " 'ngebandel': 'berbuat bandel',\n",
              " 'ngegosip': 'bergosip',\n",
              " 'ngeklaim': 'mengklaim',\n",
              " 'ngeksis': 'menjadi eksis',\n",
              " 'ngeles': 'berkilah',\n",
              " 'ngelidur': 'menggigau',\n",
              " 'ngerampok': 'merampok',\n",
              " 'ngga': 'tidak',\n",
              " 'ngibul': 'berbohong',\n",
              " 'ngiler': 'mau',\n",
              " 'ngiri': 'iri',\n",
              " 'ngisiin': 'mengisikan',\n",
              " 'ngmng': 'bicara',\n",
              " 'ngomong': 'bicara',\n",
              " 'ngubek2': 'mencari-cari',\n",
              " 'ngurus': 'mengurus',\n",
              " 'nie': 'ini',\n",
              " 'nih': 'ini',\n",
              " 'niyh': 'nih',\n",
              " 'nmr': 'nomor',\n",
              " 'nntn': 'nonton',\n",
              " 'nobar': 'nonton bareng',\n",
              " 'np': 'now playing',\n",
              " 'ntar': 'nanti',\n",
              " 'ntn': 'nonton',\n",
              " 'numpuk': 'bertumpuk',\n",
              " 'nutupin': 'menutupi',\n",
              " 'nyari': 'mencari',\n",
              " 'nyekar': 'menyekar',\n",
              " 'nyicil': 'mencicil',\n",
              " 'nyoblos': 'mencoblos',\n",
              " 'nyokap': 'ibu',\n",
              " 'ogah': 'tidak mau',\n",
              " 'ol': 'online',\n",
              " 'ongkir': 'ongkos kirim',\n",
              " 'oot': 'out of topic',\n",
              " 'org2': 'orang-orang',\n",
              " 'ortu': 'orang tua',\n",
              " 'otda': 'otonomi daerah',\n",
              " 'otw': 'on the way, sedang di jalan',\n",
              " 'pacal': 'pacar',\n",
              " 'pake': 'pakai',\n",
              " 'pala': 'kepala',\n",
              " 'pansus': 'panitia khusus',\n",
              " 'parpol': 'partai politik',\n",
              " 'pasutri': 'pasangan suami istri',\n",
              " 'pd': 'pada',\n",
              " 'pede': 'percaya diri',\n",
              " 'pelatnas': 'pemusatan latihan nasional',\n",
              " 'pemda': 'pemerintah daerah',\n",
              " 'pemkot': 'pemerintah kota',\n",
              " 'pemred': 'pemimpin redaksi',\n",
              " 'penjas': 'pendidikan jasmani',\n",
              " 'perda': 'peraturan daerah',\n",
              " 'perhatiin': 'perhatikan',\n",
              " 'pesenan': 'pesanan',\n",
              " 'pgang': 'pegang',\n",
              " 'pi': 'tapi',\n",
              " 'pilkada': 'pemilihan kepala daerah',\n",
              " 'pisan': 'sangat',\n",
              " 'pk': 'penjahat kelamin',\n",
              " 'plg': 'paling',\n",
              " 'pmrnth': 'pemerintah',\n",
              " 'polantas': 'polisi lalu lintas',\n",
              " 'ponpes': 'pondok pesantren',\n",
              " 'pp': 'pulang pergi',\n",
              " 'prg': 'pergi',\n",
              " 'prnh': 'pernah',\n",
              " 'psen': 'pesan',\n",
              " 'pst': 'pasti',\n",
              " 'pswt': 'pesawat',\n",
              " 'pw': 'posisi nyaman',\n",
              " 'qmu': 'kamu',\n",
              " 'rakor': 'rapat koordinasi',\n",
              " 'ranmor': 'kendaraan bermotor',\n",
              " 're': 'reply',\n",
              " 'ref': 'referensi',\n",
              " 'rehab': 'rehabilitasi',\n",
              " 'rempong': 'sulit',\n",
              " 'repp': 'balas',\n",
              " 'restik': 'reserse narkotika',\n",
              " 'rhs': 'rahasia',\n",
              " 'rmh': 'rumah',\n",
              " 'ru': 'baru',\n",
              " 'ruko': 'rumah toko',\n",
              " 'rusunawa': 'rumah susun sewa',\n",
              " 'ruz': 'terus',\n",
              " 'saia': 'saya',\n",
              " 'salting': 'salah tingkah',\n",
              " 'sampe': 'sampai',\n",
              " 'samsek': 'sama sekali',\n",
              " 'sapose': 'siapa',\n",
              " 'satpam': 'satuan pengamanan',\n",
              " 'sbb': 'sebagai berikut',\n",
              " 'sbh': 'sebuah',\n",
              " 'sbnrny': 'sebenarnya',\n",
              " 'scr': 'secara',\n",
              " 'sdgkn': 'sedangkan',\n",
              " 'sdkt': 'sedikit',\n",
              " 'se7': 'setuju',\n",
              " 'sebelas dua belas': 'mirip',\n",
              " 'sembako': 'sembilan bahan pokok',\n",
              " 'sempet': 'sempat',\n",
              " 'sendratari': 'seni drama tari',\n",
              " 'sgt': 'sangat',\n",
              " 'shg': 'sehingga',\n",
              " 'siech': 'sih',\n",
              " 'sikon': 'situasi dan kondisi',\n",
              " 'sinetron': 'sinema elektronik',\n",
              " 'siramin': 'siramkan',\n",
              " 'sj': 'saja',\n",
              " 'skalian': 'sekalian',\n",
              " 'sklh': 'sekolah',\n",
              " 'skt': 'sakit',\n",
              " 'slesai': 'selesai',\n",
              " 'sll': 'selalu',\n",
              " 'slma': 'selama',\n",
              " 'slsai': 'selesai',\n",
              " 'smpt': 'sempat',\n",
              " 'smw': 'semua',\n",
              " 'sndiri': 'sendiri',\n",
              " 'soljum': 'sholat jumat',\n",
              " 'songong': 'sombong',\n",
              " 'sory': 'maaf',\n",
              " 'sosek': 'sosial-ekonomi',\n",
              " 'sotoy': 'sok tahu',\n",
              " 'spa': 'siapa',\n",
              " 'sppa': 'siapa',\n",
              " 'spt': 'seperti',\n",
              " 'srtfkt': 'sertifikat',\n",
              " 'stiap': 'setiap',\n",
              " 'stlh': 'setelah',\n",
              " 'suk': 'masuk',\n",
              " 'sumpek': 'sempit',\n",
              " 'syg': 'sayang',\n",
              " 't4': 'tempat',\n",
              " 'tajir': 'kaya',\n",
              " 'tau': 'tahu',\n",
              " 'taw': 'tahu',\n",
              " 'td': 'tadi',\n",
              " 'tdk': 'tidak',\n",
              " 'teh': 'kakak perempuan',\n",
              " 'telat': 'terlambat',\n",
              " 'telmi': 'telat berpikir',\n",
              " 'temen': 'teman',\n",
              " 'tengil': 'menyebalkan',\n",
              " 'tepar': 'terkapar',\n",
              " 'tggu': 'tunggu',\n",
              " 'tgu': 'tunggu',\n",
              " 'thankz': 'terima kasih',\n",
              " 'thn': 'tahun',\n",
              " 'tilang': 'bukti pelanggaran',\n",
              " 'tipiwan': 'TvOne',\n",
              " 'tks': 'terima kasih',\n",
              " 'tlp': 'telepon',\n",
              " 'tls': 'tulis',\n",
              " 'tmbah': 'tambah',\n",
              " 'tmen2': 'teman-teman',\n",
              " 'tmpah': 'tumpah',\n",
              " 'tmpt': 'tempat',\n",
              " 'tngu': 'tunggu',\n",
              " 'tnyta': 'ternyata',\n",
              " 'tokai': 'tai',\n",
              " 'toserba': 'toko serba ada',\n",
              " 'tpi': 'tapi',\n",
              " 'trdhulu': 'terdahulu',\n",
              " 'trima': 'terima kasih',\n",
              " 'trm': 'terima',\n",
              " 'trs': 'terus',\n",
              " 'trutama': 'terutama',\n",
              " 'ts': 'penulis',\n",
              " 'tst': 'tahu sama tahu',\n",
              " 'ttg': 'tentang',\n",
              " 'tuch': 'tuh',\n",
              " 'tuir': 'tua',\n",
              " 'tw': 'tahu',\n",
              " 'u': 'kamu',\n",
              " 'ud': 'sudah',\n",
              " 'udah': 'sudah',\n",
              " 'ujg': 'ujung',\n",
              " 'ul': 'ulangan',\n",
              " 'unyu': 'lucu',\n",
              " 'uplot': 'unggah',\n",
              " 'urang': 'saya',\n",
              " 'usah': 'perlu',\n",
              " 'utk': 'untuk',\n",
              " 'valas': 'valuta asing',\n",
              " 'w/': 'dengan',\n",
              " 'wadir': 'wakil direktur',\n",
              " 'wamil': 'wajib militer',\n",
              " 'warkop': 'warung kopi',\n",
              " 'warteg': 'warung tegal',\n",
              " 'wat': 'buat',\n",
              " 'wkt': 'waktu',\n",
              " 'wtf': 'what the fuck',\n",
              " 'xixixi': 'tertawa',\n",
              " 'ya': 'iya',\n",
              " 'yap': 'iya',\n",
              " 'yaudah': 'ya sudah',\n",
              " 'yawdah': 'ya sudah',\n",
              " 'yg': 'yang',\n",
              " 'yl': 'yang lain',\n",
              " 'yo': 'iya',\n",
              " 'yowes': 'ya sudah',\n",
              " 'yup': 'iya',\n",
              " '7an': 'tujuan',\n",
              " 'ababil': 'abg labil',\n",
              " 'acc': 'accord',\n",
              " 'adlah': 'adalah',\n",
              " 'adoh': 'aduh',\n",
              " 'aha': 'tertawa',\n",
              " 'aing': 'saya',\n",
              " 'aja': 'saja',\n",
              " 'ajj': 'saja',\n",
              " 'aka': 'dikenal juga sebagai',\n",
              " 'akko': 'aku',\n",
              " 'akku': 'aku',\n",
              " 'akyu': 'aku',\n",
              " 'aljasa': 'asal jadi saja',\n",
              " 'ama': 'sama',\n",
              " 'ambl': 'ambil',\n",
              " 'anjir': 'anjing',\n",
              " 'ank': 'anak',\n",
              " 'ap': 'apa',\n",
              " 'apaan': 'apa',\n",
              " 'ape': 'apa',\n",
              " 'aplot': 'unggah',\n",
              " 'apva': 'apa',\n",
              " 'aqu': 'aku',\n",
              " 'asap': 'sesegera mungkin',\n",
              " 'aseek': 'asyik',\n",
              " 'asek': 'asyik',\n",
              " 'aseknya': 'asyiknya',\n",
              " 'asoy': 'asyik',\n",
              " 'astrojim': 'astagfirullahaladzim',\n",
              " 'ath': 'kalau begitu',\n",
              " 'atuh': 'kalau begitu',\n",
              " 'ava': 'avatar',\n",
              " 'aws': 'awas',\n",
              " 'ayang': 'sayang',\n",
              " 'ayok': 'ayo',\n",
              " 'bacot': 'banyak bicara',\n",
              " 'bales': 'balas',\n",
              " 'bangdes': 'pembangunan desa',\n",
              " 'bangkotan': 'tua',\n",
              " 'banpres': 'bantuan presiden',\n",
              " 'bansarkas': 'bantuan sarana kesehatan',\n",
              " 'bazis': 'badan amal, zakat, infak, dan sedekah',\n",
              " 'bcoz': 'karena',\n",
              " 'beb': 'sayang',\n",
              " 'bejibun': 'banyak',\n",
              " 'belom': 'belum',\n",
              " 'bener': 'benar',\n",
              " 'ber2': 'berdua',\n",
              " 'berdikari': 'berdiri di atas kaki sendiri',\n",
              " 'bet': 'banget',\n",
              " 'beti': 'beda tipis',\n",
              " 'beut': 'banget',\n",
              " 'bgd': 'banget',\n",
              " 'bgs': 'bagus',\n",
              " 'bhubu': 'tidur',\n",
              " 'bimbuluh': 'bimbingan dan penyuluhan',\n",
              " 'bisi': 'kalau-kalau',\n",
              " 'bkn': 'bukan',\n",
              " 'bl': 'beli',\n",
              " 'blg': 'bilang',\n",
              " 'blm': 'belum',\n",
              " 'bls': 'balas',\n",
              " 'bnchi': 'benci',\n",
              " 'bngung': 'bingung',\n",
              " 'bnyk': 'banyak',\n",
              " 'bohay': 'badan aduhai',\n",
              " 'bokep': 'porno',\n",
              " 'bokin': 'pacar',\n",
              " 'bole': 'boleh',\n",
              " 'bolot': 'bodoh',\n",
              " 'bonyok': 'ayah ibu',\n",
              " 'bpk': 'bapak',\n",
              " 'brb': 'segera kembali',\n",
              " 'brngkt': 'berangkat',\n",
              " 'brp': 'berapa',\n",
              " 'brur': 'saudara laki-laki',\n",
              " 'bsa': 'bisa',\n",
              " 'bsk': 'besok',\n",
              " 'bu_bu': 'tidur',\n",
              " 'bubarin': 'bubarkan',\n",
              " 'buber': 'buka bersama',\n",
              " 'bujubune': 'luar biasa',\n",
              " 'buser': 'buru sergap',\n",
              " 'bwhn': 'bawahan',\n",
              " 'byar': 'bayar',\n",
              " 'byr': 'bayar',\n",
              " 'c8': 'chat',\n",
              " 'cabut': 'pergi',\n",
              " 'caem': 'cakep',\n",
              " 'cama-cama': 'sama-sama',\n",
              " 'cangcut': 'celana dalam',\n",
              " 'cape': 'capek',\n",
              " 'caur': 'jelek',\n",
              " 'cekak': 'tidak ada uang',\n",
              " 'cekidot': 'coba lihat',\n",
              " 'cemplungin': 'cemplungkan',\n",
              " 'ceper': 'pendek',\n",
              " 'ceu': 'kakak perempuan',\n",
              " 'cewe': 'cewek',\n",
              " 'cibuk': 'sibuk',\n",
              " 'cin': 'cinta',\n",
              " 'ciye': 'cie',\n",
              " 'ckck': 'ck',\n",
              " 'clbk': 'cinta lama bersemi kembali',\n",
              " 'cmpr': 'campur',\n",
              " 'cnenk': 'senang',\n",
              " 'congor': 'mulut',\n",
              " 'cow': 'cowok',\n",
              " 'coz': 'karena',\n",
              " 'cpa': 'siapa',\n",
              " 'gokil': 'gila',\n",
              " 'gombal': 'suka merayu',\n",
              " 'gpl': 'tidak pakai lama',\n",
              " 'gpp': 'tidak apa-apa',\n",
              " 'gretong': 'gratis',\n",
              " 'gt': 'begitu',\n",
              " 'gtw': 'tidak tahu',\n",
              " 'gue': 'saya',\n",
              " 'guys': 'teman-teman',\n",
              " 'gws': 'cepat sembuh',\n",
              " 'haghaghag': 'tertawa',\n",
              " 'hakhak': 'tertawa',\n",
              " 'handak': 'bahan peledak',\n",
              " 'hansip': 'pertahanan sipil',\n",
              " 'hellow': 'halo',\n",
              " 'helow': 'halo',\n",
              " 'hi': 'hai',\n",
              " 'hlng': 'hilang',\n",
              " 'hnya': 'hanya',\n",
              " 'houm': 'rumah',\n",
              " 'hrs': 'harus',\n",
              " 'hubad': 'hubungan angkatan darat',\n",
              " 'hubla': 'perhubungan laut',\n",
              " 'huft': 'mengeluh',\n",
              " 'humas': 'hubungan masyarakat',\n",
              " 'idk': 'saya tidak tahu',\n",
              " 'ilfeel': 'tidak suka',\n",
              " 'imba': 'jago sekali',\n",
              " 'imoet': 'imut',\n",
              " 'info': 'informasi',\n",
              " 'itung': 'hitung',\n",
              " 'isengin': 'bercanda',\n",
              " 'iyala': 'iya lah',\n",
              " 'iyo': 'iya',\n",
              " 'jablay': 'jarang dibelai',\n",
              " 'jadul': 'jaman dulu',\n",
              " 'jancuk': 'anjing',\n",
              " 'jd': 'jadi',\n",
              " 'jdikan': 'jadikan',\n",
              " 'jg': 'juga',\n",
              " 'jgn': 'jangan',\n",
              " 'jijay': 'jijik',\n",
              " 'jkt': 'jakarta',\n",
              " 'jnj': 'janji',\n",
              " 'jth': 'jatuh',\n",
              " 'jurdil': 'jujur adil',\n",
              " 'jwb': 'jawab',\n",
              " 'ka': 'kakak',\n",
              " 'kabag': 'kepala bagian',\n",
              " 'kacian': 'kasihan',\n",
              " 'kadit': 'kepala direktorat',\n",
              " 'kaga': 'tidak',\n",
              " 'kaka': 'kakak',\n",
              " 'kamtib': 'keamanan dan ketertiban',\n",
              " 'kamuh': 'kamu',\n",
              " 'kamyu': 'kamu',\n",
              " 'kapt': 'kapten',\n",
              " 'kasat': 'kepala satuan',\n",
              " 'kasubbid': 'kepala subbidang',\n",
              " 'kau': 'kamu',\n",
              " 'kbar': 'kabar',\n",
              " 'kcian': 'kasihan',\n",
              " 'keburu': 'terlanjur',\n",
              " 'kedubes': 'kedutaan besar',\n",
              " 'kek': 'seperti',\n",
              " 'keknya': 'kayaknya',\n",
              " 'keliatan': 'kelihatan',\n",
              " 'keneh': 'masih',\n",
              " 'kepikiran': 'terpikirkan',\n",
              " 'kepo': 'mau tahu urusan orang',\n",
              " 'kere': 'tidak punya uang',\n",
              " 'kesian': 'kasihan',\n",
              " 'ketauan': 'ketahuan',\n",
              " 'keukeuh': 'keras kepala',\n",
              " 'khan': 'kan',\n",
              " 'kibus': 'kaki busuk',\n",
              " 'kk': 'kakak',\n",
              " 'klian': 'kalian',\n",
              " 'klo': 'kalau',\n",
              " 'kluarga': 'keluarga',\n",
              " 'klwrga': 'keluarga',\n",
              " 'kmari': 'kemari',\n",
              " 'kmpus': 'kampus',\n",
              " 'kn': 'kan',\n",
              " 'knl': 'kenal',\n",
              " 'knpa': 'kenapa',\n",
              " 'kog': 'kok',\n",
              " 'kompi': 'komputer',\n",
              " 'komtiong': 'komunis Tiongkok',\n",
              " 'konjen': 'konsulat jenderal',\n",
              " 'koq': 'kok',\n",
              " 'kpd': 'kepada',\n",
              " 'kptsan': 'keputusan',\n",
              " 'krik': 'garing',\n",
              " 'krn': 'karena',\n",
              " 'ktauan': 'ketahuan',\n",
              " 'ktny': 'katanya',\n",
              " 'kudu': 'harus',\n",
              " 'kuq': 'kok',\n",
              " 'ky': 'seperti',\n",
              " 'kykny': 'kayanya',\n",
              " 'laka': 'kecelakaan',\n",
              " 'lambreta': 'lambat',\n",
              " 'lansia': 'lanjut usia',\n",
              " 'lapas': 'lembaga pemasyarakatan',\n",
              " 'lbur': 'libur',\n",
              " 'lekong': 'laki-laki',\n",
              " 'lg': 'lagi',\n",
              " 'lgkp': 'lengkap',\n",
              " 'lht': 'lihat',\n",
              " 'linmas': 'perlindungan masyarakat',\n",
              " 'lmyan': 'lumayan',\n",
              " 'lngkp': 'lengkap',\n",
              " 'loch': 'loh',\n",
              " 'lol': 'tertawa',\n",
              " 'lom': 'belum',\n",
              " 'loupz': 'cinta',\n",
              " 'lowh': 'kamu',\n",
              " 'lu': 'kamu',\n",
              " 'luchu': 'lucu',\n",
              " 'luff': 'cinta',\n",
              " 'luph': 'cinta',\n",
              " 'lw': 'kamu',\n",
              " 'lwt': 'lewat',\n",
              " 'maaciw': 'terima kasih',\n",
              " 'mabes': 'markas besar',\n",
              " 'macem-macem': 'macam-macam',\n",
              " 'madesu': 'masa depan suram',\n",
              " 'maen': 'main',\n",
              " 'mahatma': 'maju sehat bersama',\n",
              " 'mak': 'ibu',\n",
              " 'makasih': 'terima kasih',\n",
              " 'malah': 'bahkan',\n",
              " 'malu2in': 'memalukan',\n",
              " 'mamz': 'makan',\n",
              " 'manies': 'manis',\n",
              " 'mantep': 'mantap',\n",
              " 'markus': 'makelar kasus',\n",
              " 'mba': 'mbak',\n",
              " 'mending': 'lebih baik',\n",
              " 'mgkn': 'mungkin',\n",
              " 'mhn': 'mohon',\n",
              " 'miker': 'minuman keras',\n",
              " 'milis': 'mailing list',\n",
              " 'mksd': 'maksud',\n",
              " 'mls': 'malas',\n",
              " 'mnt': 'minta',\n",
              " 'moge': 'motor gede',\n",
              " 'mokat': 'mati',\n",
              " 'mosok': 'masa',\n",
              " 'msh': 'masih',\n",
              " 'mskpn': 'meskipun',\n",
              " 'msng2': 'masing-masing',\n",
              " 'muahal': 'mahal',\n",
              " 'muker': 'musyawarah kerja',\n",
              " 'mumet': 'pusing',\n",
              " 'muna': 'munafik',\n",
              " 'munaslub': 'musyawarah nasional luar biasa',\n",
              " 'musda': 'musyawarah daerah',\n",
              " 'muup': 'maaf',\n",
              " 'muuv': 'maaf',\n",
              " 'nal': 'kenal',\n",
              " 'nangis': 'menangis',\n",
              " 'naon': 'apa',\n",
              " 'napol': 'narapidana politik',\n",
              " 'naq': 'anak',\n",
              " 'narsis': 'bangga pada diri sendiri',\n",
              " 'nax': 'anak',\n",
              " 'ndak': 'tidak',\n",
              " 'ndut': 'gendut',\n",
              " 'nekolim': 'neokolonialisme',\n",
              " 'nelfon': 'menelepon',\n",
              " 'ngabis2in': 'menghabiskan',\n",
              " 'ngakak': 'tertawa',\n",
              " 'ngambek': 'marah',\n",
              " 'ngampus': 'pergi ke kampus',\n",
              " 'ngantri': 'mengantri',\n",
              " 'ngapain': 'sedang apa',\n",
              " 'ngaruh': 'berpengaruh',\n",
              " 'ngawur': 'berbicara sembarangan',\n",
              " 'ngeceng': 'kumpul bareng-bareng',\n",
              " 'ngeh': 'sadar',\n",
              " 'ngekos': 'tinggal di kos',\n",
              " 'ngelamar': 'melamar',\n",
              " 'ngeliat': 'melihat',\n",
              " 'ngemeng': 'bicara terus-terusan',\n",
              " 'ngerti': 'mengerti',\n",
              " 'nggak': 'tidak',\n",
              " 'ngikut': 'ikut',\n",
              " 'nginep': 'menginap',\n",
              " 'ngisi': 'mengisi',\n",
              " 'ngmg': 'bicara',\n",
              " 'ngocol': 'lucu',\n",
              " 'ngomongin': 'membicarakan',\n",
              " 'ngumpul': 'berkumpul',\n",
              " 'ni': 'ini',\n",
              " 'nyasar': 'tersesat',\n",
              " 'nyariin': 'mencari',\n",
              " 'nyiapin': 'mempersiapkan',\n",
              " 'nyiram': 'menyiram',\n",
              " 'nyok': 'ayo',\n",
              " 'o/': 'oleh',\n",
              " 'ok': 'ok',\n",
              " 'priksa': 'periksa',\n",
              " 'pro': 'profesional',\n",
              " 'psn': 'pesan',\n",
              " 'psti': 'pasti',\n",
              " 'puanas': 'panas',\n",
              " 'qmo': 'kamu',\n",
              " 'qt': 'kita',\n",
              " 'rame': 'ramai',\n",
              " 'raskin': 'rakyat miskin',\n",
              " 'red': 'redaksi',\n",
              " 'reg': 'register',\n",
              " 'rejeki': 'rezeki',\n",
              " 'renstra': 'rencana strategis',\n",
              " 'reskrim': 'reserse kriminal',\n",
              " 'sni': 'sini',\n",
              " 'somse': 'sombong sekali',\n",
              " 'sorry': 'maaf',\n",
              " 'sosbud': 'sosial-budaya',\n",
              " 'sospol': 'sosial-politik',\n",
              " 'sowry': 'maaf',\n",
              " 'spd': 'sepeda',\n",
              " 'sprti': 'seperti',\n",
              " 'spy': 'supaya',\n",
              " 'stelah': 'setelah',\n",
              " 'subbag': 'subbagian',\n",
              " 'sumbangin': 'sumbangkan',\n",
              " 'sy': 'saya',\n",
              " 'syp': 'siapa',\n",
              " 'tabanas': 'tabungan pembangunan nasional',\n",
              " 'tar': 'nanti',\n",
              " 'taun': 'tahun',\n",
              " 'tawh': 'tahu',\n",
              " 'tdi': 'tadi',\n",
              " 'te2p': 'tetap',\n",
              " 'tekor': 'rugi',\n",
              " 'telkom': 'telekomunikasi',\n",
              " 'telp': 'telepon',\n",
              " 'temen2': 'teman-teman',\n",
              " 'tengok': 'menjenguk',\n",
              " 'terbitin': 'terbitkan',\n",
              " 'tgl': 'tanggal',\n",
              " 'thanks': 'terima kasih',\n",
              " 'thd': 'terhadap',\n",
              " 'thx': 'terima kasih',\n",
              " 'tipi': 'TV',\n",
              " 'tkg': 'tukang',\n",
              " 'tll': 'terlalu',\n",
              " 'tlpn': 'telepon',\n",
              " 'tman': 'teman',\n",
              " 'tmbh': 'tambah',\n",
              " 'tmn2': 'teman-teman',\n",
              " 'tmph': 'tumpah',\n",
              " 'tnda': 'tanda',\n",
              " 'tnh': 'tanah',\n",
              " 'togel': 'toto gelap',\n",
              " 'tp': 'tapi',\n",
              " 'tq': 'terima kasih',\n",
              " 'trgntg': 'tergantung',\n",
              " 'trims': 'terima kasih',\n",
              " 'cb': 'coba',\n",
              " 'y': 'ya',\n",
              " 'munfik': 'munafik',\n",
              " 'reklamuk': 'reklamasi',\n",
              " 'sma': 'sama',\n",
              " 'tren': 'trend',\n",
              " 'ngehe': 'kesal',\n",
              " 'mz': 'mas',\n",
              " 'analisise': 'analisis',\n",
              " 'sadaar': 'sadar',\n",
              " 'sept': 'september',\n",
              " 'nmenarik': 'menarik',\n",
              " 'zonk': 'bodoh',\n",
              " 'rights': 'benar',\n",
              " 'simiskin': 'miskin',\n",
              " 'ngumpet': 'sembunyi',\n",
              " 'hardcore': 'keras',\n",
              " 'akhirx': 'akhirnya',\n",
              " 'solve': 'solusi',\n",
              " 'watuk': 'batuk',\n",
              " 'ngebully': 'intimidasi',\n",
              " 'masy': 'masyarakat',\n",
              " 'still': 'masih',\n",
              " 'tauk': 'tahu',\n",
              " 'mbual': 'bual',\n",
              " 'tioghoa': 'tionghoa',\n",
              " 'ngentotin': 'senggama',\n",
              " 'kentot': 'senggama',\n",
              " 'faktakta': 'fakta',\n",
              " 'sohib': 'teman',\n",
              " 'rubahnn': 'rubah',\n",
              " 'trlalu': 'terlalu',\n",
              " 'nyela': 'cela',\n",
              " 'heters': 'pembenci',\n",
              " 'nyembah': 'sembah',\n",
              " 'most': 'paling',\n",
              " 'ikon': 'lambang',\n",
              " 'light': 'terang',\n",
              " 'pndukung': 'pendukung',\n",
              " 'setting': 'atur',\n",
              " 'seting': 'akting',\n",
              " 'next': 'lanjut',\n",
              " 'waspadalah': 'waspada',\n",
              " 'gantengsaya': 'ganteng',\n",
              " 'parte': 'partai',\n",
              " 'nyerang': 'serang',\n",
              " 'nipu': 'tipu',\n",
              " 'ktipu': 'tipu',\n",
              " 'jentelmen': 'berani',\n",
              " 'buangbuang': 'buang',\n",
              " 'tsangka': 'tersangka',\n",
              " 'kurng': 'kurang',\n",
              " 'ista': 'nista',\n",
              " 'less': 'kurang',\n",
              " ...}"
            ]
          },
          "metadata": {},
          "execution_count": 13
        }
      ]
    },
    {
      "cell_type": "markdown",
      "source": [
        "### stop words"
      ],
      "metadata": {
        "id": "KVXuxslZSiDC"
      }
    },
    {
      "cell_type": "code",
      "source": [
        "from nlp_id.stopword import StopWord\n",
        "stop_words = StopWord()\n",
        "stop_words = stop_words.get_stopword()"
      ],
      "metadata": {
        "id": "45R1npnaShX-"
      },
      "execution_count": null,
      "outputs": []
    },
    {
      "cell_type": "code",
      "source": [
        "stop_words[:20]"
      ],
      "metadata": {
        "colab": {
          "base_uri": "https://localhost:8080/"
        },
        "id": "EB1mkf6mTBLC",
        "outputId": "9f80aa64-8c7f-4f3a-e713-33ba8a3df54b"
      },
      "execution_count": null,
      "outputs": [
        {
          "output_type": "execute_result",
          "data": {
            "text/plain": [
              "['ada',\n",
              " 'adalagi',\n",
              " 'adalah',\n",
              " 'adanya',\n",
              " 'adapun',\n",
              " 'agak',\n",
              " 'agak-agak',\n",
              " 'agaknya',\n",
              " 'agar',\n",
              " 'aja',\n",
              " 'akan',\n",
              " 'akankah',\n",
              " 'akankan',\n",
              " 'akhir',\n",
              " 'akhir-akhirnya',\n",
              " 'akhirannya',\n",
              " 'akhiri',\n",
              " 'akhirinya',\n",
              " 'akhirnya',\n",
              " 'aku']"
            ]
          },
          "metadata": {},
          "execution_count": 15
        }
      ]
    },
    {
      "cell_type": "code",
      "source": [
        "len(stop_words)"
      ],
      "metadata": {
        "colab": {
          "base_uri": "https://localhost:8080/"
        },
        "id": "51MlCci_Sww_",
        "outputId": "9c820d93-0b76-4d78-cb50-ad75b200948c"
      },
      "execution_count": null,
      "outputs": [
        {
          "output_type": "execute_result",
          "data": {
            "text/plain": [
              "1168"
            ]
          },
          "metadata": {},
          "execution_count": 16
        }
      ]
    },
    {
      "cell_type": "markdown",
      "source": [
        "## Cleaning Process"
      ],
      "metadata": {
        "id": "0EncLSjiz_hb"
      }
    },
    {
      "cell_type": "code",
      "source": [
        "df.head(5)"
      ],
      "metadata": {
        "colab": {
          "base_uri": "https://localhost:8080/",
          "height": 206
        },
        "id": "bg6Ea82l0Cx3",
        "outputId": "6f479496-1b86-4882-8237-a63dfa3598e3"
      },
      "execution_count": null,
      "outputs": [
        {
          "output_type": "execute_result",
          "data": {
            "text/plain": [
              "                                             content\n",
              "0  Aplikasi itu harusnya memudahkan, ini malah se...\n",
              "1  Aplikasinya dalam 2 bulan terakhir ini mengece...\n",
              "2  Aplikasi sampah. Sudah setahun lebih gak ada i...\n",
              "3  Aplikasi tidak berguna dan membingungkan, pend...\n",
              "4  SUGGESTION: Pada halaman ketika mengisi biodat..."
            ],
            "text/html": [
              "\n",
              "  <div id=\"df-00d32459-675d-4d14-9d1a-333f43f643fe\" class=\"colab-df-container\">\n",
              "    <div>\n",
              "<style scoped>\n",
              "    .dataframe tbody tr th:only-of-type {\n",
              "        vertical-align: middle;\n",
              "    }\n",
              "\n",
              "    .dataframe tbody tr th {\n",
              "        vertical-align: top;\n",
              "    }\n",
              "\n",
              "    .dataframe thead th {\n",
              "        text-align: right;\n",
              "    }\n",
              "</style>\n",
              "<table border=\"1\" class=\"dataframe\">\n",
              "  <thead>\n",
              "    <tr style=\"text-align: right;\">\n",
              "      <th></th>\n",
              "      <th>content</th>\n",
              "    </tr>\n",
              "  </thead>\n",
              "  <tbody>\n",
              "    <tr>\n",
              "      <th>0</th>\n",
              "      <td>Aplikasi itu harusnya memudahkan, ini malah se...</td>\n",
              "    </tr>\n",
              "    <tr>\n",
              "      <th>1</th>\n",
              "      <td>Aplikasinya dalam 2 bulan terakhir ini mengece...</td>\n",
              "    </tr>\n",
              "    <tr>\n",
              "      <th>2</th>\n",
              "      <td>Aplikasi sampah. Sudah setahun lebih gak ada i...</td>\n",
              "    </tr>\n",
              "    <tr>\n",
              "      <th>3</th>\n",
              "      <td>Aplikasi tidak berguna dan membingungkan, pend...</td>\n",
              "    </tr>\n",
              "    <tr>\n",
              "      <th>4</th>\n",
              "      <td>SUGGESTION: Pada halaman ketika mengisi biodat...</td>\n",
              "    </tr>\n",
              "  </tbody>\n",
              "</table>\n",
              "</div>\n",
              "    <div class=\"colab-df-buttons\">\n",
              "\n",
              "  <div class=\"colab-df-container\">\n",
              "    <button class=\"colab-df-convert\" onclick=\"convertToInteractive('df-00d32459-675d-4d14-9d1a-333f43f643fe')\"\n",
              "            title=\"Convert this dataframe to an interactive table.\"\n",
              "            style=\"display:none;\">\n",
              "\n",
              "  <svg xmlns=\"http://www.w3.org/2000/svg\" height=\"24px\" viewBox=\"0 -960 960 960\">\n",
              "    <path d=\"M120-120v-720h720v720H120Zm60-500h600v-160H180v160Zm220 220h160v-160H400v160Zm0 220h160v-160H400v160ZM180-400h160v-160H180v160Zm440 0h160v-160H620v160ZM180-180h160v-160H180v160Zm440 0h160v-160H620v160Z\"/>\n",
              "  </svg>\n",
              "    </button>\n",
              "\n",
              "  <style>\n",
              "    .colab-df-container {\n",
              "      display:flex;\n",
              "      gap: 12px;\n",
              "    }\n",
              "\n",
              "    .colab-df-convert {\n",
              "      background-color: #E8F0FE;\n",
              "      border: none;\n",
              "      border-radius: 50%;\n",
              "      cursor: pointer;\n",
              "      display: none;\n",
              "      fill: #1967D2;\n",
              "      height: 32px;\n",
              "      padding: 0 0 0 0;\n",
              "      width: 32px;\n",
              "    }\n",
              "\n",
              "    .colab-df-convert:hover {\n",
              "      background-color: #E2EBFA;\n",
              "      box-shadow: 0px 1px 2px rgba(60, 64, 67, 0.3), 0px 1px 3px 1px rgba(60, 64, 67, 0.15);\n",
              "      fill: #174EA6;\n",
              "    }\n",
              "\n",
              "    .colab-df-buttons div {\n",
              "      margin-bottom: 4px;\n",
              "    }\n",
              "\n",
              "    [theme=dark] .colab-df-convert {\n",
              "      background-color: #3B4455;\n",
              "      fill: #D2E3FC;\n",
              "    }\n",
              "\n",
              "    [theme=dark] .colab-df-convert:hover {\n",
              "      background-color: #434B5C;\n",
              "      box-shadow: 0px 1px 3px 1px rgba(0, 0, 0, 0.15);\n",
              "      filter: drop-shadow(0px 1px 2px rgba(0, 0, 0, 0.3));\n",
              "      fill: #FFFFFF;\n",
              "    }\n",
              "  </style>\n",
              "\n",
              "    <script>\n",
              "      const buttonEl =\n",
              "        document.querySelector('#df-00d32459-675d-4d14-9d1a-333f43f643fe button.colab-df-convert');\n",
              "      buttonEl.style.display =\n",
              "        google.colab.kernel.accessAllowed ? 'block' : 'none';\n",
              "\n",
              "      async function convertToInteractive(key) {\n",
              "        const element = document.querySelector('#df-00d32459-675d-4d14-9d1a-333f43f643fe');\n",
              "        const dataTable =\n",
              "          await google.colab.kernel.invokeFunction('convertToInteractive',\n",
              "                                                    [key], {});\n",
              "        if (!dataTable) return;\n",
              "\n",
              "        const docLinkHtml = 'Like what you see? Visit the ' +\n",
              "          '<a target=\"_blank\" href=https://colab.research.google.com/notebooks/data_table.ipynb>data table notebook</a>'\n",
              "          + ' to learn more about interactive tables.';\n",
              "        element.innerHTML = '';\n",
              "        dataTable['output_type'] = 'display_data';\n",
              "        await google.colab.output.renderOutput(dataTable, element);\n",
              "        const docLink = document.createElement('div');\n",
              "        docLink.innerHTML = docLinkHtml;\n",
              "        element.appendChild(docLink);\n",
              "      }\n",
              "    </script>\n",
              "  </div>\n",
              "\n",
              "\n",
              "<div id=\"df-91344070-89df-4884-aebe-959492c5e875\">\n",
              "  <button class=\"colab-df-quickchart\" onclick=\"quickchart('df-91344070-89df-4884-aebe-959492c5e875')\"\n",
              "            title=\"Suggest charts\"\n",
              "            style=\"display:none;\">\n",
              "\n",
              "<svg xmlns=\"http://www.w3.org/2000/svg\" height=\"24px\"viewBox=\"0 0 24 24\"\n",
              "     width=\"24px\">\n",
              "    <g>\n",
              "        <path d=\"M19 3H5c-1.1 0-2 .9-2 2v14c0 1.1.9 2 2 2h14c1.1 0 2-.9 2-2V5c0-1.1-.9-2-2-2zM9 17H7v-7h2v7zm4 0h-2V7h2v10zm4 0h-2v-4h2v4z\"/>\n",
              "    </g>\n",
              "</svg>\n",
              "  </button>\n",
              "\n",
              "<style>\n",
              "  .colab-df-quickchart {\n",
              "      --bg-color: #E8F0FE;\n",
              "      --fill-color: #1967D2;\n",
              "      --hover-bg-color: #E2EBFA;\n",
              "      --hover-fill-color: #174EA6;\n",
              "      --disabled-fill-color: #AAA;\n",
              "      --disabled-bg-color: #DDD;\n",
              "  }\n",
              "\n",
              "  [theme=dark] .colab-df-quickchart {\n",
              "      --bg-color: #3B4455;\n",
              "      --fill-color: #D2E3FC;\n",
              "      --hover-bg-color: #434B5C;\n",
              "      --hover-fill-color: #FFFFFF;\n",
              "      --disabled-bg-color: #3B4455;\n",
              "      --disabled-fill-color: #666;\n",
              "  }\n",
              "\n",
              "  .colab-df-quickchart {\n",
              "    background-color: var(--bg-color);\n",
              "    border: none;\n",
              "    border-radius: 50%;\n",
              "    cursor: pointer;\n",
              "    display: none;\n",
              "    fill: var(--fill-color);\n",
              "    height: 32px;\n",
              "    padding: 0;\n",
              "    width: 32px;\n",
              "  }\n",
              "\n",
              "  .colab-df-quickchart:hover {\n",
              "    background-color: var(--hover-bg-color);\n",
              "    box-shadow: 0 1px 2px rgba(60, 64, 67, 0.3), 0 1px 3px 1px rgba(60, 64, 67, 0.15);\n",
              "    fill: var(--button-hover-fill-color);\n",
              "  }\n",
              "\n",
              "  .colab-df-quickchart-complete:disabled,\n",
              "  .colab-df-quickchart-complete:disabled:hover {\n",
              "    background-color: var(--disabled-bg-color);\n",
              "    fill: var(--disabled-fill-color);\n",
              "    box-shadow: none;\n",
              "  }\n",
              "\n",
              "  .colab-df-spinner {\n",
              "    border: 2px solid var(--fill-color);\n",
              "    border-color: transparent;\n",
              "    border-bottom-color: var(--fill-color);\n",
              "    animation:\n",
              "      spin 1s steps(1) infinite;\n",
              "  }\n",
              "\n",
              "  @keyframes spin {\n",
              "    0% {\n",
              "      border-color: transparent;\n",
              "      border-bottom-color: var(--fill-color);\n",
              "      border-left-color: var(--fill-color);\n",
              "    }\n",
              "    20% {\n",
              "      border-color: transparent;\n",
              "      border-left-color: var(--fill-color);\n",
              "      border-top-color: var(--fill-color);\n",
              "    }\n",
              "    30% {\n",
              "      border-color: transparent;\n",
              "      border-left-color: var(--fill-color);\n",
              "      border-top-color: var(--fill-color);\n",
              "      border-right-color: var(--fill-color);\n",
              "    }\n",
              "    40% {\n",
              "      border-color: transparent;\n",
              "      border-right-color: var(--fill-color);\n",
              "      border-top-color: var(--fill-color);\n",
              "    }\n",
              "    60% {\n",
              "      border-color: transparent;\n",
              "      border-right-color: var(--fill-color);\n",
              "    }\n",
              "    80% {\n",
              "      border-color: transparent;\n",
              "      border-right-color: var(--fill-color);\n",
              "      border-bottom-color: var(--fill-color);\n",
              "    }\n",
              "    90% {\n",
              "      border-color: transparent;\n",
              "      border-bottom-color: var(--fill-color);\n",
              "    }\n",
              "  }\n",
              "</style>\n",
              "\n",
              "  <script>\n",
              "    async function quickchart(key) {\n",
              "      const quickchartButtonEl =\n",
              "        document.querySelector('#' + key + ' button');\n",
              "      quickchartButtonEl.disabled = true;  // To prevent multiple clicks.\n",
              "      quickchartButtonEl.classList.add('colab-df-spinner');\n",
              "      try {\n",
              "        const charts = await google.colab.kernel.invokeFunction(\n",
              "            'suggestCharts', [key], {});\n",
              "      } catch (error) {\n",
              "        console.error('Error during call to suggestCharts:', error);\n",
              "      }\n",
              "      quickchartButtonEl.classList.remove('colab-df-spinner');\n",
              "      quickchartButtonEl.classList.add('colab-df-quickchart-complete');\n",
              "    }\n",
              "    (() => {\n",
              "      let quickchartButtonEl =\n",
              "        document.querySelector('#df-91344070-89df-4884-aebe-959492c5e875 button');\n",
              "      quickchartButtonEl.style.display =\n",
              "        google.colab.kernel.accessAllowed ? 'block' : 'none';\n",
              "    })();\n",
              "  </script>\n",
              "</div>\n",
              "    </div>\n",
              "  </div>\n"
            ],
            "application/vnd.google.colaboratory.intrinsic+json": {
              "type": "dataframe",
              "variable_name": "df",
              "summary": "{\n  \"name\": \"df\",\n  \"rows\": 185,\n  \"fields\": [\n    {\n      \"column\": \"content\",\n      \"properties\": {\n        \"dtype\": \"string\",\n        \"num_unique_values\": 185,\n        \"samples\": [\n          \"Ini bukannya memudahkan tapi menyulitkan, saya sudah daftar bolak balik tetep gagal gara gara foto kendaraan yang kurang jelas lah, nopol tidak kelihatan lah, foto sudah bagus dan sangat jelas sekali sampai pinjam hp teman yang kameranya lebih bagus tetap saja gagal foto tidak jelas mulu\",\n          \"Bukannya aplikasi memudahkan malah menyulitkan, selalu ada bug, klo blm clear knp sudah realese ini aplikasi , pengembang gak ada perubahan\",\n          \"Menunggu verifikasi dr 3 hari belum ada tanda2 mau di acc, ga bisa berbuat apa2 hanya bisa menunggu saja\"\n        ],\n        \"semantic_type\": \"\",\n        \"description\": \"\"\n      }\n    }\n  ]\n}"
            }
          },
          "metadata": {},
          "execution_count": 17
        }
      ]
    },
    {
      "cell_type": "markdown",
      "source": [
        "### Text Preprocessing"
      ],
      "metadata": {
        "id": "xr7vXALE86tQ"
      }
    },
    {
      "cell_type": "code",
      "source": [
        "def preprocessing(text):\n",
        "    '''\n",
        "    1. transform all alphabet into lower case\n",
        "    2. removes all punctuation, numbers, and special character\n",
        "    '''\n",
        "    text = text.lower()\n",
        "    text = re.sub(r'[^A-Za-z]',' ', text)\n",
        "    return text"
      ],
      "metadata": {
        "id": "w9B_0eBD7ojO"
      },
      "execution_count": null,
      "outputs": []
    },
    {
      "cell_type": "code",
      "source": [
        "preprocessed_data = df['content'].apply(preprocessing)\n",
        "preprocessed_data[0]"
      ],
      "metadata": {
        "colab": {
          "base_uri": "https://localhost:8080/"
        },
        "id": "EmvElE-47ptQ",
        "outputId": "6a82217f-52a3-44a1-b3a0-81d2785274ec"
      },
      "execution_count": null,
      "outputs": [
        {
          "output_type": "execute_result",
          "data": {
            "text/plain": [
              "'aplikasi itu harusnya memudahkan  ini malah sebaliknya jadi menyulitkan  antrean udah lama pas giliran mau scan barcode aplikasinya eror  akhirnya gak bisa isi bbm    jadi sia sia saja ngantre lama   '"
            ],
            "application/vnd.google.colaboratory.intrinsic+json": {
              "type": "string"
            }
          },
          "metadata": {},
          "execution_count": 19
        }
      ]
    },
    {
      "cell_type": "markdown",
      "source": [
        "### removing stop words"
      ],
      "metadata": {
        "id": "3nlRDrKe9HFq"
      }
    },
    {
      "cell_type": "code",
      "source": [
        "from nlp_id.stopword import StopWord\n",
        "stopword = StopWord()\n",
        "\n",
        "def clean_stop_words(text):\n",
        "    return stopword.remove_stopword(text)\n"
      ],
      "metadata": {
        "id": "4LX0bzgG4VVI"
      },
      "execution_count": null,
      "outputs": []
    },
    {
      "cell_type": "code",
      "source": [
        "cleaned_text = preprocessed_data.apply(clean_stop_words)"
      ],
      "metadata": {
        "id": "ybxjN8kBTf9k"
      },
      "execution_count": null,
      "outputs": []
    },
    {
      "cell_type": "code",
      "source": [
        "cleaned_text[0]"
      ],
      "metadata": {
        "colab": {
          "base_uri": "https://localhost:8080/"
        },
        "id": "DWjfLdPuU73U",
        "outputId": "bea01ed4-6128-45ac-ff7b-cfd20e2429c3"
      },
      "execution_count": null,
      "outputs": [
        {
          "output_type": "execute_result",
          "data": {
            "text/plain": [
              "'aplikasi memudahkan menyulitkan antrean giliran scan barcode aplikasinya eror gak isi bbm sia sia ngantre'"
            ],
            "application/vnd.google.colaboratory.intrinsic+json": {
              "type": "string"
            }
          },
          "metadata": {},
          "execution_count": 22
        }
      ]
    },
    {
      "cell_type": "markdown",
      "source": [
        "### Lemmatization"
      ],
      "metadata": {
        "id": "VV3IReklDlcP"
      }
    },
    {
      "cell_type": "code",
      "source": [
        "!pip install nlp-id"
      ],
      "metadata": {
        "colab": {
          "base_uri": "https://localhost:8080/"
        },
        "id": "GL_kPGQkCGCW",
        "outputId": "a3b681d7-3fd4-4407-e3e7-0d861a10087a"
      },
      "execution_count": null,
      "outputs": [
        {
          "output_type": "stream",
          "name": "stdout",
          "text": [
            "Requirement already satisfied: nlp-id in /usr/local/lib/python3.10/dist-packages (0.1.15.0)\n",
            "Requirement already satisfied: scikit-learn==1.2.2 in /usr/local/lib/python3.10/dist-packages (from nlp-id) (1.2.2)\n",
            "Requirement already satisfied: nltk==3.8.1 in /usr/local/lib/python3.10/dist-packages (from nlp-id) (3.8.1)\n",
            "Requirement already satisfied: wget==3.2 in /usr/local/lib/python3.10/dist-packages (from nlp-id) (3.2)\n",
            "Requirement already satisfied: pytest==7.3.1 in /usr/local/lib/python3.10/dist-packages (from nlp-id) (7.3.1)\n",
            "Requirement already satisfied: click in /usr/local/lib/python3.10/dist-packages (from nltk==3.8.1->nlp-id) (8.1.7)\n",
            "Requirement already satisfied: joblib in /usr/local/lib/python3.10/dist-packages (from nltk==3.8.1->nlp-id) (1.3.2)\n",
            "Requirement already satisfied: regex>=2021.8.3 in /usr/local/lib/python3.10/dist-packages (from nltk==3.8.1->nlp-id) (2023.12.25)\n",
            "Requirement already satisfied: tqdm in /usr/local/lib/python3.10/dist-packages (from nltk==3.8.1->nlp-id) (4.66.2)\n",
            "Requirement already satisfied: iniconfig in /usr/local/lib/python3.10/dist-packages (from pytest==7.3.1->nlp-id) (2.0.0)\n",
            "Requirement already satisfied: packaging in /usr/local/lib/python3.10/dist-packages (from pytest==7.3.1->nlp-id) (24.0)\n",
            "Requirement already satisfied: pluggy<2.0,>=0.12 in /usr/local/lib/python3.10/dist-packages (from pytest==7.3.1->nlp-id) (1.4.0)\n",
            "Requirement already satisfied: exceptiongroup>=1.0.0rc8 in /usr/local/lib/python3.10/dist-packages (from pytest==7.3.1->nlp-id) (1.2.0)\n",
            "Requirement already satisfied: tomli>=1.0.0 in /usr/local/lib/python3.10/dist-packages (from pytest==7.3.1->nlp-id) (2.0.1)\n",
            "Requirement already satisfied: numpy>=1.17.3 in /usr/local/lib/python3.10/dist-packages (from scikit-learn==1.2.2->nlp-id) (1.25.2)\n",
            "Requirement already satisfied: scipy>=1.3.2 in /usr/local/lib/python3.10/dist-packages (from scikit-learn==1.2.2->nlp-id) (1.11.4)\n",
            "Requirement already satisfied: threadpoolctl>=2.0.0 in /usr/local/lib/python3.10/dist-packages (from scikit-learn==1.2.2->nlp-id) (3.4.0)\n"
          ]
        }
      ]
    },
    {
      "cell_type": "code",
      "source": [
        "from nlp_id.lemmatizer import Lemmatizer\n",
        "lemmatizer = Lemmatizer()\n",
        "\n",
        "def lemmatizing(text):\n",
        "    return lemmatizer.lemmatize(text)\n"
      ],
      "metadata": {
        "id": "FgioLPkgO6Tu"
      },
      "execution_count": null,
      "outputs": []
    },
    {
      "cell_type": "code",
      "source": [
        "lemmatized = cleaned_text.apply(lemmatizing)"
      ],
      "metadata": {
        "id": "wQZ86nC8M-9W"
      },
      "execution_count": null,
      "outputs": []
    },
    {
      "cell_type": "code",
      "source": [
        "lemmatized[0]"
      ],
      "metadata": {
        "colab": {
          "base_uri": "https://localhost:8080/"
        },
        "id": "_bND1Nx5PdnW",
        "outputId": "572b365b-aea8-43b8-9295-d58ec0c9b70e"
      },
      "execution_count": null,
      "outputs": [
        {
          "output_type": "execute_result",
          "data": {
            "text/plain": [
              "'aplikasi mudah sulit antre gilir scan barcode aplikasi eror gak isi bbm sia sia ngantre'"
            ],
            "application/vnd.google.colaboratory.intrinsic+json": {
              "type": "string"
            }
          },
          "metadata": {},
          "execution_count": 26
        }
      ]
    },
    {
      "cell_type": "markdown",
      "source": [
        "### Normalize slang words"
      ],
      "metadata": {
        "id": "TXEHgUUVD1NN"
      }
    },
    {
      "cell_type": "code",
      "source": [
        "from nlp_id.tokenizer import Tokenizer\n",
        "tokenizer = Tokenizer()\n",
        "\n",
        "def tokenizing(text):\n",
        "    return tokenizer.tokenize(text)"
      ],
      "metadata": {
        "id": "E99EZnhmEAZZ"
      },
      "execution_count": null,
      "outputs": []
    },
    {
      "cell_type": "code",
      "source": [
        "tokenized = lemmatized.apply(tokenizing)\n",
        "tokenized[0]"
      ],
      "metadata": {
        "colab": {
          "base_uri": "https://localhost:8080/"
        },
        "id": "vqkoexUARgeV",
        "outputId": "4f00b50c-61d2-4e19-ead5-b4faf2fd4fc4"
      },
      "execution_count": null,
      "outputs": [
        {
          "output_type": "execute_result",
          "data": {
            "text/plain": [
              "['aplikasi',\n",
              " 'mudah',\n",
              " 'sulit',\n",
              " 'antre',\n",
              " 'gilir',\n",
              " 'scan',\n",
              " 'barcode',\n",
              " 'aplikasi',\n",
              " 'eror',\n",
              " 'gak',\n",
              " 'isi',\n",
              " 'bbm',\n",
              " 'sia',\n",
              " 'sia',\n",
              " 'ngantre']"
            ]
          },
          "metadata": {},
          "execution_count": 28
        }
      ]
    },
    {
      "cell_type": "code",
      "source": [
        "def normalizing_slang(tokenized_text):\n",
        "    result = [word if word not in slang_words.keys() else slang_words[word] for word in tokenized_text]\n",
        "    return result"
      ],
      "metadata": {
        "id": "W3tLaYGJW7PN"
      },
      "execution_count": null,
      "outputs": []
    },
    {
      "cell_type": "code",
      "source": [
        "normalized_slang = tokenized.apply(normalizing_slang)"
      ],
      "metadata": {
        "id": "5JROT4bWYhdC"
      },
      "execution_count": null,
      "outputs": []
    },
    {
      "cell_type": "code",
      "source": [
        "normalized_slang[5]"
      ],
      "metadata": {
        "id": "RQbdy_jjZtsK",
        "colab": {
          "base_uri": "https://localhost:8080/"
        },
        "outputId": "0b90edf3-e14a-41fa-a25c-5f1734b534aa"
      },
      "execution_count": null,
      "outputs": [
        {
          "output_type": "execute_result",
          "data": {
            "text/plain": [
              "['tahu',\n",
              " 'aplikasi',\n",
              " 'buruk',\n",
              " 'hidup',\n",
              " 'kwalitasnya',\n",
              " 'nol',\n",
              " 'banding',\n",
              " 'aplikasi',\n",
              " 'performa',\n",
              " 'kecewa',\n",
              " 'error',\n",
              " 'dan',\n",
              " 'lambat',\n",
              " 'proses',\n",
              " 'mohon',\n",
              " 'it',\n",
              " 'pertamina',\n",
              " 'untuk',\n",
              " 'baik',\n",
              " 'kwalutas',\n",
              " 'aplikasi',\n",
              " 'ganti',\n",
              " 'pinter',\n",
              " 'bidang',\n",
              " 'it']"
            ]
          },
          "metadata": {},
          "execution_count": 31
        }
      ]
    },
    {
      "cell_type": "markdown",
      "source": [
        "### Normalize words which is not stored in slang words and stop words"
      ],
      "metadata": {
        "id": "bJCC-_WREd6m"
      }
    },
    {
      "cell_type": "markdown",
      "source": [
        "#### Check the progress"
      ],
      "metadata": {
        "id": "TIt7uL6qvY9_"
      }
    },
    {
      "cell_type": "code",
      "source": [
        "def join(list_word):\n",
        "    return \" \".join(list_word)\n",
        "\n",
        "joining = normalized_slang.apply(join)"
      ],
      "metadata": {
        "id": "m-1vjhDwbWQh"
      },
      "execution_count": null,
      "outputs": []
    },
    {
      "cell_type": "code",
      "source": [
        "comparison = pd.concat([df['content'], joining], axis=1)\n",
        "comparison.columns = ['before', 'after']"
      ],
      "metadata": {
        "id": "KwgwgOwdFB7_"
      },
      "execution_count": null,
      "outputs": []
    },
    {
      "cell_type": "code",
      "source": [
        "comparison"
      ],
      "metadata": {
        "colab": {
          "base_uri": "https://localhost:8080/"
        },
        "id": "0TekH3jcaL1L",
        "outputId": "c9d1c17e-35f6-4b49-88d8-38803d121527"
      },
      "execution_count": null,
      "outputs": [
        {
          "output_type": "execute_result",
          "data": {
            "text/plain": [
              "                                                before  \\\n",
              "0    Aplikasi itu harusnya memudahkan, ini malah se...   \n",
              "1    Aplikasinya dalam 2 bulan terakhir ini mengece...   \n",
              "2    Aplikasi sampah. Sudah setahun lebih gak ada i...   \n",
              "3    Aplikasi tidak berguna dan membingungkan, pend...   \n",
              "4    SUGGESTION: Pada halaman ketika mengisi biodat...   \n",
              "..                                                 ...   \n",
              "180  Setiap mau bayar gak bisa di scan barcodenya j...   \n",
              "181  Aplikasi tidak bermutu banget , baru juga mau ...   \n",
              "182  Gak bisa di buka aplikasi nya habis update.. G...   \n",
              "183  apk ribet menyusahkan rakyat, wajib punya barc...   \n",
              "184  Sudah mengajukan keluhan dan sudah disetujui t...   \n",
              "\n",
              "                                                 after  \n",
              "0    aplikasi mudah sulit antre gilir scan barcode ...  \n",
              "1    aplikasi kecewa nopol daftar ajuk banding doku...  \n",
              "2    aplikasi sampah tahun gak improvement ubah dat...  \n",
              "3    aplikasi guna bingung daftar sulit belit belit...  \n",
              "4    suggestion halaman isi biodata on android pili...  \n",
              "..                                                 ...  \n",
              "180  bayar gak scan barcodenya jelek aplikasi perin...  \n",
              "181                          aplikasi mutu layan henti  \n",
              "182  gak buka aplikasi habis update bagaimana solus...  \n",
              "183  apk ribet susah rakyat wajib barcode tapi suli...  \n",
              "184                  aju keluh tuju lanjut daftar aneh  \n",
              "\n",
              "[185 rows x 2 columns]"
            ],
            "text/html": [
              "\n",
              "  <div id=\"df-e10a07a6-2444-4d05-9318-fb6f19097831\" class=\"colab-df-container\">\n",
              "    <div>\n",
              "<style scoped>\n",
              "    .dataframe tbody tr th:only-of-type {\n",
              "        vertical-align: middle;\n",
              "    }\n",
              "\n",
              "    .dataframe tbody tr th {\n",
              "        vertical-align: top;\n",
              "    }\n",
              "\n",
              "    .dataframe thead th {\n",
              "        text-align: right;\n",
              "    }\n",
              "</style>\n",
              "<table border=\"1\" class=\"dataframe\">\n",
              "  <thead>\n",
              "    <tr style=\"text-align: right;\">\n",
              "      <th></th>\n",
              "      <th>before</th>\n",
              "      <th>after</th>\n",
              "    </tr>\n",
              "  </thead>\n",
              "  <tbody>\n",
              "    <tr>\n",
              "      <th>0</th>\n",
              "      <td>Aplikasi itu harusnya memudahkan, ini malah se...</td>\n",
              "      <td>aplikasi mudah sulit antre gilir scan barcode ...</td>\n",
              "    </tr>\n",
              "    <tr>\n",
              "      <th>1</th>\n",
              "      <td>Aplikasinya dalam 2 bulan terakhir ini mengece...</td>\n",
              "      <td>aplikasi kecewa nopol daftar ajuk banding doku...</td>\n",
              "    </tr>\n",
              "    <tr>\n",
              "      <th>2</th>\n",
              "      <td>Aplikasi sampah. Sudah setahun lebih gak ada i...</td>\n",
              "      <td>aplikasi sampah tahun gak improvement ubah dat...</td>\n",
              "    </tr>\n",
              "    <tr>\n",
              "      <th>3</th>\n",
              "      <td>Aplikasi tidak berguna dan membingungkan, pend...</td>\n",
              "      <td>aplikasi guna bingung daftar sulit belit belit...</td>\n",
              "    </tr>\n",
              "    <tr>\n",
              "      <th>4</th>\n",
              "      <td>SUGGESTION: Pada halaman ketika mengisi biodat...</td>\n",
              "      <td>suggestion halaman isi biodata on android pili...</td>\n",
              "    </tr>\n",
              "    <tr>\n",
              "      <th>...</th>\n",
              "      <td>...</td>\n",
              "      <td>...</td>\n",
              "    </tr>\n",
              "    <tr>\n",
              "      <th>180</th>\n",
              "      <td>Setiap mau bayar gak bisa di scan barcodenya j...</td>\n",
              "      <td>bayar gak scan barcodenya jelek aplikasi perin...</td>\n",
              "    </tr>\n",
              "    <tr>\n",
              "      <th>181</th>\n",
              "      <td>Aplikasi tidak bermutu banget , baru juga mau ...</td>\n",
              "      <td>aplikasi mutu layan henti</td>\n",
              "    </tr>\n",
              "    <tr>\n",
              "      <th>182</th>\n",
              "      <td>Gak bisa di buka aplikasi nya habis update.. G...</td>\n",
              "      <td>gak buka aplikasi habis update bagaimana solus...</td>\n",
              "    </tr>\n",
              "    <tr>\n",
              "      <th>183</th>\n",
              "      <td>apk ribet menyusahkan rakyat, wajib punya barc...</td>\n",
              "      <td>apk ribet susah rakyat wajib barcode tapi suli...</td>\n",
              "    </tr>\n",
              "    <tr>\n",
              "      <th>184</th>\n",
              "      <td>Sudah mengajukan keluhan dan sudah disetujui t...</td>\n",
              "      <td>aju keluh tuju lanjut daftar aneh</td>\n",
              "    </tr>\n",
              "  </tbody>\n",
              "</table>\n",
              "<p>185 rows × 2 columns</p>\n",
              "</div>\n",
              "    <div class=\"colab-df-buttons\">\n",
              "\n",
              "  <div class=\"colab-df-container\">\n",
              "    <button class=\"colab-df-convert\" onclick=\"convertToInteractive('df-e10a07a6-2444-4d05-9318-fb6f19097831')\"\n",
              "            title=\"Convert this dataframe to an interactive table.\"\n",
              "            style=\"display:none;\">\n",
              "\n",
              "  <svg xmlns=\"http://www.w3.org/2000/svg\" height=\"24px\" viewBox=\"0 -960 960 960\">\n",
              "    <path d=\"M120-120v-720h720v720H120Zm60-500h600v-160H180v160Zm220 220h160v-160H400v160Zm0 220h160v-160H400v160ZM180-400h160v-160H180v160Zm440 0h160v-160H620v160ZM180-180h160v-160H180v160Zm440 0h160v-160H620v160Z\"/>\n",
              "  </svg>\n",
              "    </button>\n",
              "\n",
              "  <style>\n",
              "    .colab-df-container {\n",
              "      display:flex;\n",
              "      gap: 12px;\n",
              "    }\n",
              "\n",
              "    .colab-df-convert {\n",
              "      background-color: #E8F0FE;\n",
              "      border: none;\n",
              "      border-radius: 50%;\n",
              "      cursor: pointer;\n",
              "      display: none;\n",
              "      fill: #1967D2;\n",
              "      height: 32px;\n",
              "      padding: 0 0 0 0;\n",
              "      width: 32px;\n",
              "    }\n",
              "\n",
              "    .colab-df-convert:hover {\n",
              "      background-color: #E2EBFA;\n",
              "      box-shadow: 0px 1px 2px rgba(60, 64, 67, 0.3), 0px 1px 3px 1px rgba(60, 64, 67, 0.15);\n",
              "      fill: #174EA6;\n",
              "    }\n",
              "\n",
              "    .colab-df-buttons div {\n",
              "      margin-bottom: 4px;\n",
              "    }\n",
              "\n",
              "    [theme=dark] .colab-df-convert {\n",
              "      background-color: #3B4455;\n",
              "      fill: #D2E3FC;\n",
              "    }\n",
              "\n",
              "    [theme=dark] .colab-df-convert:hover {\n",
              "      background-color: #434B5C;\n",
              "      box-shadow: 0px 1px 3px 1px rgba(0, 0, 0, 0.15);\n",
              "      filter: drop-shadow(0px 1px 2px rgba(0, 0, 0, 0.3));\n",
              "      fill: #FFFFFF;\n",
              "    }\n",
              "  </style>\n",
              "\n",
              "    <script>\n",
              "      const buttonEl =\n",
              "        document.querySelector('#df-e10a07a6-2444-4d05-9318-fb6f19097831 button.colab-df-convert');\n",
              "      buttonEl.style.display =\n",
              "        google.colab.kernel.accessAllowed ? 'block' : 'none';\n",
              "\n",
              "      async function convertToInteractive(key) {\n",
              "        const element = document.querySelector('#df-e10a07a6-2444-4d05-9318-fb6f19097831');\n",
              "        const dataTable =\n",
              "          await google.colab.kernel.invokeFunction('convertToInteractive',\n",
              "                                                    [key], {});\n",
              "        if (!dataTable) return;\n",
              "\n",
              "        const docLinkHtml = 'Like what you see? Visit the ' +\n",
              "          '<a target=\"_blank\" href=https://colab.research.google.com/notebooks/data_table.ipynb>data table notebook</a>'\n",
              "          + ' to learn more about interactive tables.';\n",
              "        element.innerHTML = '';\n",
              "        dataTable['output_type'] = 'display_data';\n",
              "        await google.colab.output.renderOutput(dataTable, element);\n",
              "        const docLink = document.createElement('div');\n",
              "        docLink.innerHTML = docLinkHtml;\n",
              "        element.appendChild(docLink);\n",
              "      }\n",
              "    </script>\n",
              "  </div>\n",
              "\n",
              "\n",
              "<div id=\"df-e9b3ded1-769b-42da-a36a-3205cd4b5c17\">\n",
              "  <button class=\"colab-df-quickchart\" onclick=\"quickchart('df-e9b3ded1-769b-42da-a36a-3205cd4b5c17')\"\n",
              "            title=\"Suggest charts\"\n",
              "            style=\"display:none;\">\n",
              "\n",
              "<svg xmlns=\"http://www.w3.org/2000/svg\" height=\"24px\"viewBox=\"0 0 24 24\"\n",
              "     width=\"24px\">\n",
              "    <g>\n",
              "        <path d=\"M19 3H5c-1.1 0-2 .9-2 2v14c0 1.1.9 2 2 2h14c1.1 0 2-.9 2-2V5c0-1.1-.9-2-2-2zM9 17H7v-7h2v7zm4 0h-2V7h2v10zm4 0h-2v-4h2v4z\"/>\n",
              "    </g>\n",
              "</svg>\n",
              "  </button>\n",
              "\n",
              "<style>\n",
              "  .colab-df-quickchart {\n",
              "      --bg-color: #E8F0FE;\n",
              "      --fill-color: #1967D2;\n",
              "      --hover-bg-color: #E2EBFA;\n",
              "      --hover-fill-color: #174EA6;\n",
              "      --disabled-fill-color: #AAA;\n",
              "      --disabled-bg-color: #DDD;\n",
              "  }\n",
              "\n",
              "  [theme=dark] .colab-df-quickchart {\n",
              "      --bg-color: #3B4455;\n",
              "      --fill-color: #D2E3FC;\n",
              "      --hover-bg-color: #434B5C;\n",
              "      --hover-fill-color: #FFFFFF;\n",
              "      --disabled-bg-color: #3B4455;\n",
              "      --disabled-fill-color: #666;\n",
              "  }\n",
              "\n",
              "  .colab-df-quickchart {\n",
              "    background-color: var(--bg-color);\n",
              "    border: none;\n",
              "    border-radius: 50%;\n",
              "    cursor: pointer;\n",
              "    display: none;\n",
              "    fill: var(--fill-color);\n",
              "    height: 32px;\n",
              "    padding: 0;\n",
              "    width: 32px;\n",
              "  }\n",
              "\n",
              "  .colab-df-quickchart:hover {\n",
              "    background-color: var(--hover-bg-color);\n",
              "    box-shadow: 0 1px 2px rgba(60, 64, 67, 0.3), 0 1px 3px 1px rgba(60, 64, 67, 0.15);\n",
              "    fill: var(--button-hover-fill-color);\n",
              "  }\n",
              "\n",
              "  .colab-df-quickchart-complete:disabled,\n",
              "  .colab-df-quickchart-complete:disabled:hover {\n",
              "    background-color: var(--disabled-bg-color);\n",
              "    fill: var(--disabled-fill-color);\n",
              "    box-shadow: none;\n",
              "  }\n",
              "\n",
              "  .colab-df-spinner {\n",
              "    border: 2px solid var(--fill-color);\n",
              "    border-color: transparent;\n",
              "    border-bottom-color: var(--fill-color);\n",
              "    animation:\n",
              "      spin 1s steps(1) infinite;\n",
              "  }\n",
              "\n",
              "  @keyframes spin {\n",
              "    0% {\n",
              "      border-color: transparent;\n",
              "      border-bottom-color: var(--fill-color);\n",
              "      border-left-color: var(--fill-color);\n",
              "    }\n",
              "    20% {\n",
              "      border-color: transparent;\n",
              "      border-left-color: var(--fill-color);\n",
              "      border-top-color: var(--fill-color);\n",
              "    }\n",
              "    30% {\n",
              "      border-color: transparent;\n",
              "      border-left-color: var(--fill-color);\n",
              "      border-top-color: var(--fill-color);\n",
              "      border-right-color: var(--fill-color);\n",
              "    }\n",
              "    40% {\n",
              "      border-color: transparent;\n",
              "      border-right-color: var(--fill-color);\n",
              "      border-top-color: var(--fill-color);\n",
              "    }\n",
              "    60% {\n",
              "      border-color: transparent;\n",
              "      border-right-color: var(--fill-color);\n",
              "    }\n",
              "    80% {\n",
              "      border-color: transparent;\n",
              "      border-right-color: var(--fill-color);\n",
              "      border-bottom-color: var(--fill-color);\n",
              "    }\n",
              "    90% {\n",
              "      border-color: transparent;\n",
              "      border-bottom-color: var(--fill-color);\n",
              "    }\n",
              "  }\n",
              "</style>\n",
              "\n",
              "  <script>\n",
              "    async function quickchart(key) {\n",
              "      const quickchartButtonEl =\n",
              "        document.querySelector('#' + key + ' button');\n",
              "      quickchartButtonEl.disabled = true;  // To prevent multiple clicks.\n",
              "      quickchartButtonEl.classList.add('colab-df-spinner');\n",
              "      try {\n",
              "        const charts = await google.colab.kernel.invokeFunction(\n",
              "            'suggestCharts', [key], {});\n",
              "      } catch (error) {\n",
              "        console.error('Error during call to suggestCharts:', error);\n",
              "      }\n",
              "      quickchartButtonEl.classList.remove('colab-df-spinner');\n",
              "      quickchartButtonEl.classList.add('colab-df-quickchart-complete');\n",
              "    }\n",
              "    (() => {\n",
              "      let quickchartButtonEl =\n",
              "        document.querySelector('#df-e9b3ded1-769b-42da-a36a-3205cd4b5c17 button');\n",
              "      quickchartButtonEl.style.display =\n",
              "        google.colab.kernel.accessAllowed ? 'block' : 'none';\n",
              "    })();\n",
              "  </script>\n",
              "</div>\n",
              "    </div>\n",
              "  </div>\n"
            ],
            "application/vnd.google.colaboratory.intrinsic+json": {
              "type": "dataframe",
              "variable_name": "comparison",
              "summary": "{\n  \"name\": \"comparison\",\n  \"rows\": 185,\n  \"fields\": [\n    {\n      \"column\": \"before\",\n      \"properties\": {\n        \"dtype\": \"string\",\n        \"num_unique_values\": 185,\n        \"samples\": [\n          \"Ini bukannya memudahkan tapi menyulitkan, saya sudah daftar bolak balik tetep gagal gara gara foto kendaraan yang kurang jelas lah, nopol tidak kelihatan lah, foto sudah bagus dan sangat jelas sekali sampai pinjam hp teman yang kameranya lebih bagus tetap saja gagal foto tidak jelas mulu\",\n          \"Bukannya aplikasi memudahkan malah menyulitkan, selalu ada bug, klo blm clear knp sudah realese ini aplikasi , pengembang gak ada perubahan\",\n          \"Menunggu verifikasi dr 3 hari belum ada tanda2 mau di acc, ga bisa berbuat apa2 hanya bisa menunggu saja\"\n        ],\n        \"semantic_type\": \"\",\n        \"description\": \"\"\n      }\n    },\n    {\n      \"column\": \"after\",\n      \"properties\": {\n        \"dtype\": \"string\",\n        \"num_unique_values\": 185,\n        \"samples\": [\n          \"mudah sulit daftar bolak tetep gagal gara gara foto kendara nopol foto bagus pinjam hp teman kamera bagus gagal foto melulu\",\n          \"aplikasi mudah sulit bug kalau belum clear kenapa realese aplikasi kembang gak ubah\",\n          \"tunggu verifikasi dr tanda accord ga buat tunggu\"\n        ],\n        \"semantic_type\": \"\",\n        \"description\": \"\"\n      }\n    }\n  ]\n}"
            }
          },
          "metadata": {},
          "execution_count": 34
        }
      ]
    },
    {
      "cell_type": "markdown",
      "source": [
        "#### scan the unknown words"
      ],
      "metadata": {
        "id": "Sv6wAlRZys1U"
      }
    },
    {
      "cell_type": "code",
      "source": [
        "unknown_words = []\n",
        "\n",
        "def detecting_unknown(list_word):\n",
        "    for word in list_word:\n",
        "        if word not in root_words and word not in unknown_words:\n",
        "            unknown_words.append(word)\n",
        "\n",
        "    return list_word"
      ],
      "metadata": {
        "id": "gpf5B7lLcKY1"
      },
      "execution_count": null,
      "outputs": []
    },
    {
      "cell_type": "code",
      "source": [
        "detect = normalized_slang.apply(detecting_unknown)"
      ],
      "metadata": {
        "id": "LUBqhM89c14t"
      },
      "execution_count": null,
      "outputs": []
    },
    {
      "cell_type": "code",
      "source": [
        "len(unknown_words)"
      ],
      "metadata": {
        "colab": {
          "base_uri": "https://localhost:8080/"
        },
        "id": "e3Y57YpZaWXe",
        "outputId": "b9ccb8f7-32a0-40ea-b248-8dfc43217c87"
      },
      "execution_count": null,
      "outputs": [
        {
          "output_type": "execute_result",
          "data": {
            "text/plain": [
              "410"
            ]
          },
          "metadata": {},
          "execution_count": 37
        }
      ]
    },
    {
      "cell_type": "code",
      "source": [
        "unknown_words[:5]"
      ],
      "metadata": {
        "colab": {
          "base_uri": "https://localhost:8080/"
        },
        "id": "thgZ-uCSabCX",
        "outputId": "a05b88a7-e28b-4bf6-af30-cc3d8eecc4f3"
      },
      "execution_count": null,
      "outputs": [
        {
          "output_type": "execute_result",
          "data": {
            "text/plain": [
              "['scan', 'barcode', 'gak', 'bbm', 'ngantre']"
            ]
          },
          "metadata": {},
          "execution_count": 38
        }
      ]
    },
    {
      "cell_type": "markdown",
      "source": [
        "#### using generative AI to obtain dictionary for normalizing"
      ],
      "metadata": {
        "id": "zkrL7ETZu9L5"
      }
    },
    {
      "cell_type": "code",
      "source": [
        "!pip install -U google-generativeai"
      ],
      "metadata": {
        "colab": {
          "base_uri": "https://localhost:8080/"
        },
        "id": "d50L8XrVX8j-",
        "outputId": "90ba9f4f-3bc8-49d3-c6dc-6062afb29e5d"
      },
      "execution_count": null,
      "outputs": [
        {
          "output_type": "stream",
          "name": "stdout",
          "text": [
            "Requirement already satisfied: google-generativeai in /usr/local/lib/python3.10/dist-packages (0.5.0)\n",
            "Requirement already satisfied: google-ai-generativelanguage==0.6.1 in /usr/local/lib/python3.10/dist-packages (from google-generativeai) (0.6.1)\n",
            "Requirement already satisfied: google-api-core in /usr/local/lib/python3.10/dist-packages (from google-generativeai) (2.11.1)\n",
            "Requirement already satisfied: google-api-python-client in /usr/local/lib/python3.10/dist-packages (from google-generativeai) (2.84.0)\n",
            "Requirement already satisfied: google-auth>=2.15.0 in /usr/local/lib/python3.10/dist-packages (from google-generativeai) (2.27.0)\n",
            "Requirement already satisfied: protobuf in /usr/local/lib/python3.10/dist-packages (from google-generativeai) (3.20.3)\n",
            "Requirement already satisfied: pydantic in /usr/local/lib/python3.10/dist-packages (from google-generativeai) (2.6.4)\n",
            "Requirement already satisfied: tqdm in /usr/local/lib/python3.10/dist-packages (from google-generativeai) (4.66.2)\n",
            "Requirement already satisfied: typing-extensions in /usr/local/lib/python3.10/dist-packages (from google-generativeai) (4.10.0)\n",
            "Requirement already satisfied: proto-plus<2.0.0dev,>=1.22.3 in /usr/local/lib/python3.10/dist-packages (from google-ai-generativelanguage==0.6.1->google-generativeai) (1.23.0)\n",
            "Requirement already satisfied: cachetools<6.0,>=2.0.0 in /usr/local/lib/python3.10/dist-packages (from google-auth>=2.15.0->google-generativeai) (5.3.3)\n",
            "Requirement already satisfied: pyasn1-modules>=0.2.1 in /usr/local/lib/python3.10/dist-packages (from google-auth>=2.15.0->google-generativeai) (0.4.0)\n",
            "Requirement already satisfied: rsa<5,>=3.1.4 in /usr/local/lib/python3.10/dist-packages (from google-auth>=2.15.0->google-generativeai) (4.9)\n",
            "Requirement already satisfied: googleapis-common-protos<2.0.dev0,>=1.56.2 in /usr/local/lib/python3.10/dist-packages (from google-api-core->google-generativeai) (1.63.0)\n",
            "Requirement already satisfied: requests<3.0.0.dev0,>=2.18.0 in /usr/local/lib/python3.10/dist-packages (from google-api-core->google-generativeai) (2.31.0)\n",
            "Requirement already satisfied: httplib2<1dev,>=0.15.0 in /usr/local/lib/python3.10/dist-packages (from google-api-python-client->google-generativeai) (0.22.0)\n",
            "Requirement already satisfied: google-auth-httplib2>=0.1.0 in /usr/local/lib/python3.10/dist-packages (from google-api-python-client->google-generativeai) (0.1.1)\n",
            "Requirement already satisfied: uritemplate<5,>=3.0.1 in /usr/local/lib/python3.10/dist-packages (from google-api-python-client->google-generativeai) (4.1.1)\n",
            "Requirement already satisfied: annotated-types>=0.4.0 in /usr/local/lib/python3.10/dist-packages (from pydantic->google-generativeai) (0.6.0)\n",
            "Requirement already satisfied: pydantic-core==2.16.3 in /usr/local/lib/python3.10/dist-packages (from pydantic->google-generativeai) (2.16.3)\n",
            "Requirement already satisfied: grpcio<2.0dev,>=1.33.2 in /usr/local/lib/python3.10/dist-packages (from google-api-core->google-generativeai) (1.62.1)\n",
            "Requirement already satisfied: grpcio-status<2.0.dev0,>=1.33.2 in /usr/local/lib/python3.10/dist-packages (from google-api-core->google-generativeai) (1.48.2)\n",
            "Requirement already satisfied: pyparsing!=3.0.0,!=3.0.1,!=3.0.2,!=3.0.3,<4,>=2.4.2 in /usr/local/lib/python3.10/dist-packages (from httplib2<1dev,>=0.15.0->google-api-python-client->google-generativeai) (3.1.2)\n",
            "Requirement already satisfied: pyasn1<0.7.0,>=0.4.6 in /usr/local/lib/python3.10/dist-packages (from pyasn1-modules>=0.2.1->google-auth>=2.15.0->google-generativeai) (0.6.0)\n",
            "Requirement already satisfied: charset-normalizer<4,>=2 in /usr/local/lib/python3.10/dist-packages (from requests<3.0.0.dev0,>=2.18.0->google-api-core->google-generativeai) (3.3.2)\n",
            "Requirement already satisfied: idna<4,>=2.5 in /usr/local/lib/python3.10/dist-packages (from requests<3.0.0.dev0,>=2.18.0->google-api-core->google-generativeai) (3.6)\n",
            "Requirement already satisfied: urllib3<3,>=1.21.1 in /usr/local/lib/python3.10/dist-packages (from requests<3.0.0.dev0,>=2.18.0->google-api-core->google-generativeai) (2.0.7)\n",
            "Requirement already satisfied: certifi>=2017.4.17 in /usr/local/lib/python3.10/dist-packages (from requests<3.0.0.dev0,>=2.18.0->google-api-core->google-generativeai) (2024.2.2)\n"
          ]
        }
      ]
    },
    {
      "cell_type": "code",
      "source": [
        "import google.generativeai as genai\n",
        "import os\n",
        "from google.colab import userdata\n",
        "GOOGLE_API_KEY=userdata.get('GOOGLE_API_KEY')\n",
        "\n",
        "genai.configure(api_key=GOOGLE_API_KEY)\n",
        "\n",
        "# https://aistudio.google.com/app/u/3/apikey\n",
        "# https://github.com/google-gemini/cookbook/blob/main/quickstarts/Authentication.ipynb"
      ],
      "metadata": {
        "id": "4u4rAnVpdN83"
      },
      "execution_count": null,
      "outputs": []
    },
    {
      "cell_type": "code",
      "source": [
        "model = genai.GenerativeModel('gemini-1.0-pro-latest')\n",
        "\n",
        "response = model.generate_content(\n",
        "    f\"I have a list of Indonesian words which do not exist in the Indonesian \\\n",
        "    dictionary. Provide me with a Python dictionary containing key-value pairs \\\n",
        "    of unnormalized and normalised words. Here is the list of Indonesian words.\\\n",
        "     {unknown_words[:100]}. provide me a whole dictionary\"\n",
        "    )\n",
        "\n",
        "result = response.text\n",
        "print(result)"
      ],
      "metadata": {
        "colab": {
          "base_uri": "https://localhost:8080/"
        },
        "id": "-JYqlmYzXu5h",
        "outputId": "44dda537-7705-4e5f-b4c3-49ff213b1784"
      },
      "execution_count": null,
      "outputs": [
        {
          "output_type": "stream",
          "name": "stdout",
          "text": [
            "```python\n",
            "unnormalized_normalized_words = {\n",
            "    \"scan\": \"pindai\",\n",
            "    \"barcode\": \"kode batang\",\n",
            "    \"gak\": \"tidak\",\n",
            "    \"bbm\": \"bahan bakar minyak\",\n",
            "    \"ngantre\": \"mengantri\",\n",
            "    \"nopol\": \"nomor polisi\",\n",
            "    \"banding\": \"perbandingan\",\n",
            "    \"ga\": \"tidak\",\n",
            "    \"verificator\": \"verifikator\",\n",
            "    \"nunggu\": \"menunggu\",\n",
            "    \"gaguna\": \"tidak berguna\",\n",
            "    \"improvement\": \"peningkatan\",\n",
            "    \"error\": \"kesalahan\",\n",
            "    \"lebih baik\": \"lebih baik\",\n",
            "    \"repot\": \"merepotkan\",\n",
            "    \"fitur\": \"fitur\",\n",
            "    \"sangahan\": \"bantahan\",\n",
            "    \"suggestion\": \"saran\",\n",
            "    \"on\": \"aktif\",\n",
            "    \"android\": \"android\",\n",
            "    \"tenaik\": \"naik\",\n",
            "    \"keboard\": \"keyboard\",\n",
            "    \"handphone\": \"ponsel\",\n",
            "    \"web\": \"situs web\",\n",
            "    \"mengupload\": \"mengunggah\",\n",
            "    \"ktp\": \"kartu tanda penduduk\",\n",
            "    \"stnk\": \"surat tanda nomor kendaraan\",\n",
            "    \"verifikasi\": \"verifikasi\",\n",
            "    \"kwalitasnya\": \"kualitasnya\",\n",
            "    \"it\": \"itu\",\n",
            "    \"pertamina\": \"pertamina\",\n",
            "    \"kwalutas\": \"kualitas\",\n",
            "    \"pinter\": \"pintar\",\n",
            "    \"cashless\": \"cashless\",\n",
            "    \"wallet\": \"dompet digital\",\n",
            "    \"salah\": \"salah\",\n",
            "    \"otp\": \"kata sandi sekali pakai\",\n",
            "    \"sms\": \"pesan singkat\",\n",
            "    \"tolong\": \"tolong\",\n",
            "    \"bug\": \"bug\",\n",
            "    \"gopay\": \"gopay\",\n",
            "    \"no\": \"nomor\",\n",
            "    \"hp\": \"ponsel\",\n",
            "    \"selesai\": \"selesai\",\n",
            "    \"ngebug\": \"mengalami bug\",\n",
            "    \"dipake\": \"digunakan\",\n",
            "    \"white\": \"putih\",\n",
            "    \"screen\": \"layar\",\n",
            "    \"connect\": \"terhubung\",\n",
            "    \"ovo\": \"ovo\",\n",
            "    \"plat\": \"nomor polisi\",\n",
            "    \"hadeuh\": \"aduh\",\n",
            "    \"pdahal\": \"padahal\",\n",
            "    \"update\": \"pembaruan\",\n",
            "    \"diupdate\": \"diperbarui\",\n",
            "    \"diverif\": \"diverifikasi\",\n",
            "    \"trus\": \"lalu\",\n",
            "    \"homenya\": \"halaman utama\",\n",
            "    \"nuhin\": \"mengucapkan selamat\",\n",
            "    \"selamat\": \"selamat\",\n",
            "    \"login\": \"masuk\",\n",
            "    \"sbelumnya\": \"sebelumnya\",\n",
            "    \"diserutujui\": \"disetujui\",\n",
            "    \"tetep\": \"tetap\",\n",
            "    \"gk\": \"tidak\",\n",
            "    \"hedeh\": \"aduh\",\n",
            "    \"feb\": \"februari\",\n",
            "    \"kebangeten\": \"kelewatan\",\n",
            "    \"mypertamina\": \"mypertamina\",\n",
            "    \"updatenya\": \"pembaruannya\",\n",
            "    \"fiturnya\": \"fiturnya\",\n",
            "    \"ngumpulin\": \"mengumpulkan\",\n",
            "    \"tuker\": \"menukar\",\n",
            "    \"merchandise\": \"merchandise\",\n",
            "    \"upgrade\": \"peningkatan\",\n",
            "    \"boro\": \"jangan harap\",\n",
            "    \"duluan\": \"lebih dahulu\",\n",
            "    \"spesifikasi\": \"spesifikasi\",\n",
            "    \"continue\": \"lanjutkan\",\n",
            "    \"cleam\": \"bersih\",\n",
            "    \"qr\": \"kode QR\",\n",
            "    \"seringkali\": \"sering kali\",\n",
            "    \"spbu\": \"stasiun pengisian bahan bakar umum\",\n",
            "    \"saldo\": \"saldo\",\n",
            "    \"linkaja\": \"linkaja\",\n",
            "    \"download\": \"mengunduh\",\n",
            "    \"skrg\": \"sekarang\",\n",
            "    \"sdh\": \"sudah\",\n",
            "    \"my\": \"milikku\",\n",
            "    \"udh\": \"sudah\",\n",
            "    \"ngerasa\": \"merasa\",\n",
            "    \"antri\": \"mengantri\",\n",
            "    \"pom\": \"stasiun pengisian bahan bakar umum\",\n",
            "    \"hadehh\": \"aduh\",\n",
            "    \"kebijaksanannya\": \"kebijaksanaannya\",\n",
            "    \"sumsel\": \"sumatera selatan\",\n",
            "    \"palembang\": \"palembang\",\n",
            "    \"sayang\": \"sayang\",\n",
            "    \"offline\": \"tidak terhubung\",\n",
            "    \"promo\": \"promosi\",\n",
            "}\n",
            "```\n"
          ]
        }
      ]
    },
    {
      "cell_type": "code",
      "source": [
        "response2 = model.generate_content(\n",
        "    f\"I have a list of Indonesian words which do not exist in the Indonesian \\\n",
        "    dictionary. Provide me with a Python dictionary containing key-value pairs \\\n",
        "    of unnormalized and normalised words. Here is the list of Indonesian words.\\\n",
        "     {unknown_words[100:200]}. provide me a whole dictionary\"\n",
        "    )\n",
        "\n",
        "result2 = response2.text\n",
        "print(result2)"
      ],
      "metadata": {
        "colab": {
          "base_uri": "https://localhost:8080/"
        },
        "id": "2C0VC3MQlcoA",
        "outputId": "016aac45-0080-4c41-a4b5-69bd9d608c00"
      },
      "execution_count": null,
      "outputs": [
        {
          "output_type": "stream",
          "name": "stdout",
          "text": [
            "```python\n",
            "unnormalized_to_normalized = {\n",
            "    \"dg\": \"dengan\",\n",
            "    \"gara\": \"karena\",\n",
            "    \"halooo\": \"halo\",\n",
            "    \"tidur\": \"tidur\",\n",
            "    \"pke\": \"pakai\",\n",
            "    \"wifi\": \"wifi\",\n",
            "    \"connection\": \"koneksi\",\n",
            "    \"muter\": \"mutar\",\n",
            "    \"supir\": \"sopir\",\n",
            "    \"gabisa\": \"tidak bisa\",\n",
            "    \"prusahaan\": \"perusahaan\",\n",
            "    \"servernya\": \"server\",\n",
            "    \"saya\": \"saya\",\n",
            "    \"wuuu\": \"wow\",\n",
            "    \"ribet\": \"ribet\",\n",
            "    \"barkot\": \"barcode\",\n",
            "    \"dpan\": \"depan\",\n",
            "    \"tah\": \"tau\",\n",
            "    \"kekmna\": \"kemana\",\n",
            "    \"mksdya\": \"maksudnya\",\n",
            "    \"ferifikasi\": \"verifikasi\",\n",
            "    \"perifikasi\": \"verifikasi\",\n",
            "    \"kyakya\": \"kayaknya\",\n",
            "    \"admin\": \"admin\",\n",
            "    \"aplikasiya\": \"aplikasi\",\n",
            "    \"kyak\": \"kayak\",\n",
            "    \"org\": \"orang\",\n",
            "    \"gagallll\": \"gagal\",\n",
            "    \"teruss\": \"terus\",\n",
            "    \"hbs\": \"habis\",\n",
            "    \"upload\": \"upload\",\n",
            "    \"foro\": \"foto\",\n",
            "    \"an\": \"dan\",\n",
            "    \"lahh\": \"lah\",\n",
            "    \"diem\": \"diam\",\n",
            "    \"nonton\": \"nonton\",\n",
            "    \"daftarin\": \"daftarin\",\n",
            "    \"hmm\": \"hmm\",\n",
            "    \"bntu\": \"bantu\",\n",
            "    \"by\": \"oleh\",\n",
            "    \"call\": \"call\",\n",
            "    \"center\": \"center\",\n",
            "    \"nemu\": \"nemu\",\n",
            "    \"nyusahin\": \"nyusahin\",\n",
            "    \"diinput\": \"diinput\",\n",
            "    \"bumn\": \"bumn\",\n",
            "    \"saja\": \"saja\",\n",
            "    \"experience\": \"pengalaman\",\n",
            "    \"ngulang\": \"ngulang\",\n",
            "    \"develop\": \"develop\",\n",
            "    \"cs\": \"cs\",\n",
            "    \"link\": \"link\",\n",
            "    \"diwajibin\": \"diwajibkan\",\n",
            "    \"system\": \"sistem\",\n",
            "    \"poto\": \"foto\",\n",
            "    \"erorr\": \"error\",\n",
            "    \"stm\": \"steamer\",\n",
            "    \"sikitsikit\": \"sedikit-sedikit\",\n",
            "    \"online\": \"online\",\n",
            "    \"apk\": \"apk\",\n",
            "    \"respon\": \"respon\",\n",
            "    \"emg\": \"emang\",\n",
            "    \"memberikan\": \"memberi\",\n",
            "    \"instal\": \"instal\",\n",
            "    \"operator\": \"operator\",\n",
            "    \"ready\": \"ready\",\n",
            "    \"first\": \"pertama\",\n",
            "    \"time\": \"waktu\",\n",
            "    \"sedang apa\": \"sedang ngapain\",\n",
            "    \"makan teman\": \"makan temen\",\n",
            "    \"mengisi\": \"mengisi\",\n",
            "    \"pertalite\": \"pertalite\",\n",
            "    \"tanyain\": \"tanyain\",\n",
            "    \"edc\": \"edc\",\n",
            "    \"tidak ada uang\": \"tidak ada uang\",\n",
            "    \"tim\": \"tim\",\n",
            "    \"perhati\": \"perhatikan\",\n",
            "    \"terimakasih\": \"terima kasih\",\n",
            "    \"sangattttt\": \"sangat\",\n",
            "    \"nganguan\": \"gangguan\",\n",
            "    \"user\": \"user\",\n",
            "    \"keamanannnya\": \"keamanan\",\n",
            "    \"clear\": \"clear\",\n",
            "    \"realese\": \"release\",\n",
            "    \"previkasinya\": \"previkasinya\",\n",
            "    \"mengidi\": \"mengidap\",\n",
            "    \"daptar\": \"daftar\",\n",
            "    \"perivikasi\": \"verifikasi\",\n",
            "    \"mempersulitt\": \"mempersulit\",\n",
            "    \"bijak\": \"bijak\",\n",
            "    \"server\": \"server\",\n",
            "    \"lbih\": \"lebih\",\n",
            "    \"indo\": \"indonesia\",\n",
            "    \"bner\": \"benar\",\n",
            "    \"btuh\": \"butuh\",\n",
            "    \"trouble\": \"masalah\",\n",
            "    \"nga\": \"tidak\",\n",
            "    \"capeeee\": \"capek\",\n",
            "    \"dehhh\": \"deh\",\n",
            "    \"notice\": \"notice\",\n",
            "}\n",
            "```\n"
          ]
        }
      ]
    },
    {
      "cell_type": "code",
      "source": [
        "response3 = model.generate_content(\n",
        "    f\"I have a list of Indonesian words which do not exist in the Indonesian \\\n",
        "    dictionary. Provide me with a Python dictionary containing key-value pairs \\\n",
        "    of unnormalized and normalised words. Here is the list of Indonesian words.\\\n",
        "     {unknown_words[200:300]}. provide me a whole dictionary\"\n",
        "    )\n",
        "\n",
        "result3 = response3.text\n",
        "print(result3)"
      ],
      "metadata": {
        "colab": {
          "base_uri": "https://localhost:8080/"
        },
        "id": "jkYlronznLv1",
        "outputId": "f4052775-31c4-43d9-a743-2fd33fbb713a"
      },
      "execution_count": null,
      "outputs": [
        {
          "output_type": "stream",
          "name": "stdout",
          "text": [
            "```python\n",
            "unnormalized_normalized_word_pairs = {\n",
            "    'fix': 'memperbaiki',\n",
            "    'out': 'keluar',\n",
            "    'taii': 'kotoran',\n",
            "    'asuu': 'makian yang tidak pantas',\n",
            "    'now watching': 'sedang menonton',\n",
            "    'bayang': 'bayangan',\n",
            "    'bank': 'bank',\n",
            "    'flexible': 'fleksibel',\n",
            "    'peetamax': 'Pertamax',\n",
            "    'apps': 'aplikasi',\n",
            "    'sblmnya': 'sebelumnya',\n",
            "    'code': 'kode',\n",
            "    'google': 'Google',\n",
            "    'chrome': 'Chrome',\n",
            "    'branda': 'merek',\n",
            "    'harys': 'Hari',\n",
            "    'ribetnya': 'kerumitannya',\n",
            "    'website': 'situs web',\n",
            "    'fotoin': 'memfoto',\n",
            "    'hadeh': 'ungkapan kekesalan',\n",
            "    'uninstal': 'mencopot pemasangan',\n",
            "    'nolak': 'menolak',\n",
            "    'playstore': 'Play Store',\n",
            "    'ngotot': 'keras kepala',\n",
            "    'gobl': 'bodoh',\n",
            "    'ta': 'tentunya',\n",
            "    'subsiditepat': 'subsidi tepat',\n",
            "    'claim': 'klaim',\n",
            "    'claimnya': 'klaimnya',\n",
            "    'kualitasx': 'kualitasnya',\n",
            "    'nnti': 'nanti',\n",
            "    'okeeeeyyyy': 'enak sekali',\n",
            "    'ui': 'antarmuka pengguna',\n",
            "    'pertamax': 'Pertamax',\n",
            "    'dapetin': 'mendapatkan',\n",
            "    'naikin': 'menaikkan',\n",
            "    'tukar': 'menukar',\n",
            "    'reset': 'mengatur ulang',\n",
            "    'exp': 'poin pengalaman',\n",
            "    'reward': 'hadiah',\n",
            "    'updated': 'diperbarui',\n",
            "    'siih': 'ungkapan kejengkelan',\n",
            "    'bugnya': 'kesalahannya',\n",
            "    'bnyak': 'banyak',\n",
            "    'males': 'malas',\n",
            "    'sken': 'skenario',\n",
            "    'dalm': 'dalam',\n",
            "    'rp': 'rupiah',\n",
            "    'tlng': 'tolong',\n",
            "    'tlg': 'tolong',\n",
            "    'bri': 'BRI',\n",
            "    'install': 'memasang',\n",
            "    'ewallet': 'dompet elektronik',\n",
            "    'errorr': 'kesalahan',\n",
            "    'lho': 'ungkapan keheranan',\n",
            "    'mengupdate': 'memperbarui',\n",
            "    'barqode': 'barcode',\n",
            "    'tf': 'transfer',\n",
            "    'ngelaianin': 'melayani',\n",
            "    'mypertamin': 'MyPertamina',\n",
            "    'off': 'mati',\n",
            "    'line': 'Line',\n",
            "    'nerima': 'menerima',\n",
            "    'note': 'catatan',\n",
            "    'mengerti': 'memahami',\n",
            "    'denga': 'dengan',\n",
            "    'qrcode': 'kode QR',\n",
            "    'app': 'aplikasi',\n",
            "    'pnya': 'punya',\n",
            "    'screenshot': 'tangkapan layar',\n",
            "    'nambah': 'menambah',\n",
            "    'abai': 'abaikan',\n",
            "    'kfc': 'KFC',\n",
            "    'abaikam': 'abaikan',\n",
            "    'cust': 'pelanggan',\n",
            "    'dlm': 'dalam',\n",
            "    'sampaaah': 'sampah',\n",
            "    'ditanyain': 'ditanya',\n",
            "    'rating': 'peringkat',\n",
            "    'sya': 'saya',\n",
            "    'ksih': 'kasih',\n",
            "    'auto': 'otomatis',\n",
            "    'uninstall': 'mencopot pemasangan',\n",
            "    'cma': 'cuma',\n",
            "    'lamanyaaaa': 'lamanya',\n",
            "    'nyampe': 'sampai',\n",
            "    'mh': 'mungkin',\n",
            "    'memperkerjakan': 'mempekerjakan',\n",
            "    'improvment': 'perbaikan',\n",
            "    'perunhan': 'perusakan',\n",
            "    'skli': 'sekali',\n",
            "    'kirain': 'kira-kira',\n",
            "    'dipakenya': 'dipakainya',\n",
            "    'nerapin': 'menerapkan',\n",
            "    'atur': 'mengatur',\n",
            "    'shell': 'Shell',\n",
            "    'dr': 'dari',\n",
            "    'mayan': 'lumayan',\n",
            "    'support': 'dukungan',\n",
            "    'wajib': 'harus',\n",
            "}\n",
            "```\n"
          ]
        }
      ]
    },
    {
      "cell_type": "code",
      "source": [
        "response4 = model.generate_content(\n",
        "    f\"I have a list of Indonesian words which do not exist in the Indonesian \\\n",
        "    dictionary. Provide me with a Python dictionary containing key-value pairs \\\n",
        "    of unnormalized and normalised words. Here is the list of Indonesian words.\\\n",
        "     {unknown_words[300:]}. provide me a whole dictionary\"\n",
        "    )\n",
        "\n",
        "result4 = response4.text\n",
        "print(result4)"
      ],
      "metadata": {
        "colab": {
          "base_uri": "https://localhost:8080/"
        },
        "id": "7C1eW_zCncft",
        "outputId": "cf2dc45e-e0db-4314-8f81-e376b3c88c39"
      },
      "execution_count": null,
      "outputs": [
        {
          "output_type": "stream",
          "name": "stdout",
          "text": [
            "```python\n",
            "unnormalized_normalized_dict = {\n",
            "    'scanbarcode': 'scan barcode',\n",
            "    'cache': 'cache',\n",
            "    'eee': 'eee',\n",
            "    'maksmal': 'maksimal',\n",
            "    'mtr': 'meter',\n",
            "    'cash': 'cash',\n",
            "    'ngeselin': 'mengesalkan',\n",
            "    'trdaftar': 'terdaftar',\n",
            "    'bugg': 'bug',\n",
            "    'detect': 'detect',\n",
            "    'nope': 'tidak',\n",
            "    'pdhl': 'padahal',\n",
            "    'bnr': 'benar',\n",
            "    'diperbaikin': 'diperbaiki',\n",
            "    'saat': 'saat',\n",
            "    'pengunaanya': 'penggunaannya',\n",
            "    'didownload': 'diunduh',\n",
            "    'diprint': 'dicetak',\n",
            "    'logout': 'logout',\n",
            "    'urgent': 'urgent',\n",
            "    'sdm': 'sumber daya manusia',\n",
            "    'mempuni': 'memadai',\n",
            "    'ngbug': 'bug',\n",
            "    'kend': 'kendala',\n",
            "    'ngebak': 'membackup',\n",
            "    'stempat': 'setempat',\n",
            "    'ny': 'nya',\n",
            "    'apknya': 'aplikasinya',\n",
            "    'nyesel': 'menyesal',\n",
            "    'simple': 'sederhana',\n",
            "    'qode': 'kode',\n",
            "    'diupgrade': 'diperbarui',\n",
            "    'dbuka': 'dibuka',\n",
            "    'masukkan': 'masukkan',\n",
            "    'haduh': 'haduh',\n",
            "    'dm': 'direct message',\n",
            "    'ig': 'instagram',\n",
            "    'dimaps': 'dipetakan',\n",
            "    'suport': 'dukungan',\n",
            "    'trnyata': 'ternyata',\n",
            "    'yaa': 'ya',\n",
            "    'aceh': 'aceh',\n",
            "    'dj': 'DJ',\n",
            "    'redmi': 'redmi',\n",
            "    'nh': 'nih',\n",
            "    'bgtu': 'begitu',\n",
            "    'tujuanya': 'tujuannya',\n",
            "    'mudhorotnya': 'mudharatnya',\n",
            "    'sh': 'subuh',\n",
            "    'dn': 'dan',\n",
            "    'sadar': 'sadar',\n",
            "    'tuh': 'itu',\n",
            "    'dibenerin': 'diperbaiki',\n",
            "    'bisaa': 'bisa',\n",
            "    'bisaaa': 'bisa sekali',\n",
            "    'anehhh': 'aneh',\n",
            "    'pombensin': 'pom bensin',\n",
            "    'mail': 'email',\n",
            "    'spb': 'surat perintah bayar',\n",
            "    'nyolot': 'menyolot',\n",
            "    'merespon': 'merespons',\n",
            "    'ayooo': 'ayo',\n",
            "    'usa': 'usaha',\n",
            "    'amplikasi': 'aplikasi',\n",
            "    'anjink': 'anjink',\n",
            "    'scrol': 'scroll',\n",
            "    'trz': 'terus',\n",
            "    'mengecewekan': 'mengecewakan',\n",
            "    'mensejahterahkan': 'mensejahterakan',\n",
            "    'barcod': 'barcode',\n",
            "    'jgan': 'jangan',\n",
            "    'gmn': 'bagaimana',\n",
            "    'brcode': 'barcode',\n",
            "    'kpntingan': 'kepentingan',\n",
            "    'merugikn': 'merugikan',\n",
            "    'kcil': 'kecil',\n",
            "    'opsi': 'opsi',\n",
            "    'aktifitas': 'aktivitas',\n",
            "    'driver': 'driver',\n",
            "    'accord': 'accord',\n",
            "    'password': 'password',\n",
            "    'cocok': 'cocok',\n",
            "    'anj': 'anj',\n",
            "    'bangetttt': 'banget',\n",
            "    'dulu': 'dulu',\n",
            "    'test': 'uji',\n",
            "    'pantkkkk': 'pantat',\n",
            "    'tollollllll': 'tolol',\n",
            "    'klu': 'kalau',\n",
            "    'ngulangin': 'mengulang',\n",
            "    'loq': 'lok',\n",
            "    'ko': 'kok',\n",
            "    'voucher': 'voucher',\n",
            "    'jugaa': 'juga',\n",
            "    'force': 'force',\n",
            "    'mobile': 'ponsel',\n",
            "    'bpkb': 'buku pemilik kendaraan bermotor',\n",
            "    'dibpkb': 'dibukukan ke bpkb',\n",
            "    'terterah': 'terserah',\n",
            "    'hub': 'hubungi',\n",
            "    'customernya': 'pelanggannya',\n",
            "    'direspon': 'direspons',\n",
            "    'kntl': 'kontol',\n",
            "    'gamau': 'tidak mau',\n",
            "    'akptkan': 'akantikan',\n",
            "    'digital': 'digital',\n",
            "    'bercode': 'barcode',\n",
            "    'barcodenya': 'barcodenya',\n",
            "    'mendownload': 'mengunduh',\n",
            "    'internet': 'internet',\n",
            "}\n",
            "```\n"
          ]
        }
      ]
    },
    {
      "cell_type": "code",
      "source": [
        "import ast\n",
        "\n",
        "def str_to_dict(response):\n",
        "    start = response.index(\"{\")\n",
        "    end = response.index(\"}\") + 1\n",
        "\n",
        "    return ast.literal_eval(response[ start : end ])"
      ],
      "metadata": {
        "id": "215jTVr8oGA4"
      },
      "execution_count": null,
      "outputs": []
    },
    {
      "cell_type": "code",
      "source": [
        "result = str_to_dict(result)\n",
        "result2 = str_to_dict(result2)\n",
        "result3 = str_to_dict(result3)\n",
        "result4 = str_to_dict(result4)"
      ],
      "metadata": {
        "id": "Bew7YJxxqjDU"
      },
      "execution_count": null,
      "outputs": []
    },
    {
      "cell_type": "code",
      "source": [
        "norm = {key: value for dic in [result, result2, result3, result4] for key, value in dic.items()}\n",
        "\n",
        "print(norm)"
      ],
      "metadata": {
        "colab": {
          "base_uri": "https://localhost:8080/"
        },
        "id": "_-wP3mwKrlYb",
        "outputId": "59df4467-d51e-4808-8cea-fdb24027dc22"
      },
      "execution_count": null,
      "outputs": [
        {
          "output_type": "stream",
          "name": "stdout",
          "text": [
            "{'scan': 'pindai', 'barcode': 'kode batang', 'gak': 'tidak', 'bbm': 'bahan bakar minyak', 'ngantre': 'mengantri', 'nopol': 'nomor polisi', 'banding': 'perbandingan', 'ga': 'tidak', 'verificator': 'verifikator', 'nunggu': 'menunggu', 'gaguna': 'tidak berguna', 'improvement': 'peningkatan', 'error': 'kesalahan', 'lebih baik': 'lebih baik', 'repot': 'merepotkan', 'fitur': 'fitur', 'sangahan': 'bantahan', 'suggestion': 'saran', 'on': 'aktif', 'android': 'android', 'tenaik': 'naik', 'keboard': 'keyboard', 'handphone': 'ponsel', 'web': 'situs web', 'mengupload': 'mengunggah', 'ktp': 'kartu tanda penduduk', 'stnk': 'surat tanda nomor kendaraan', 'verifikasi': 'verifikasi', 'kwalitasnya': 'kualitasnya', 'it': 'itu', 'pertamina': 'pertamina', 'kwalutas': 'kualitas', 'pinter': 'pintar', 'cashless': 'cashless', 'wallet': 'dompet digital', 'salah': 'salah', 'otp': 'kata sandi sekali pakai', 'sms': 'pesan singkat', 'tolong': 'tolong', 'bug': 'bug', 'gopay': 'gopay', 'no': 'nomor', 'hp': 'ponsel', 'selesai': 'selesai', 'ngebug': 'mengalami bug', 'dipake': 'digunakan', 'white': 'putih', 'screen': 'layar', 'connect': 'terhubung', 'ovo': 'ovo', 'plat': 'nomor polisi', 'hadeuh': 'aduh', 'pdahal': 'padahal', 'update': 'pembaruan', 'diupdate': 'diperbarui', 'diverif': 'diverifikasi', 'trus': 'lalu', 'homenya': 'halaman utama', 'nuhin': 'mengucapkan selamat', 'selamat': 'selamat', 'login': 'masuk', 'sbelumnya': 'sebelumnya', 'diserutujui': 'disetujui', 'tetep': 'tetap', 'gk': 'tidak', 'hedeh': 'aduh', 'feb': 'februari', 'kebangeten': 'kelewatan', 'mypertamina': 'mypertamina', 'updatenya': 'pembaruannya', 'fiturnya': 'fiturnya', 'ngumpulin': 'mengumpulkan', 'tuker': 'menukar', 'merchandise': 'merchandise', 'upgrade': 'peningkatan', 'boro': 'jangan harap', 'duluan': 'lebih dahulu', 'spesifikasi': 'spesifikasi', 'continue': 'lanjutkan', 'cleam': 'bersih', 'qr': 'kode QR', 'seringkali': 'sering kali', 'spbu': 'stasiun pengisian bahan bakar umum', 'saldo': 'saldo', 'linkaja': 'linkaja', 'download': 'mengunduh', 'skrg': 'sekarang', 'sdh': 'sudah', 'my': 'milikku', 'udh': 'sudah', 'ngerasa': 'merasa', 'antri': 'mengantri', 'pom': 'stasiun pengisian bahan bakar umum', 'hadehh': 'aduh', 'kebijaksanannya': 'kebijaksanaannya', 'sumsel': 'sumatera selatan', 'palembang': 'palembang', 'sayang': 'sayang', 'offline': 'tidak terhubung', 'promo': 'promosi', 'dg': 'dengan', 'gara': 'karena', 'halooo': 'halo', 'tidur': 'tidur', 'pke': 'pakai', 'wifi': 'wifi', 'connection': 'koneksi', 'muter': 'mutar', 'supir': 'sopir', 'gabisa': 'tidak bisa', 'prusahaan': 'perusahaan', 'servernya': 'server', 'saya': 'saya', 'wuuu': 'wow', 'ribet': 'ribet', 'barkot': 'barcode', 'dpan': 'depan', 'tah': 'tau', 'kekmna': 'kemana', 'mksdya': 'maksudnya', 'ferifikasi': 'verifikasi', 'perifikasi': 'verifikasi', 'kyakya': 'kayaknya', 'admin': 'admin', 'aplikasiya': 'aplikasi', 'kyak': 'kayak', 'org': 'orang', 'gagallll': 'gagal', 'teruss': 'terus', 'hbs': 'habis', 'upload': 'upload', 'foro': 'foto', 'an': 'dan', 'lahh': 'lah', 'diem': 'diam', 'nonton': 'nonton', 'daftarin': 'daftarin', 'hmm': 'hmm', 'bntu': 'bantu', 'by': 'oleh', 'call': 'call', 'center': 'center', 'nemu': 'nemu', 'nyusahin': 'nyusahin', 'diinput': 'diinput', 'bumn': 'bumn', 'saja': 'saja', 'experience': 'pengalaman', 'ngulang': 'ngulang', 'develop': 'develop', 'cs': 'cs', 'link': 'link', 'diwajibin': 'diwajibkan', 'system': 'sistem', 'poto': 'foto', 'erorr': 'error', 'stm': 'steamer', 'sikitsikit': 'sedikit-sedikit', 'online': 'online', 'apk': 'apk', 'respon': 'respon', 'emg': 'emang', 'memberikan': 'memberi', 'instal': 'instal', 'operator': 'operator', 'ready': 'ready', 'first': 'pertama', 'time': 'waktu', 'sedang apa': 'sedang ngapain', 'makan teman': 'makan temen', 'mengisi': 'mengisi', 'pertalite': 'pertalite', 'tanyain': 'tanyain', 'edc': 'edc', 'tidak ada uang': 'tidak ada uang', 'tim': 'tim', 'perhati': 'perhatikan', 'terimakasih': 'terima kasih', 'sangattttt': 'sangat', 'nganguan': 'gangguan', 'user': 'user', 'keamanannnya': 'keamanan', 'clear': 'clear', 'realese': 'release', 'previkasinya': 'previkasinya', 'mengidi': 'mengidap', 'daptar': 'daftar', 'perivikasi': 'verifikasi', 'mempersulitt': 'mempersulit', 'bijak': 'bijak', 'server': 'server', 'lbih': 'lebih', 'indo': 'indonesia', 'bner': 'benar', 'btuh': 'butuh', 'trouble': 'masalah', 'nga': 'tidak', 'capeeee': 'capek', 'dehhh': 'deh', 'notice': 'notice', 'fix': 'memperbaiki', 'out': 'keluar', 'taii': 'kotoran', 'asuu': 'makian yang tidak pantas', 'now watching': 'sedang menonton', 'bayang': 'bayangan', 'bank': 'bank', 'flexible': 'fleksibel', 'peetamax': 'Pertamax', 'apps': 'aplikasi', 'sblmnya': 'sebelumnya', 'code': 'kode', 'google': 'Google', 'chrome': 'Chrome', 'branda': 'merek', 'harys': 'Hari', 'ribetnya': 'kerumitannya', 'website': 'situs web', 'fotoin': 'memfoto', 'hadeh': 'ungkapan kekesalan', 'uninstal': 'mencopot pemasangan', 'nolak': 'menolak', 'playstore': 'Play Store', 'ngotot': 'keras kepala', 'gobl': 'bodoh', 'ta': 'tentunya', 'subsiditepat': 'subsidi tepat', 'claim': 'klaim', 'claimnya': 'klaimnya', 'kualitasx': 'kualitasnya', 'nnti': 'nanti', 'okeeeeyyyy': 'enak sekali', 'ui': 'antarmuka pengguna', 'pertamax': 'Pertamax', 'dapetin': 'mendapatkan', 'naikin': 'menaikkan', 'tukar': 'menukar', 'reset': 'mengatur ulang', 'exp': 'poin pengalaman', 'reward': 'hadiah', 'updated': 'diperbarui', 'siih': 'ungkapan kejengkelan', 'bugnya': 'kesalahannya', 'bnyak': 'banyak', 'males': 'malas', 'sken': 'skenario', 'dalm': 'dalam', 'rp': 'rupiah', 'tlng': 'tolong', 'tlg': 'tolong', 'bri': 'BRI', 'install': 'memasang', 'ewallet': 'dompet elektronik', 'errorr': 'kesalahan', 'lho': 'ungkapan keheranan', 'mengupdate': 'memperbarui', 'barqode': 'barcode', 'tf': 'transfer', 'ngelaianin': 'melayani', 'mypertamin': 'MyPertamina', 'off': 'mati', 'line': 'Line', 'nerima': 'menerima', 'note': 'catatan', 'mengerti': 'memahami', 'denga': 'dengan', 'qrcode': 'kode QR', 'app': 'aplikasi', 'pnya': 'punya', 'screenshot': 'tangkapan layar', 'nambah': 'menambah', 'abai': 'abaikan', 'kfc': 'KFC', 'abaikam': 'abaikan', 'cust': 'pelanggan', 'dlm': 'dalam', 'sampaaah': 'sampah', 'ditanyain': 'ditanya', 'rating': 'peringkat', 'sya': 'saya', 'ksih': 'kasih', 'auto': 'otomatis', 'uninstall': 'mencopot pemasangan', 'cma': 'cuma', 'lamanyaaaa': 'lamanya', 'nyampe': 'sampai', 'mh': 'mungkin', 'memperkerjakan': 'mempekerjakan', 'improvment': 'perbaikan', 'perunhan': 'perusakan', 'skli': 'sekali', 'kirain': 'kira-kira', 'dipakenya': 'dipakainya', 'nerapin': 'menerapkan', 'atur': 'mengatur', 'shell': 'Shell', 'dr': 'dari', 'mayan': 'lumayan', 'support': 'dukungan', 'wajib': 'harus', 'scanbarcode': 'scan barcode', 'cache': 'cache', 'eee': 'eee', 'maksmal': 'maksimal', 'mtr': 'meter', 'cash': 'cash', 'ngeselin': 'mengesalkan', 'trdaftar': 'terdaftar', 'bugg': 'bug', 'detect': 'detect', 'nope': 'tidak', 'pdhl': 'padahal', 'bnr': 'benar', 'diperbaikin': 'diperbaiki', 'saat': 'saat', 'pengunaanya': 'penggunaannya', 'didownload': 'diunduh', 'diprint': 'dicetak', 'logout': 'logout', 'urgent': 'urgent', 'sdm': 'sumber daya manusia', 'mempuni': 'memadai', 'ngbug': 'bug', 'kend': 'kendala', 'ngebak': 'membackup', 'stempat': 'setempat', 'ny': 'nya', 'apknya': 'aplikasinya', 'nyesel': 'menyesal', 'simple': 'sederhana', 'qode': 'kode', 'diupgrade': 'diperbarui', 'dbuka': 'dibuka', 'masukkan': 'masukkan', 'haduh': 'haduh', 'dm': 'direct message', 'ig': 'instagram', 'dimaps': 'dipetakan', 'suport': 'dukungan', 'trnyata': 'ternyata', 'yaa': 'ya', 'aceh': 'aceh', 'dj': 'DJ', 'redmi': 'redmi', 'nh': 'nih', 'bgtu': 'begitu', 'tujuanya': 'tujuannya', 'mudhorotnya': 'mudharatnya', 'sh': 'subuh', 'dn': 'dan', 'sadar': 'sadar', 'tuh': 'itu', 'dibenerin': 'diperbaiki', 'bisaa': 'bisa', 'bisaaa': 'bisa sekali', 'anehhh': 'aneh', 'pombensin': 'pom bensin', 'mail': 'email', 'spb': 'surat perintah bayar', 'nyolot': 'menyolot', 'merespon': 'merespons', 'ayooo': 'ayo', 'usa': 'usaha', 'amplikasi': 'aplikasi', 'anjink': 'anjink', 'scrol': 'scroll', 'trz': 'terus', 'mengecewekan': 'mengecewakan', 'mensejahterahkan': 'mensejahterakan', 'barcod': 'barcode', 'jgan': 'jangan', 'gmn': 'bagaimana', 'brcode': 'barcode', 'kpntingan': 'kepentingan', 'merugikn': 'merugikan', 'kcil': 'kecil', 'opsi': 'opsi', 'aktifitas': 'aktivitas', 'driver': 'driver', 'accord': 'accord', 'password': 'password', 'cocok': 'cocok', 'anj': 'anj', 'bangetttt': 'banget', 'dulu': 'dulu', 'test': 'uji', 'pantkkkk': 'pantat', 'tollollllll': 'tolol', 'klu': 'kalau', 'ngulangin': 'mengulang', 'loq': 'lok', 'ko': 'kok', 'voucher': 'voucher', 'jugaa': 'juga', 'force': 'force', 'mobile': 'ponsel', 'bpkb': 'buku pemilik kendaraan bermotor', 'dibpkb': 'dibukukan ke bpkb', 'terterah': 'terserah', 'hub': 'hubungi', 'customernya': 'pelanggannya', 'direspon': 'direspons', 'kntl': 'kontol', 'gamau': 'tidak mau', 'akptkan': 'akantikan', 'digital': 'digital', 'bercode': 'barcode', 'barcodenya': 'barcodenya', 'mendownload': 'mengunduh', 'internet': 'internet'}\n"
          ]
        }
      ]
    },
    {
      "cell_type": "code",
      "source": [
        "# check apakah kata-kata yang kita normalisasi jumlahnya sama\n",
        "len(norm) == len(unknown_words)"
      ],
      "metadata": {
        "colab": {
          "base_uri": "https://localhost:8080/"
        },
        "id": "fSGYIpljuFyg",
        "outputId": "3bb476b9-82e2-436f-8220-4e378a7991da"
      },
      "execution_count": null,
      "outputs": [
        {
          "output_type": "execute_result",
          "data": {
            "text/plain": [
              "True"
            ]
          },
          "metadata": {},
          "execution_count": 48
        }
      ]
    },
    {
      "cell_type": "markdown",
      "source": [
        "#### normalizing words do not exist in indonesian dictionary"
      ],
      "metadata": {
        "id": "biUO1sB8vz9P"
      }
    },
    {
      "cell_type": "code",
      "source": [
        "normalized_slang"
      ],
      "metadata": {
        "colab": {
          "base_uri": "https://localhost:8080/"
        },
        "id": "x3X0g-dpuhkl",
        "outputId": "1aa68107-f3df-49b6-b14f-5b43e1a213f8"
      },
      "execution_count": null,
      "outputs": [
        {
          "output_type": "execute_result",
          "data": {
            "text/plain": [
              "0      [aplikasi, mudah, sulit, antre, gilir, scan, b...\n",
              "1      [aplikasi, kecewa, nopol, daftar, ajuk, bandin...\n",
              "2      [aplikasi, sampah, tahun, gak, improvement, ub...\n",
              "3      [aplikasi, guna, bingung, daftar, sulit, belit...\n",
              "4      [suggestion, halaman, isi, biodata, on, androi...\n",
              "                             ...                        \n",
              "180    [bayar, gak, scan, barcodenya, jelek, aplikasi...\n",
              "181                       [aplikasi, mutu, layan, henti]\n",
              "182    [gak, buka, aplikasi, habis, update, bagaimana...\n",
              "183    [apk, ribet, susah, rakyat, wajib, barcode, ta...\n",
              "184             [aju, keluh, tuju, lanjut, daftar, aneh]\n",
              "Name: content, Length: 185, dtype: object"
            ]
          },
          "metadata": {},
          "execution_count": 49
        }
      ]
    },
    {
      "cell_type": "code",
      "source": [
        "def normalizing_unknown(list_words):\n",
        "    for word in list_words:\n",
        "        if word in norm.keys():\n",
        "            index = list_words.index(word)\n",
        "            list_words = list_words[:index] + [norm[word]] + list_words[index+1:]\n",
        "\n",
        "    return list_words"
      ],
      "metadata": {
        "id": "RPTwccwSwQzv"
      },
      "execution_count": null,
      "outputs": []
    },
    {
      "cell_type": "code",
      "source": [
        "normalized_unknown = normalized_slang.apply(normalizing_unknown)"
      ],
      "metadata": {
        "id": "udL0LjN7xQiY"
      },
      "execution_count": null,
      "outputs": []
    },
    {
      "cell_type": "code",
      "source": [
        "normalized_unknown"
      ],
      "metadata": {
        "colab": {
          "base_uri": "https://localhost:8080/"
        },
        "id": "wEpFGNcSygxb",
        "outputId": "3305f3d0-d359-4d22-80ec-1745c9a5c0fd"
      },
      "execution_count": null,
      "outputs": [
        {
          "output_type": "execute_result",
          "data": {
            "text/plain": [
              "0      [aplikasi, mudah, sulit, antre, gilir, pindai,...\n",
              "1      [aplikasi, kecewa, nomor polisi, daftar, ajuk,...\n",
              "2      [aplikasi, sampah, tahun, tidak, peningkatan, ...\n",
              "3      [aplikasi, guna, bingung, daftar, sulit, belit...\n",
              "4      [saran, halaman, isi, biodata, aktif, android,...\n",
              "                             ...                        \n",
              "180    [bayar, tidak, pindai, barcodenya, jelek, apli...\n",
              "181                       [aplikasi, mutu, layan, henti]\n",
              "182    [tidak, buka, aplikasi, habis, pembaruan, baga...\n",
              "183    [apk, ribet, susah, rakyat, harus, kode batang...\n",
              "184             [aju, keluh, tuju, lanjut, daftar, aneh]\n",
              "Name: content, Length: 185, dtype: object"
            ]
          },
          "metadata": {},
          "execution_count": 52
        }
      ]
    },
    {
      "cell_type": "markdown",
      "source": [
        "#### repeat some cleaning process for better result"
      ],
      "metadata": {
        "id": "YqdONmPq2C1x"
      }
    },
    {
      "cell_type": "code",
      "source": [
        "normalized_unknown = normalized_unknown.apply(join)"
      ],
      "metadata": {
        "id": "rZhb6kZU2BmU"
      },
      "execution_count": null,
      "outputs": []
    },
    {
      "cell_type": "code",
      "source": [
        "normalized_unknown"
      ],
      "metadata": {
        "colab": {
          "base_uri": "https://localhost:8080/"
        },
        "id": "TmuLEfuy0BUS",
        "outputId": "73e46c05-0b25-4ed2-fae2-80394bf5e6d4"
      },
      "execution_count": null,
      "outputs": [
        {
          "output_type": "execute_result",
          "data": {
            "text/plain": [
              "0      aplikasi mudah sulit antre gilir pindai kode b...\n",
              "1      aplikasi kecewa nomor polisi daftar ajuk perba...\n",
              "2      aplikasi sampah tahun tidak peningkatan ubah d...\n",
              "3      aplikasi guna bingung daftar sulit belit belit...\n",
              "4      saran halaman isi biodata aktif android pilih ...\n",
              "                             ...                        \n",
              "180    bayar tidak pindai barcodenya jelek aplikasi p...\n",
              "181                            aplikasi mutu layan henti\n",
              "182    tidak buka aplikasi habis pembaruan bagaimana ...\n",
              "183    apk ribet susah rakyat harus kode batang tapi ...\n",
              "184                    aju keluh tuju lanjut daftar aneh\n",
              "Name: content, Length: 185, dtype: object"
            ]
          },
          "metadata": {},
          "execution_count": 54
        }
      ]
    },
    {
      "cell_type": "code",
      "source": [
        "normalized_unknown = normalized_unknown.apply(clean_stop_words)"
      ],
      "metadata": {
        "id": "BrZz56mL2nB4"
      },
      "execution_count": null,
      "outputs": []
    },
    {
      "cell_type": "code",
      "source": [
        "normalized_unknown"
      ],
      "metadata": {
        "colab": {
          "base_uri": "https://localhost:8080/"
        },
        "id": "oTlU57K_2vw5",
        "outputId": "6742dd43-3715-4c86-8cb9-4cd9d017c399"
      },
      "execution_count": null,
      "outputs": [
        {
          "output_type": "execute_result",
          "data": {
            "text/plain": [
              "0      aplikasi mudah sulit antre gilir pindai kode b...\n",
              "1      aplikasi kecewa nomor polisi daftar ajuk perba...\n",
              "2      aplikasi sampah peningkatan ubah data kendara ...\n",
              "3      aplikasi bingung daftar sulit belit belit fitu...\n",
              "4      saran halaman isi biodata aktif android pilih ...\n",
              "                             ...                        \n",
              "180    bayar pindai barcodenya jelek aplikasi perinta...\n",
              "181                            aplikasi mutu layan henti\n",
              "182    buka aplikasi habis pembaruan solusi mengunduh...\n",
              "183    apk ribet susah rakyat kode batang sulit alas ...\n",
              "184                           aju keluh tuju daftar aneh\n",
              "Name: content, Length: 185, dtype: object"
            ]
          },
          "metadata": {},
          "execution_count": 56
        }
      ]
    },
    {
      "cell_type": "code",
      "source": [
        "normalized_unknown = normalized_unknown.apply(lemmatizing)"
      ],
      "metadata": {
        "id": "vrlM6m0L2wne"
      },
      "execution_count": null,
      "outputs": []
    },
    {
      "cell_type": "code",
      "source": [
        "normalized_unknown"
      ],
      "metadata": {
        "colab": {
          "base_uri": "https://localhost:8080/"
        },
        "id": "u41X8iK527SY",
        "outputId": "b8374e4f-19b4-417e-ffd6-2c7c3fbfac5b"
      },
      "execution_count": null,
      "outputs": [
        {
          "output_type": "execute_result",
          "data": {
            "text/plain": [
              "0      aplikasi mudah sulit antre gilir pindai kode b...\n",
              "1      aplikasi kecewa nomor polisi daftar ajuk bandi...\n",
              "2      aplikasi sampah tingkat ubah data kendara akse...\n",
              "3      aplikasi bingung daftar sulit belit belit fitu...\n",
              "4      saran halaman isi biodata aktif android pilih ...\n",
              "                             ...                        \n",
              "180    bayar pindai barcodenya jelek aplikasi perinta...\n",
              "181                            aplikasi mutu layan henti\n",
              "182    buka aplikasi habis baru solusi unduh ulang ko...\n",
              "183    apk ribet susah rakyat kode batang sulit alas ...\n",
              "184                           aju keluh tuju daftar aneh\n",
              "Name: content, Length: 185, dtype: object"
            ]
          },
          "metadata": {},
          "execution_count": 58
        }
      ]
    },
    {
      "cell_type": "code",
      "source": [
        "normalized_unknown = normalized_unknown.apply(tokenizing)"
      ],
      "metadata": {
        "id": "4Yg_5mZ6278n"
      },
      "execution_count": null,
      "outputs": []
    },
    {
      "cell_type": "code",
      "source": [
        "normalized_unknown"
      ],
      "metadata": {
        "colab": {
          "base_uri": "https://localhost:8080/"
        },
        "id": "ISnQy0Ag3Biu",
        "outputId": "2df2f35c-6f16-4cbe-f7d8-d7d96c7a3f00"
      },
      "execution_count": null,
      "outputs": [
        {
          "output_type": "execute_result",
          "data": {
            "text/plain": [
              "0      [aplikasi, mudah, sulit, antre, gilir, pindai,...\n",
              "1      [aplikasi, kecewa, nomor, polisi, daftar, ajuk...\n",
              "2      [aplikasi, sampah, tingkat, ubah, data, kendar...\n",
              "3      [aplikasi, bingung, daftar, sulit, belit, beli...\n",
              "4      [saran, halaman, isi, biodata, aktif, android,...\n",
              "                             ...                        \n",
              "180    [bayar, pindai, barcodenya, jelek, aplikasi, p...\n",
              "181                       [aplikasi, mutu, layan, henti]\n",
              "182    [buka, aplikasi, habis, baru, solusi, unduh, u...\n",
              "183    [apk, ribet, susah, rakyat, kode, batang, suli...\n",
              "184                     [aju, keluh, tuju, daftar, aneh]\n",
              "Name: content, Length: 185, dtype: object"
            ]
          },
          "metadata": {},
          "execution_count": 60
        }
      ]
    },
    {
      "cell_type": "code",
      "source": [
        "normalized_unknown = normalized_unknown.apply(normalizing_slang)"
      ],
      "metadata": {
        "id": "SeM556AO3CNu"
      },
      "execution_count": null,
      "outputs": []
    },
    {
      "cell_type": "code",
      "source": [
        "normalized_unknown"
      ],
      "metadata": {
        "colab": {
          "base_uri": "https://localhost:8080/"
        },
        "id": "8GLdleGq3Fq1",
        "outputId": "06d28301-3125-49ae-cbd0-e78fdb12105c"
      },
      "execution_count": null,
      "outputs": [
        {
          "output_type": "execute_result",
          "data": {
            "text/plain": [
              "0      [aplikasi, mudah, sulit, antre, gilir, pindai,...\n",
              "1      [aplikasi, kecewa, nomor, polisi, daftar, ajuk...\n",
              "2      [aplikasi, sampah, tingkat, ubah, data, kendar...\n",
              "3      [aplikasi, bingung, daftar, sulit, belit, beli...\n",
              "4      [saran, halaman, isi, biodata, aktif, android,...\n",
              "                             ...                        \n",
              "180    [bayar, pindai, barcodenya, jelek, aplikasi, p...\n",
              "181                       [aplikasi, mutu, layan, henti]\n",
              "182    [buka, aplikasi, habis, baru, solusi, unduh, u...\n",
              "183    [apk, ribet, susah, rakyat, kode, batang, suli...\n",
              "184                     [aju, keluh, tuju, daftar, aneh]\n",
              "Name: content, Length: 185, dtype: object"
            ]
          },
          "metadata": {},
          "execution_count": 62
        }
      ]
    },
    {
      "cell_type": "code",
      "source": [
        "normalized_unknown = normalized_unknown.apply(join)"
      ],
      "metadata": {
        "id": "OKtznG045Zi7"
      },
      "execution_count": null,
      "outputs": []
    },
    {
      "cell_type": "code",
      "source": [
        "df = normalized_unknown.to_frame()\n",
        "df.head()"
      ],
      "metadata": {
        "colab": {
          "base_uri": "https://localhost:8080/",
          "height": 206
        },
        "id": "LqrauAbX466H",
        "outputId": "5fbddd16-67c8-4af8-d477-9d692dc19f49"
      },
      "execution_count": null,
      "outputs": [
        {
          "output_type": "execute_result",
          "data": {
            "text/plain": [
              "                                             content\n",
              "0  aplikasi mudah sulit antre gilir pindai kode b...\n",
              "1  aplikasi kecewa nomor polisi daftar ajuk bandi...\n",
              "2  aplikasi sampah tingkat ubah data kendara akse...\n",
              "3  aplikasi bingung daftar sulit belit belit fitu...\n",
              "4  saran halaman isi biodata aktif android pilih ..."
            ],
            "text/html": [
              "\n",
              "  <div id=\"df-c280869d-9a22-4dea-959b-a15617cc700c\" class=\"colab-df-container\">\n",
              "    <div>\n",
              "<style scoped>\n",
              "    .dataframe tbody tr th:only-of-type {\n",
              "        vertical-align: middle;\n",
              "    }\n",
              "\n",
              "    .dataframe tbody tr th {\n",
              "        vertical-align: top;\n",
              "    }\n",
              "\n",
              "    .dataframe thead th {\n",
              "        text-align: right;\n",
              "    }\n",
              "</style>\n",
              "<table border=\"1\" class=\"dataframe\">\n",
              "  <thead>\n",
              "    <tr style=\"text-align: right;\">\n",
              "      <th></th>\n",
              "      <th>content</th>\n",
              "    </tr>\n",
              "  </thead>\n",
              "  <tbody>\n",
              "    <tr>\n",
              "      <th>0</th>\n",
              "      <td>aplikasi mudah sulit antre gilir pindai kode b...</td>\n",
              "    </tr>\n",
              "    <tr>\n",
              "      <th>1</th>\n",
              "      <td>aplikasi kecewa nomor polisi daftar ajuk bandi...</td>\n",
              "    </tr>\n",
              "    <tr>\n",
              "      <th>2</th>\n",
              "      <td>aplikasi sampah tingkat ubah data kendara akse...</td>\n",
              "    </tr>\n",
              "    <tr>\n",
              "      <th>3</th>\n",
              "      <td>aplikasi bingung daftar sulit belit belit fitu...</td>\n",
              "    </tr>\n",
              "    <tr>\n",
              "      <th>4</th>\n",
              "      <td>saran halaman isi biodata aktif android pilih ...</td>\n",
              "    </tr>\n",
              "  </tbody>\n",
              "</table>\n",
              "</div>\n",
              "    <div class=\"colab-df-buttons\">\n",
              "\n",
              "  <div class=\"colab-df-container\">\n",
              "    <button class=\"colab-df-convert\" onclick=\"convertToInteractive('df-c280869d-9a22-4dea-959b-a15617cc700c')\"\n",
              "            title=\"Convert this dataframe to an interactive table.\"\n",
              "            style=\"display:none;\">\n",
              "\n",
              "  <svg xmlns=\"http://www.w3.org/2000/svg\" height=\"24px\" viewBox=\"0 -960 960 960\">\n",
              "    <path d=\"M120-120v-720h720v720H120Zm60-500h600v-160H180v160Zm220 220h160v-160H400v160Zm0 220h160v-160H400v160ZM180-400h160v-160H180v160Zm440 0h160v-160H620v160ZM180-180h160v-160H180v160Zm440 0h160v-160H620v160Z\"/>\n",
              "  </svg>\n",
              "    </button>\n",
              "\n",
              "  <style>\n",
              "    .colab-df-container {\n",
              "      display:flex;\n",
              "      gap: 12px;\n",
              "    }\n",
              "\n",
              "    .colab-df-convert {\n",
              "      background-color: #E8F0FE;\n",
              "      border: none;\n",
              "      border-radius: 50%;\n",
              "      cursor: pointer;\n",
              "      display: none;\n",
              "      fill: #1967D2;\n",
              "      height: 32px;\n",
              "      padding: 0 0 0 0;\n",
              "      width: 32px;\n",
              "    }\n",
              "\n",
              "    .colab-df-convert:hover {\n",
              "      background-color: #E2EBFA;\n",
              "      box-shadow: 0px 1px 2px rgba(60, 64, 67, 0.3), 0px 1px 3px 1px rgba(60, 64, 67, 0.15);\n",
              "      fill: #174EA6;\n",
              "    }\n",
              "\n",
              "    .colab-df-buttons div {\n",
              "      margin-bottom: 4px;\n",
              "    }\n",
              "\n",
              "    [theme=dark] .colab-df-convert {\n",
              "      background-color: #3B4455;\n",
              "      fill: #D2E3FC;\n",
              "    }\n",
              "\n",
              "    [theme=dark] .colab-df-convert:hover {\n",
              "      background-color: #434B5C;\n",
              "      box-shadow: 0px 1px 3px 1px rgba(0, 0, 0, 0.15);\n",
              "      filter: drop-shadow(0px 1px 2px rgba(0, 0, 0, 0.3));\n",
              "      fill: #FFFFFF;\n",
              "    }\n",
              "  </style>\n",
              "\n",
              "    <script>\n",
              "      const buttonEl =\n",
              "        document.querySelector('#df-c280869d-9a22-4dea-959b-a15617cc700c button.colab-df-convert');\n",
              "      buttonEl.style.display =\n",
              "        google.colab.kernel.accessAllowed ? 'block' : 'none';\n",
              "\n",
              "      async function convertToInteractive(key) {\n",
              "        const element = document.querySelector('#df-c280869d-9a22-4dea-959b-a15617cc700c');\n",
              "        const dataTable =\n",
              "          await google.colab.kernel.invokeFunction('convertToInteractive',\n",
              "                                                    [key], {});\n",
              "        if (!dataTable) return;\n",
              "\n",
              "        const docLinkHtml = 'Like what you see? Visit the ' +\n",
              "          '<a target=\"_blank\" href=https://colab.research.google.com/notebooks/data_table.ipynb>data table notebook</a>'\n",
              "          + ' to learn more about interactive tables.';\n",
              "        element.innerHTML = '';\n",
              "        dataTable['output_type'] = 'display_data';\n",
              "        await google.colab.output.renderOutput(dataTable, element);\n",
              "        const docLink = document.createElement('div');\n",
              "        docLink.innerHTML = docLinkHtml;\n",
              "        element.appendChild(docLink);\n",
              "      }\n",
              "    </script>\n",
              "  </div>\n",
              "\n",
              "\n",
              "<div id=\"df-628b392f-515c-4f1c-a1bd-d3a1eb9a1374\">\n",
              "  <button class=\"colab-df-quickchart\" onclick=\"quickchart('df-628b392f-515c-4f1c-a1bd-d3a1eb9a1374')\"\n",
              "            title=\"Suggest charts\"\n",
              "            style=\"display:none;\">\n",
              "\n",
              "<svg xmlns=\"http://www.w3.org/2000/svg\" height=\"24px\"viewBox=\"0 0 24 24\"\n",
              "     width=\"24px\">\n",
              "    <g>\n",
              "        <path d=\"M19 3H5c-1.1 0-2 .9-2 2v14c0 1.1.9 2 2 2h14c1.1 0 2-.9 2-2V5c0-1.1-.9-2-2-2zM9 17H7v-7h2v7zm4 0h-2V7h2v10zm4 0h-2v-4h2v4z\"/>\n",
              "    </g>\n",
              "</svg>\n",
              "  </button>\n",
              "\n",
              "<style>\n",
              "  .colab-df-quickchart {\n",
              "      --bg-color: #E8F0FE;\n",
              "      --fill-color: #1967D2;\n",
              "      --hover-bg-color: #E2EBFA;\n",
              "      --hover-fill-color: #174EA6;\n",
              "      --disabled-fill-color: #AAA;\n",
              "      --disabled-bg-color: #DDD;\n",
              "  }\n",
              "\n",
              "  [theme=dark] .colab-df-quickchart {\n",
              "      --bg-color: #3B4455;\n",
              "      --fill-color: #D2E3FC;\n",
              "      --hover-bg-color: #434B5C;\n",
              "      --hover-fill-color: #FFFFFF;\n",
              "      --disabled-bg-color: #3B4455;\n",
              "      --disabled-fill-color: #666;\n",
              "  }\n",
              "\n",
              "  .colab-df-quickchart {\n",
              "    background-color: var(--bg-color);\n",
              "    border: none;\n",
              "    border-radius: 50%;\n",
              "    cursor: pointer;\n",
              "    display: none;\n",
              "    fill: var(--fill-color);\n",
              "    height: 32px;\n",
              "    padding: 0;\n",
              "    width: 32px;\n",
              "  }\n",
              "\n",
              "  .colab-df-quickchart:hover {\n",
              "    background-color: var(--hover-bg-color);\n",
              "    box-shadow: 0 1px 2px rgba(60, 64, 67, 0.3), 0 1px 3px 1px rgba(60, 64, 67, 0.15);\n",
              "    fill: var(--button-hover-fill-color);\n",
              "  }\n",
              "\n",
              "  .colab-df-quickchart-complete:disabled,\n",
              "  .colab-df-quickchart-complete:disabled:hover {\n",
              "    background-color: var(--disabled-bg-color);\n",
              "    fill: var(--disabled-fill-color);\n",
              "    box-shadow: none;\n",
              "  }\n",
              "\n",
              "  .colab-df-spinner {\n",
              "    border: 2px solid var(--fill-color);\n",
              "    border-color: transparent;\n",
              "    border-bottom-color: var(--fill-color);\n",
              "    animation:\n",
              "      spin 1s steps(1) infinite;\n",
              "  }\n",
              "\n",
              "  @keyframes spin {\n",
              "    0% {\n",
              "      border-color: transparent;\n",
              "      border-bottom-color: var(--fill-color);\n",
              "      border-left-color: var(--fill-color);\n",
              "    }\n",
              "    20% {\n",
              "      border-color: transparent;\n",
              "      border-left-color: var(--fill-color);\n",
              "      border-top-color: var(--fill-color);\n",
              "    }\n",
              "    30% {\n",
              "      border-color: transparent;\n",
              "      border-left-color: var(--fill-color);\n",
              "      border-top-color: var(--fill-color);\n",
              "      border-right-color: var(--fill-color);\n",
              "    }\n",
              "    40% {\n",
              "      border-color: transparent;\n",
              "      border-right-color: var(--fill-color);\n",
              "      border-top-color: var(--fill-color);\n",
              "    }\n",
              "    60% {\n",
              "      border-color: transparent;\n",
              "      border-right-color: var(--fill-color);\n",
              "    }\n",
              "    80% {\n",
              "      border-color: transparent;\n",
              "      border-right-color: var(--fill-color);\n",
              "      border-bottom-color: var(--fill-color);\n",
              "    }\n",
              "    90% {\n",
              "      border-color: transparent;\n",
              "      border-bottom-color: var(--fill-color);\n",
              "    }\n",
              "  }\n",
              "</style>\n",
              "\n",
              "  <script>\n",
              "    async function quickchart(key) {\n",
              "      const quickchartButtonEl =\n",
              "        document.querySelector('#' + key + ' button');\n",
              "      quickchartButtonEl.disabled = true;  // To prevent multiple clicks.\n",
              "      quickchartButtonEl.classList.add('colab-df-spinner');\n",
              "      try {\n",
              "        const charts = await google.colab.kernel.invokeFunction(\n",
              "            'suggestCharts', [key], {});\n",
              "      } catch (error) {\n",
              "        console.error('Error during call to suggestCharts:', error);\n",
              "      }\n",
              "      quickchartButtonEl.classList.remove('colab-df-spinner');\n",
              "      quickchartButtonEl.classList.add('colab-df-quickchart-complete');\n",
              "    }\n",
              "    (() => {\n",
              "      let quickchartButtonEl =\n",
              "        document.querySelector('#df-628b392f-515c-4f1c-a1bd-d3a1eb9a1374 button');\n",
              "      quickchartButtonEl.style.display =\n",
              "        google.colab.kernel.accessAllowed ? 'block' : 'none';\n",
              "    })();\n",
              "  </script>\n",
              "</div>\n",
              "    </div>\n",
              "  </div>\n"
            ],
            "application/vnd.google.colaboratory.intrinsic+json": {
              "type": "dataframe",
              "variable_name": "df",
              "summary": "{\n  \"name\": \"df\",\n  \"rows\": 185,\n  \"fields\": [\n    {\n      \"column\": \"content\",\n      \"properties\": {\n        \"dtype\": \"string\",\n        \"num_unique_values\": 185,\n        \"samples\": [\n          \"mudah sulit daftar bolak gagal foto kendara nomor polisi foto bagus pinjam ponsel teman kamera bagus gagal foto melulu\",\n          \"aplikasi mudah sulit bug clear release aplikasi kembang ubah\",\n          \"tunggu verifikasi tanda accord tunggu\"\n        ],\n        \"semantic_type\": \"\",\n        \"description\": \"\"\n      }\n    }\n  ]\n}"
            }
          },
          "metadata": {},
          "execution_count": 64
        }
      ]
    },
    {
      "cell_type": "code",
      "source": [
        "# %cd '/content/drive/MyDrive/Magang/DDB/sentimen mypertamina playstore'"
      ],
      "metadata": {
        "colab": {
          "base_uri": "https://localhost:8080/"
        },
        "id": "W0iUzOvF517F",
        "outputId": "452ba8ed-76f6-47f8-ef3c-1c599a34ca8b"
      },
      "execution_count": null,
      "outputs": [
        {
          "output_type": "stream",
          "name": "stdout",
          "text": [
            "/content/drive/MyDrive/Magang/DDB/sentimen mypertamina playstore\n"
          ]
        }
      ]
    },
    {
      "cell_type": "code",
      "source": [
        "# df.to_csv('deep_cleaned_playstore_review.csv', index=False)"
      ],
      "metadata": {
        "id": "AcB1EV2H5kWA"
      },
      "execution_count": null,
      "outputs": []
    },
    {
      "cell_type": "markdown",
      "source": [
        "## translating"
      ],
      "metadata": {
        "id": "g9j5jJY-nKHj"
      }
    },
    {
      "cell_type": "code",
      "source": [
        "df.head()"
      ],
      "metadata": {
        "colab": {
          "base_uri": "https://localhost:8080/",
          "height": 206
        },
        "id": "l3KBFThZnTg1",
        "outputId": "faf4b095-21f5-43e0-ec84-cb5f28aca028"
      },
      "execution_count": null,
      "outputs": [
        {
          "output_type": "execute_result",
          "data": {
            "text/plain": [
              "                                             content\n",
              "0  aplikasi mudah sulit antre gilir pindai kode b...\n",
              "1  aplikasi kecewa nomor polisi daftar ajuk bandi...\n",
              "2  aplikasi sampah tingkat ubah data kendara akse...\n",
              "3  aplikasi bingung daftar sulit belit belit fitu...\n",
              "4  saran halaman isi biodata aktif android pilih ..."
            ],
            "text/html": [
              "\n",
              "  <div id=\"df-34ac2f54-07cb-4fe3-b9f8-c9f580236e09\" class=\"colab-df-container\">\n",
              "    <div>\n",
              "<style scoped>\n",
              "    .dataframe tbody tr th:only-of-type {\n",
              "        vertical-align: middle;\n",
              "    }\n",
              "\n",
              "    .dataframe tbody tr th {\n",
              "        vertical-align: top;\n",
              "    }\n",
              "\n",
              "    .dataframe thead th {\n",
              "        text-align: right;\n",
              "    }\n",
              "</style>\n",
              "<table border=\"1\" class=\"dataframe\">\n",
              "  <thead>\n",
              "    <tr style=\"text-align: right;\">\n",
              "      <th></th>\n",
              "      <th>content</th>\n",
              "    </tr>\n",
              "  </thead>\n",
              "  <tbody>\n",
              "    <tr>\n",
              "      <th>0</th>\n",
              "      <td>aplikasi mudah sulit antre gilir pindai kode b...</td>\n",
              "    </tr>\n",
              "    <tr>\n",
              "      <th>1</th>\n",
              "      <td>aplikasi kecewa nomor polisi daftar ajuk bandi...</td>\n",
              "    </tr>\n",
              "    <tr>\n",
              "      <th>2</th>\n",
              "      <td>aplikasi sampah tingkat ubah data kendara akse...</td>\n",
              "    </tr>\n",
              "    <tr>\n",
              "      <th>3</th>\n",
              "      <td>aplikasi bingung daftar sulit belit belit fitu...</td>\n",
              "    </tr>\n",
              "    <tr>\n",
              "      <th>4</th>\n",
              "      <td>saran halaman isi biodata aktif android pilih ...</td>\n",
              "    </tr>\n",
              "  </tbody>\n",
              "</table>\n",
              "</div>\n",
              "    <div class=\"colab-df-buttons\">\n",
              "\n",
              "  <div class=\"colab-df-container\">\n",
              "    <button class=\"colab-df-convert\" onclick=\"convertToInteractive('df-34ac2f54-07cb-4fe3-b9f8-c9f580236e09')\"\n",
              "            title=\"Convert this dataframe to an interactive table.\"\n",
              "            style=\"display:none;\">\n",
              "\n",
              "  <svg xmlns=\"http://www.w3.org/2000/svg\" height=\"24px\" viewBox=\"0 -960 960 960\">\n",
              "    <path d=\"M120-120v-720h720v720H120Zm60-500h600v-160H180v160Zm220 220h160v-160H400v160Zm0 220h160v-160H400v160ZM180-400h160v-160H180v160Zm440 0h160v-160H620v160ZM180-180h160v-160H180v160Zm440 0h160v-160H620v160Z\"/>\n",
              "  </svg>\n",
              "    </button>\n",
              "\n",
              "  <style>\n",
              "    .colab-df-container {\n",
              "      display:flex;\n",
              "      gap: 12px;\n",
              "    }\n",
              "\n",
              "    .colab-df-convert {\n",
              "      background-color: #E8F0FE;\n",
              "      border: none;\n",
              "      border-radius: 50%;\n",
              "      cursor: pointer;\n",
              "      display: none;\n",
              "      fill: #1967D2;\n",
              "      height: 32px;\n",
              "      padding: 0 0 0 0;\n",
              "      width: 32px;\n",
              "    }\n",
              "\n",
              "    .colab-df-convert:hover {\n",
              "      background-color: #E2EBFA;\n",
              "      box-shadow: 0px 1px 2px rgba(60, 64, 67, 0.3), 0px 1px 3px 1px rgba(60, 64, 67, 0.15);\n",
              "      fill: #174EA6;\n",
              "    }\n",
              "\n",
              "    .colab-df-buttons div {\n",
              "      margin-bottom: 4px;\n",
              "    }\n",
              "\n",
              "    [theme=dark] .colab-df-convert {\n",
              "      background-color: #3B4455;\n",
              "      fill: #D2E3FC;\n",
              "    }\n",
              "\n",
              "    [theme=dark] .colab-df-convert:hover {\n",
              "      background-color: #434B5C;\n",
              "      box-shadow: 0px 1px 3px 1px rgba(0, 0, 0, 0.15);\n",
              "      filter: drop-shadow(0px 1px 2px rgba(0, 0, 0, 0.3));\n",
              "      fill: #FFFFFF;\n",
              "    }\n",
              "  </style>\n",
              "\n",
              "    <script>\n",
              "      const buttonEl =\n",
              "        document.querySelector('#df-34ac2f54-07cb-4fe3-b9f8-c9f580236e09 button.colab-df-convert');\n",
              "      buttonEl.style.display =\n",
              "        google.colab.kernel.accessAllowed ? 'block' : 'none';\n",
              "\n",
              "      async function convertToInteractive(key) {\n",
              "        const element = document.querySelector('#df-34ac2f54-07cb-4fe3-b9f8-c9f580236e09');\n",
              "        const dataTable =\n",
              "          await google.colab.kernel.invokeFunction('convertToInteractive',\n",
              "                                                    [key], {});\n",
              "        if (!dataTable) return;\n",
              "\n",
              "        const docLinkHtml = 'Like what you see? Visit the ' +\n",
              "          '<a target=\"_blank\" href=https://colab.research.google.com/notebooks/data_table.ipynb>data table notebook</a>'\n",
              "          + ' to learn more about interactive tables.';\n",
              "        element.innerHTML = '';\n",
              "        dataTable['output_type'] = 'display_data';\n",
              "        await google.colab.output.renderOutput(dataTable, element);\n",
              "        const docLink = document.createElement('div');\n",
              "        docLink.innerHTML = docLinkHtml;\n",
              "        element.appendChild(docLink);\n",
              "      }\n",
              "    </script>\n",
              "  </div>\n",
              "\n",
              "\n",
              "<div id=\"df-643e2f41-f475-436e-8ca1-f5fbb3dc28fb\">\n",
              "  <button class=\"colab-df-quickchart\" onclick=\"quickchart('df-643e2f41-f475-436e-8ca1-f5fbb3dc28fb')\"\n",
              "            title=\"Suggest charts\"\n",
              "            style=\"display:none;\">\n",
              "\n",
              "<svg xmlns=\"http://www.w3.org/2000/svg\" height=\"24px\"viewBox=\"0 0 24 24\"\n",
              "     width=\"24px\">\n",
              "    <g>\n",
              "        <path d=\"M19 3H5c-1.1 0-2 .9-2 2v14c0 1.1.9 2 2 2h14c1.1 0 2-.9 2-2V5c0-1.1-.9-2-2-2zM9 17H7v-7h2v7zm4 0h-2V7h2v10zm4 0h-2v-4h2v4z\"/>\n",
              "    </g>\n",
              "</svg>\n",
              "  </button>\n",
              "\n",
              "<style>\n",
              "  .colab-df-quickchart {\n",
              "      --bg-color: #E8F0FE;\n",
              "      --fill-color: #1967D2;\n",
              "      --hover-bg-color: #E2EBFA;\n",
              "      --hover-fill-color: #174EA6;\n",
              "      --disabled-fill-color: #AAA;\n",
              "      --disabled-bg-color: #DDD;\n",
              "  }\n",
              "\n",
              "  [theme=dark] .colab-df-quickchart {\n",
              "      --bg-color: #3B4455;\n",
              "      --fill-color: #D2E3FC;\n",
              "      --hover-bg-color: #434B5C;\n",
              "      --hover-fill-color: #FFFFFF;\n",
              "      --disabled-bg-color: #3B4455;\n",
              "      --disabled-fill-color: #666;\n",
              "  }\n",
              "\n",
              "  .colab-df-quickchart {\n",
              "    background-color: var(--bg-color);\n",
              "    border: none;\n",
              "    border-radius: 50%;\n",
              "    cursor: pointer;\n",
              "    display: none;\n",
              "    fill: var(--fill-color);\n",
              "    height: 32px;\n",
              "    padding: 0;\n",
              "    width: 32px;\n",
              "  }\n",
              "\n",
              "  .colab-df-quickchart:hover {\n",
              "    background-color: var(--hover-bg-color);\n",
              "    box-shadow: 0 1px 2px rgba(60, 64, 67, 0.3), 0 1px 3px 1px rgba(60, 64, 67, 0.15);\n",
              "    fill: var(--button-hover-fill-color);\n",
              "  }\n",
              "\n",
              "  .colab-df-quickchart-complete:disabled,\n",
              "  .colab-df-quickchart-complete:disabled:hover {\n",
              "    background-color: var(--disabled-bg-color);\n",
              "    fill: var(--disabled-fill-color);\n",
              "    box-shadow: none;\n",
              "  }\n",
              "\n",
              "  .colab-df-spinner {\n",
              "    border: 2px solid var(--fill-color);\n",
              "    border-color: transparent;\n",
              "    border-bottom-color: var(--fill-color);\n",
              "    animation:\n",
              "      spin 1s steps(1) infinite;\n",
              "  }\n",
              "\n",
              "  @keyframes spin {\n",
              "    0% {\n",
              "      border-color: transparent;\n",
              "      border-bottom-color: var(--fill-color);\n",
              "      border-left-color: var(--fill-color);\n",
              "    }\n",
              "    20% {\n",
              "      border-color: transparent;\n",
              "      border-left-color: var(--fill-color);\n",
              "      border-top-color: var(--fill-color);\n",
              "    }\n",
              "    30% {\n",
              "      border-color: transparent;\n",
              "      border-left-color: var(--fill-color);\n",
              "      border-top-color: var(--fill-color);\n",
              "      border-right-color: var(--fill-color);\n",
              "    }\n",
              "    40% {\n",
              "      border-color: transparent;\n",
              "      border-right-color: var(--fill-color);\n",
              "      border-top-color: var(--fill-color);\n",
              "    }\n",
              "    60% {\n",
              "      border-color: transparent;\n",
              "      border-right-color: var(--fill-color);\n",
              "    }\n",
              "    80% {\n",
              "      border-color: transparent;\n",
              "      border-right-color: var(--fill-color);\n",
              "      border-bottom-color: var(--fill-color);\n",
              "    }\n",
              "    90% {\n",
              "      border-color: transparent;\n",
              "      border-bottom-color: var(--fill-color);\n",
              "    }\n",
              "  }\n",
              "</style>\n",
              "\n",
              "  <script>\n",
              "    async function quickchart(key) {\n",
              "      const quickchartButtonEl =\n",
              "        document.querySelector('#' + key + ' button');\n",
              "      quickchartButtonEl.disabled = true;  // To prevent multiple clicks.\n",
              "      quickchartButtonEl.classList.add('colab-df-spinner');\n",
              "      try {\n",
              "        const charts = await google.colab.kernel.invokeFunction(\n",
              "            'suggestCharts', [key], {});\n",
              "      } catch (error) {\n",
              "        console.error('Error during call to suggestCharts:', error);\n",
              "      }\n",
              "      quickchartButtonEl.classList.remove('colab-df-spinner');\n",
              "      quickchartButtonEl.classList.add('colab-df-quickchart-complete');\n",
              "    }\n",
              "    (() => {\n",
              "      let quickchartButtonEl =\n",
              "        document.querySelector('#df-643e2f41-f475-436e-8ca1-f5fbb3dc28fb button');\n",
              "      quickchartButtonEl.style.display =\n",
              "        google.colab.kernel.accessAllowed ? 'block' : 'none';\n",
              "    })();\n",
              "  </script>\n",
              "</div>\n",
              "    </div>\n",
              "  </div>\n"
            ],
            "application/vnd.google.colaboratory.intrinsic+json": {
              "type": "dataframe",
              "variable_name": "df",
              "summary": "{\n  \"name\": \"df\",\n  \"rows\": 185,\n  \"fields\": [\n    {\n      \"column\": \"content\",\n      \"properties\": {\n        \"dtype\": \"string\",\n        \"num_unique_values\": 185,\n        \"samples\": [\n          \"mudah sulit daftar bolak gagal foto kendara nomor polisi foto bagus pinjam ponsel teman kamera bagus gagal foto melulu\",\n          \"aplikasi mudah sulit bug clear release aplikasi kembang ubah\",\n          \"tunggu verifikasi tanda accord tunggu\"\n        ],\n        \"semantic_type\": \"\",\n        \"description\": \"\"\n      }\n    }\n  ]\n}"
            }
          },
          "metadata": {},
          "execution_count": 70
        }
      ]
    },
    {
      "cell_type": "code",
      "source": [
        "!pip install deep_translator"
      ],
      "metadata": {
        "colab": {
          "base_uri": "https://localhost:8080/"
        },
        "id": "e69Mqh8-oJou",
        "outputId": "35d0913c-b37d-4cff-df81-67c7085722b3"
      },
      "execution_count": null,
      "outputs": [
        {
          "output_type": "stream",
          "name": "stdout",
          "text": [
            "Collecting deep_translator\n",
            "  Downloading deep_translator-1.11.4-py3-none-any.whl (42 kB)\n",
            "\u001b[?25l     \u001b[90m━━━━━━━━━━━━━━━━━━━━━━━━━━━━━━━━━━━━━━━━\u001b[0m \u001b[32m0.0/42.3 kB\u001b[0m \u001b[31m?\u001b[0m eta \u001b[36m-:--:--\u001b[0m\r\u001b[2K     \u001b[90m━━━━━━━━━━━━━━━━━━━━━━━━━━━━━━━━━━━━━━━━\u001b[0m \u001b[32m42.3/42.3 kB\u001b[0m \u001b[31m2.7 MB/s\u001b[0m eta \u001b[36m0:00:00\u001b[0m\n",
            "\u001b[?25hRequirement already satisfied: beautifulsoup4<5.0.0,>=4.9.1 in /usr/local/lib/python3.10/dist-packages (from deep_translator) (4.12.3)\n",
            "Requirement already satisfied: requests<3.0.0,>=2.23.0 in /usr/local/lib/python3.10/dist-packages (from deep_translator) (2.31.0)\n",
            "Requirement already satisfied: soupsieve>1.2 in /usr/local/lib/python3.10/dist-packages (from beautifulsoup4<5.0.0,>=4.9.1->deep_translator) (2.5)\n",
            "Requirement already satisfied: charset-normalizer<4,>=2 in /usr/local/lib/python3.10/dist-packages (from requests<3.0.0,>=2.23.0->deep_translator) (3.3.2)\n",
            "Requirement already satisfied: idna<4,>=2.5 in /usr/local/lib/python3.10/dist-packages (from requests<3.0.0,>=2.23.0->deep_translator) (3.6)\n",
            "Requirement already satisfied: urllib3<3,>=1.21.1 in /usr/local/lib/python3.10/dist-packages (from requests<3.0.0,>=2.23.0->deep_translator) (2.0.7)\n",
            "Requirement already satisfied: certifi>=2017.4.17 in /usr/local/lib/python3.10/dist-packages (from requests<3.0.0,>=2.23.0->deep_translator) (2024.2.2)\n",
            "Installing collected packages: deep_translator\n",
            "Successfully installed deep_translator-1.11.4\n"
          ]
        }
      ]
    },
    {
      "cell_type": "code",
      "source": [
        "from deep_translator import GoogleTranslator\n",
        "\n",
        "def convert_eng(tweet):\n",
        "    translator = GoogleTranslator(source='id', target='en')\n",
        "    translation = translator.translate(tweet)\n",
        "    return translation\n",
        "\n",
        "\n",
        "df['content'] = df['content'].apply(convert_eng)"
      ],
      "metadata": {
        "id": "pj_SpBcZoysy"
      },
      "execution_count": null,
      "outputs": []
    },
    {
      "cell_type": "code",
      "source": [
        "# df.to_csv(\"deep_cleaned_translated.csv\")"
      ],
      "metadata": {
        "id": "S5C9Ghdxo2ga"
      },
      "execution_count": null,
      "outputs": []
    },
    {
      "cell_type": "code",
      "source": [
        "import re\n",
        "import nltk\n",
        "from nltk.corpus import stopwords\n",
        "from nltk.tokenize import word_tokenize\n",
        "from nltk.stem import WordNetLemmatizer\n",
        "nltk.download('punkt')\n",
        "nltk.download('stopwords')\n",
        "nltk.download('wordnet')\n",
        "\n",
        "lemmatizer = WordNetLemmatizer()"
      ],
      "metadata": {
        "colab": {
          "base_uri": "https://localhost:8080/"
        },
        "id": "xC7dYksupDl2",
        "outputId": "b4319b31-3d1d-458e-c5c3-3c4dc5e5aa62"
      },
      "execution_count": null,
      "outputs": [
        {
          "output_type": "stream",
          "name": "stderr",
          "text": [
            "[nltk_data] Downloading package punkt to /root/nltk_data...\n",
            "[nltk_data]   Unzipping tokenizers/punkt.zip.\n",
            "[nltk_data] Downloading package stopwords to /root/nltk_data...\n",
            "[nltk_data]   Unzipping corpora/stopwords.zip.\n",
            "[nltk_data] Downloading package wordnet to /root/nltk_data...\n"
          ]
        }
      ]
    },
    {
      "cell_type": "code",
      "source": [
        "def preprocessing(text):\n",
        "    '''\n",
        "    1. transform all alphabet into lower case\n",
        "    2. removes all punctuation, numbers, and special character\n",
        "    '''\n",
        "    text = text.lower()\n",
        "    text = re.sub(r'[^A-Za-z]',' ', text)\n",
        "    return text\n",
        "\n",
        "def tokenization(text):\n",
        "    '''\n",
        "    split the sentence into list of words\n",
        "    '''\n",
        "    token = word_tokenize(text)\n",
        "    return token\n",
        "\n",
        "def remove_stopwords(tokenized_text):\n",
        "    '''\n",
        "    filter out stopwords from the tokenized text (list of words)\n",
        "    '''\n",
        "    words = [i for i in tokenized_text if i not in stopwords.words(\"english\")]\n",
        "    return words\n",
        "\n",
        "def lemmatization(removed_stopwords):\n",
        "    '''\n",
        "    find the root form of each word\n",
        "    '''\n",
        "    processed = [lemmatizer.lemmatize(word) for word in removed_stopwords]\n",
        "    return \" \".join(processed)"
      ],
      "metadata": {
        "id": "DrHponJvvwVU"
      },
      "execution_count": null,
      "outputs": []
    },
    {
      "cell_type": "code",
      "source": [
        "# applying the preprocessing function to the dataframe\n",
        "\n",
        "preproces = df['content'].apply(preprocessing)\n",
        "preproces[0:3]"
      ],
      "metadata": {
        "colab": {
          "base_uri": "https://localhost:8080/"
        },
        "id": "vRurXTLwvz7o",
        "outputId": "88bfaec7-730f-4eb4-9432-469018873db0"
      },
      "execution_count": null,
      "outputs": [
        {
          "output_type": "execute_result",
          "data": {
            "text/plain": [
              "0    easy application  difficult to queue  turn to ...\n",
              "1    disappointed application  police number  appea...\n",
              "2    rubbish application level change vehicle data ...\n",
              "Name: content, dtype: object"
            ]
          },
          "metadata": {},
          "execution_count": 76
        }
      ]
    },
    {
      "cell_type": "code",
      "source": [
        "# applying the tokenization function to the dataframe\n",
        "\n",
        "tokenize = preproces.apply(tokenization)\n",
        "tokenize[0:3]"
      ],
      "metadata": {
        "colab": {
          "base_uri": "https://localhost:8080/"
        },
        "id": "ILLUIO1Xv5io",
        "outputId": "e2517033-aae8-4f01-97d3-e14da231c372"
      },
      "execution_count": null,
      "outputs": [
        {
          "output_type": "execute_result",
          "data": {
            "text/plain": [
              "0    [easy, application, difficult, to, queue, turn...\n",
              "1    [disappointed, application, police, number, ap...\n",
              "2    [rubbish, application, level, change, vehicle,...\n",
              "Name: content, dtype: object"
            ]
          },
          "metadata": {},
          "execution_count": 77
        }
      ]
    },
    {
      "cell_type": "code",
      "source": [
        "# applying the remove_stopwords function to the dataframe\n",
        "\n",
        "remove_sw = tokenize.apply(remove_stopwords)\n",
        "remove_sw[0:3]"
      ],
      "metadata": {
        "colab": {
          "base_uri": "https://localhost:8080/"
        },
        "id": "dvRfKPWTv7uY",
        "outputId": "7a038976-3385-4f8c-a5f5-94ebcc725779"
      },
      "execution_count": null,
      "outputs": [
        {
          "output_type": "execute_result",
          "data": {
            "text/plain": [
              "0    [easy, application, difficult, queue, turn, sc...\n",
              "1    [disappointed, application, police, number, ap...\n",
              "2    [rubbish, application, level, change, vehicle,...\n",
              "Name: content, dtype: object"
            ]
          },
          "metadata": {},
          "execution_count": 78
        }
      ]
    },
    {
      "cell_type": "code",
      "source": [
        "# applying the lemmatization function to the dataframe\n",
        "\n",
        "lemmatize = remove_sw.apply(lemmatization)\n",
        "lemmatize[0:3]"
      ],
      "metadata": {
        "colab": {
          "base_uri": "https://localhost:8080/"
        },
        "id": "h7CQNFI-v9fW",
        "outputId": "e0b681fa-589e-4453-85c5-c6aa461e9057"
      },
      "execution_count": null,
      "outputs": [
        {
          "output_type": "execute_result",
          "data": {
            "text/plain": [
              "0    easy application difficult queue turn scan bar...\n",
              "1    disappointed application police number appeal ...\n",
              "2    rubbish application level change vehicle data ...\n",
              "Name: content, dtype: object"
            ]
          },
          "metadata": {},
          "execution_count": 79
        }
      ]
    },
    {
      "cell_type": "code",
      "source": [
        "# store preprocessed reviwes into dataframe\n",
        "\n",
        "df['preprocessed_content'] = lemmatize"
      ],
      "metadata": {
        "id": "8jux8LAqwE4u"
      },
      "execution_count": null,
      "outputs": []
    },
    {
      "cell_type": "code",
      "source": [
        "%cd '/content/drive/MyDrive/Magang/DDB/sentimen mypertamina playstore'"
      ],
      "metadata": {
        "colab": {
          "base_uri": "https://localhost:8080/"
        },
        "id": "kX-ypx2enaho",
        "outputId": "ab134549-69ad-4827-afb5-fcc3a724ab53"
      },
      "execution_count": null,
      "outputs": [
        {
          "output_type": "stream",
          "name": "stdout",
          "text": [
            "/content/drive/MyDrive/Magang/DDB/sentimen mypertamina playstore\n"
          ]
        }
      ]
    },
    {
      "cell_type": "code",
      "source": [
        "df.to_csv(\"deep_cleaned_ready_for_predict_playstore.csv\", index=False)"
      ],
      "metadata": {
        "id": "0BbLOKjOwcJp"
      },
      "execution_count": null,
      "outputs": []
    },
    {
      "cell_type": "code",
      "source": [
        "df.head()"
      ],
      "metadata": {
        "colab": {
          "base_uri": "https://localhost:8080/",
          "height": 206
        },
        "id": "8WF4W09pwUF9",
        "outputId": "cdd291e1-a03e-498a-d6d4-57f06f4518e2"
      },
      "execution_count": null,
      "outputs": [
        {
          "output_type": "execute_result",
          "data": {
            "text/plain": [
              "                                             content  \\\n",
              "0  easy application, difficult to queue, turn to ...   \n",
              "1  Disappointed application, police number, appea...   \n",
              "2  rubbish application level change vehicle data ...   \n",
              "3  Confused application, list, difficult, convolu...   \n",
              "4  Suggestions for the biodata content page on An...   \n",
              "\n",
              "                                preprocessed_content  \n",
              "0  easy application difficult queue turn scan bar...  \n",
              "1  disappointed application police number appeal ...  \n",
              "2  rubbish application level change vehicle data ...  \n",
              "3  confused application list difficult convoluted...  \n",
              "4  suggestion biodata content page android select...  "
            ],
            "text/html": [
              "\n",
              "  <div id=\"df-f6bf9a82-dec3-4f7e-b630-e48056dbfd67\" class=\"colab-df-container\">\n",
              "    <div>\n",
              "<style scoped>\n",
              "    .dataframe tbody tr th:only-of-type {\n",
              "        vertical-align: middle;\n",
              "    }\n",
              "\n",
              "    .dataframe tbody tr th {\n",
              "        vertical-align: top;\n",
              "    }\n",
              "\n",
              "    .dataframe thead th {\n",
              "        text-align: right;\n",
              "    }\n",
              "</style>\n",
              "<table border=\"1\" class=\"dataframe\">\n",
              "  <thead>\n",
              "    <tr style=\"text-align: right;\">\n",
              "      <th></th>\n",
              "      <th>content</th>\n",
              "      <th>preprocessed_content</th>\n",
              "    </tr>\n",
              "  </thead>\n",
              "  <tbody>\n",
              "    <tr>\n",
              "      <th>0</th>\n",
              "      <td>easy application, difficult to queue, turn to ...</td>\n",
              "      <td>easy application difficult queue turn scan bar...</td>\n",
              "    </tr>\n",
              "    <tr>\n",
              "      <th>1</th>\n",
              "      <td>Disappointed application, police number, appea...</td>\n",
              "      <td>disappointed application police number appeal ...</td>\n",
              "    </tr>\n",
              "    <tr>\n",
              "      <th>2</th>\n",
              "      <td>rubbish application level change vehicle data ...</td>\n",
              "      <td>rubbish application level change vehicle data ...</td>\n",
              "    </tr>\n",
              "    <tr>\n",
              "      <th>3</th>\n",
              "      <td>Confused application, list, difficult, convolu...</td>\n",
              "      <td>confused application list difficult convoluted...</td>\n",
              "    </tr>\n",
              "    <tr>\n",
              "      <th>4</th>\n",
              "      <td>Suggestions for the biodata content page on An...</td>\n",
              "      <td>suggestion biodata content page android select...</td>\n",
              "    </tr>\n",
              "  </tbody>\n",
              "</table>\n",
              "</div>\n",
              "    <div class=\"colab-df-buttons\">\n",
              "\n",
              "  <div class=\"colab-df-container\">\n",
              "    <button class=\"colab-df-convert\" onclick=\"convertToInteractive('df-f6bf9a82-dec3-4f7e-b630-e48056dbfd67')\"\n",
              "            title=\"Convert this dataframe to an interactive table.\"\n",
              "            style=\"display:none;\">\n",
              "\n",
              "  <svg xmlns=\"http://www.w3.org/2000/svg\" height=\"24px\" viewBox=\"0 -960 960 960\">\n",
              "    <path d=\"M120-120v-720h720v720H120Zm60-500h600v-160H180v160Zm220 220h160v-160H400v160Zm0 220h160v-160H400v160ZM180-400h160v-160H180v160Zm440 0h160v-160H620v160ZM180-180h160v-160H180v160Zm440 0h160v-160H620v160Z\"/>\n",
              "  </svg>\n",
              "    </button>\n",
              "\n",
              "  <style>\n",
              "    .colab-df-container {\n",
              "      display:flex;\n",
              "      gap: 12px;\n",
              "    }\n",
              "\n",
              "    .colab-df-convert {\n",
              "      background-color: #E8F0FE;\n",
              "      border: none;\n",
              "      border-radius: 50%;\n",
              "      cursor: pointer;\n",
              "      display: none;\n",
              "      fill: #1967D2;\n",
              "      height: 32px;\n",
              "      padding: 0 0 0 0;\n",
              "      width: 32px;\n",
              "    }\n",
              "\n",
              "    .colab-df-convert:hover {\n",
              "      background-color: #E2EBFA;\n",
              "      box-shadow: 0px 1px 2px rgba(60, 64, 67, 0.3), 0px 1px 3px 1px rgba(60, 64, 67, 0.15);\n",
              "      fill: #174EA6;\n",
              "    }\n",
              "\n",
              "    .colab-df-buttons div {\n",
              "      margin-bottom: 4px;\n",
              "    }\n",
              "\n",
              "    [theme=dark] .colab-df-convert {\n",
              "      background-color: #3B4455;\n",
              "      fill: #D2E3FC;\n",
              "    }\n",
              "\n",
              "    [theme=dark] .colab-df-convert:hover {\n",
              "      background-color: #434B5C;\n",
              "      box-shadow: 0px 1px 3px 1px rgba(0, 0, 0, 0.15);\n",
              "      filter: drop-shadow(0px 1px 2px rgba(0, 0, 0, 0.3));\n",
              "      fill: #FFFFFF;\n",
              "    }\n",
              "  </style>\n",
              "\n",
              "    <script>\n",
              "      const buttonEl =\n",
              "        document.querySelector('#df-f6bf9a82-dec3-4f7e-b630-e48056dbfd67 button.colab-df-convert');\n",
              "      buttonEl.style.display =\n",
              "        google.colab.kernel.accessAllowed ? 'block' : 'none';\n",
              "\n",
              "      async function convertToInteractive(key) {\n",
              "        const element = document.querySelector('#df-f6bf9a82-dec3-4f7e-b630-e48056dbfd67');\n",
              "        const dataTable =\n",
              "          await google.colab.kernel.invokeFunction('convertToInteractive',\n",
              "                                                    [key], {});\n",
              "        if (!dataTable) return;\n",
              "\n",
              "        const docLinkHtml = 'Like what you see? Visit the ' +\n",
              "          '<a target=\"_blank\" href=https://colab.research.google.com/notebooks/data_table.ipynb>data table notebook</a>'\n",
              "          + ' to learn more about interactive tables.';\n",
              "        element.innerHTML = '';\n",
              "        dataTable['output_type'] = 'display_data';\n",
              "        await google.colab.output.renderOutput(dataTable, element);\n",
              "        const docLink = document.createElement('div');\n",
              "        docLink.innerHTML = docLinkHtml;\n",
              "        element.appendChild(docLink);\n",
              "      }\n",
              "    </script>\n",
              "  </div>\n",
              "\n",
              "\n",
              "<div id=\"df-055fc0be-a6fc-4217-ae82-2cfc3b41cf3f\">\n",
              "  <button class=\"colab-df-quickchart\" onclick=\"quickchart('df-055fc0be-a6fc-4217-ae82-2cfc3b41cf3f')\"\n",
              "            title=\"Suggest charts\"\n",
              "            style=\"display:none;\">\n",
              "\n",
              "<svg xmlns=\"http://www.w3.org/2000/svg\" height=\"24px\"viewBox=\"0 0 24 24\"\n",
              "     width=\"24px\">\n",
              "    <g>\n",
              "        <path d=\"M19 3H5c-1.1 0-2 .9-2 2v14c0 1.1.9 2 2 2h14c1.1 0 2-.9 2-2V5c0-1.1-.9-2-2-2zM9 17H7v-7h2v7zm4 0h-2V7h2v10zm4 0h-2v-4h2v4z\"/>\n",
              "    </g>\n",
              "</svg>\n",
              "  </button>\n",
              "\n",
              "<style>\n",
              "  .colab-df-quickchart {\n",
              "      --bg-color: #E8F0FE;\n",
              "      --fill-color: #1967D2;\n",
              "      --hover-bg-color: #E2EBFA;\n",
              "      --hover-fill-color: #174EA6;\n",
              "      --disabled-fill-color: #AAA;\n",
              "      --disabled-bg-color: #DDD;\n",
              "  }\n",
              "\n",
              "  [theme=dark] .colab-df-quickchart {\n",
              "      --bg-color: #3B4455;\n",
              "      --fill-color: #D2E3FC;\n",
              "      --hover-bg-color: #434B5C;\n",
              "      --hover-fill-color: #FFFFFF;\n",
              "      --disabled-bg-color: #3B4455;\n",
              "      --disabled-fill-color: #666;\n",
              "  }\n",
              "\n",
              "  .colab-df-quickchart {\n",
              "    background-color: var(--bg-color);\n",
              "    border: none;\n",
              "    border-radius: 50%;\n",
              "    cursor: pointer;\n",
              "    display: none;\n",
              "    fill: var(--fill-color);\n",
              "    height: 32px;\n",
              "    padding: 0;\n",
              "    width: 32px;\n",
              "  }\n",
              "\n",
              "  .colab-df-quickchart:hover {\n",
              "    background-color: var(--hover-bg-color);\n",
              "    box-shadow: 0 1px 2px rgba(60, 64, 67, 0.3), 0 1px 3px 1px rgba(60, 64, 67, 0.15);\n",
              "    fill: var(--button-hover-fill-color);\n",
              "  }\n",
              "\n",
              "  .colab-df-quickchart-complete:disabled,\n",
              "  .colab-df-quickchart-complete:disabled:hover {\n",
              "    background-color: var(--disabled-bg-color);\n",
              "    fill: var(--disabled-fill-color);\n",
              "    box-shadow: none;\n",
              "  }\n",
              "\n",
              "  .colab-df-spinner {\n",
              "    border: 2px solid var(--fill-color);\n",
              "    border-color: transparent;\n",
              "    border-bottom-color: var(--fill-color);\n",
              "    animation:\n",
              "      spin 1s steps(1) infinite;\n",
              "  }\n",
              "\n",
              "  @keyframes spin {\n",
              "    0% {\n",
              "      border-color: transparent;\n",
              "      border-bottom-color: var(--fill-color);\n",
              "      border-left-color: var(--fill-color);\n",
              "    }\n",
              "    20% {\n",
              "      border-color: transparent;\n",
              "      border-left-color: var(--fill-color);\n",
              "      border-top-color: var(--fill-color);\n",
              "    }\n",
              "    30% {\n",
              "      border-color: transparent;\n",
              "      border-left-color: var(--fill-color);\n",
              "      border-top-color: var(--fill-color);\n",
              "      border-right-color: var(--fill-color);\n",
              "    }\n",
              "    40% {\n",
              "      border-color: transparent;\n",
              "      border-right-color: var(--fill-color);\n",
              "      border-top-color: var(--fill-color);\n",
              "    }\n",
              "    60% {\n",
              "      border-color: transparent;\n",
              "      border-right-color: var(--fill-color);\n",
              "    }\n",
              "    80% {\n",
              "      border-color: transparent;\n",
              "      border-right-color: var(--fill-color);\n",
              "      border-bottom-color: var(--fill-color);\n",
              "    }\n",
              "    90% {\n",
              "      border-color: transparent;\n",
              "      border-bottom-color: var(--fill-color);\n",
              "    }\n",
              "  }\n",
              "</style>\n",
              "\n",
              "  <script>\n",
              "    async function quickchart(key) {\n",
              "      const quickchartButtonEl =\n",
              "        document.querySelector('#' + key + ' button');\n",
              "      quickchartButtonEl.disabled = true;  // To prevent multiple clicks.\n",
              "      quickchartButtonEl.classList.add('colab-df-spinner');\n",
              "      try {\n",
              "        const charts = await google.colab.kernel.invokeFunction(\n",
              "            'suggestCharts', [key], {});\n",
              "      } catch (error) {\n",
              "        console.error('Error during call to suggestCharts:', error);\n",
              "      }\n",
              "      quickchartButtonEl.classList.remove('colab-df-spinner');\n",
              "      quickchartButtonEl.classList.add('colab-df-quickchart-complete');\n",
              "    }\n",
              "    (() => {\n",
              "      let quickchartButtonEl =\n",
              "        document.querySelector('#df-055fc0be-a6fc-4217-ae82-2cfc3b41cf3f button');\n",
              "      quickchartButtonEl.style.display =\n",
              "        google.colab.kernel.accessAllowed ? 'block' : 'none';\n",
              "    })();\n",
              "  </script>\n",
              "</div>\n",
              "    </div>\n",
              "  </div>\n"
            ],
            "application/vnd.google.colaboratory.intrinsic+json": {
              "type": "dataframe",
              "variable_name": "df",
              "summary": "{\n  \"name\": \"df\",\n  \"rows\": 185,\n  \"fields\": [\n    {\n      \"column\": \"content\",\n      \"properties\": {\n        \"dtype\": \"string\",\n        \"num_unique_values\": 185,\n        \"samples\": [\n          \"easy, difficult, registering back and forth, failed to take a photo of the vehicle's license plate number, good photos, borrowing a friend's cell phone, good camera, just failed to take photos\",\n          \"easy application difficult bug clear release application development change\",\n          \"wait for accord sign verification wait\"\n        ],\n        \"semantic_type\": \"\",\n        \"description\": \"\"\n      }\n    },\n    {\n      \"column\": \"preprocessed_content\",\n      \"properties\": {\n        \"dtype\": \"string\",\n        \"num_unique_values\": 185,\n        \"samples\": [\n          \"easy difficult registering back forth failed take photo vehicle license plate number good photo borrowing friend cell phone good camera failed take photo\",\n          \"easy application difficult bug clear release application development change\",\n          \"wait accord sign verification wait\"\n        ],\n        \"semantic_type\": \"\",\n        \"description\": \"\"\n      }\n    }\n  ]\n}"
            }
          },
          "metadata": {},
          "execution_count": 83
        }
      ]
    },
    {
      "cell_type": "code",
      "source": [],
      "metadata": {
        "id": "xG45OxojxttN"
      },
      "execution_count": null,
      "outputs": []
    }
  ]
}